{
  "cells": [
    {
      "cell_type": "code",
      "execution_count": 1,
      "metadata": {
        "id": "3zZz-FIICMym"
      },
      "outputs": [],
      "source": [
        "import pandas as pd\n",
        "import matplotlib.pyplot as plt\n",
        "from collections import Counter\n",
        "import random\n",
        "from joblib import dump, load\n",
        "from sklearn.model_selection import *\n",
        "import numpy as np"
      ]
    },
    {
      "cell_type": "code",
      "source": [
        "from warnings import simplefilter\n",
        "from sklearn.exceptions import ConvergenceWarning\n",
        "simplefilter(\"ignore\", category=ConvergenceWarning)"
      ],
      "metadata": {
        "id": "rBE31BteVvU-"
      },
      "execution_count": 2,
      "outputs": []
    },
    {
      "cell_type": "code",
      "execution_count": 3,
      "metadata": {
        "id": "dC-Yly_uCMyp"
      },
      "outputs": [],
      "source": [
        "train = pd.read_csv(\"https://raw.githubusercontent.com/NITHISHM2410/Alzheimers-Detection-and-Classification/main/data/train.csv\")\n",
        "test = pd.read_csv(\"https://raw.githubusercontent.com/NITHISHM2410/Alzheimers-Detection-and-Classification/main/data/test.csv\")"
      ]
    },
    {
      "cell_type": "code",
      "source": [
        "train.head()"
      ],
      "metadata": {
        "colab": {
          "base_uri": "https://localhost:8080/",
          "height": 236
        },
        "id": "1OZioiBrxv_1",
        "outputId": "4523ad26-3365-4aeb-c1a1-c326e8fbd11a"
      },
      "execution_count": 4,
      "outputs": [
        {
          "output_type": "execute_result",
          "data": {
            "text/plain": [
              "          0         1         2         3         4         5         6  \\\n",
              "0 -4.671772 -3.461845 -2.066095 -1.655069 -0.425867  1.058435  1.061260   \n",
              "1  3.709384  5.854395 -1.384827 -1.124265  0.790696  1.943475  7.114905   \n",
              "2 -2.362995 -3.398816  0.020892 -2.548365 -4.195050 -4.611305 -3.965788   \n",
              "3  2.647627 -1.865227  6.627169 -2.410136 -4.767218 -5.702431 -6.164886   \n",
              "4 -4.786032 -5.087481 -3.308594 -2.084521 -1.936765 -1.175357 -2.836520   \n",
              "\n",
              "          7         8         9  ...        11        12        13        14  \\\n",
              "0  2.250484  2.426598  3.685450  ...  6.722083  3.572923  2.853526  4.195000   \n",
              "1 -7.119885 -6.989324 -6.979079  ...  2.242756 -5.141433 -8.236650 -8.434049   \n",
              "2  3.069318 -0.961480 -4.775025  ... -1.448561  7.589728  1.999001 -3.703594   \n",
              "3  4.241711 -5.237383 -8.853911  ... -9.884784  0.447057 -5.166823 -8.447102   \n",
              "4 -5.077035 -0.245455  3.847386  ...  5.343685 -3.875226 -0.438329  4.010690   \n",
              "\n",
              "          15        16        17        18      19        20  \n",
              "0   6.727384  8.029945  2.267263  4.195754    open   healthy  \n",
              "1  -8.023826 -2.355864 -2.595016 -1.807263    open  alzeimer  \n",
              "2  -1.602367  4.475797  4.416044  2.892512  closed   healthy  \n",
              "3 -10.749571 -7.964412 -1.510996 -4.091464  closed  alzeimer  \n",
              "4   9.268739  9.678826  2.347711  7.895276  closed  alzeimer  \n",
              "\n",
              "[5 rows x 21 columns]"
            ],
            "text/html": [
              "\n",
              "  <div id=\"df-63475045-d0e7-4b2e-b36b-4dea1b7e0a4f\">\n",
              "    <div class=\"colab-df-container\">\n",
              "      <div>\n",
              "<style scoped>\n",
              "    .dataframe tbody tr th:only-of-type {\n",
              "        vertical-align: middle;\n",
              "    }\n",
              "\n",
              "    .dataframe tbody tr th {\n",
              "        vertical-align: top;\n",
              "    }\n",
              "\n",
              "    .dataframe thead th {\n",
              "        text-align: right;\n",
              "    }\n",
              "</style>\n",
              "<table border=\"1\" class=\"dataframe\">\n",
              "  <thead>\n",
              "    <tr style=\"text-align: right;\">\n",
              "      <th></th>\n",
              "      <th>0</th>\n",
              "      <th>1</th>\n",
              "      <th>2</th>\n",
              "      <th>3</th>\n",
              "      <th>4</th>\n",
              "      <th>5</th>\n",
              "      <th>6</th>\n",
              "      <th>7</th>\n",
              "      <th>8</th>\n",
              "      <th>9</th>\n",
              "      <th>...</th>\n",
              "      <th>11</th>\n",
              "      <th>12</th>\n",
              "      <th>13</th>\n",
              "      <th>14</th>\n",
              "      <th>15</th>\n",
              "      <th>16</th>\n",
              "      <th>17</th>\n",
              "      <th>18</th>\n",
              "      <th>19</th>\n",
              "      <th>20</th>\n",
              "    </tr>\n",
              "  </thead>\n",
              "  <tbody>\n",
              "    <tr>\n",
              "      <th>0</th>\n",
              "      <td>-4.671772</td>\n",
              "      <td>-3.461845</td>\n",
              "      <td>-2.066095</td>\n",
              "      <td>-1.655069</td>\n",
              "      <td>-0.425867</td>\n",
              "      <td>1.058435</td>\n",
              "      <td>1.061260</td>\n",
              "      <td>2.250484</td>\n",
              "      <td>2.426598</td>\n",
              "      <td>3.685450</td>\n",
              "      <td>...</td>\n",
              "      <td>6.722083</td>\n",
              "      <td>3.572923</td>\n",
              "      <td>2.853526</td>\n",
              "      <td>4.195000</td>\n",
              "      <td>6.727384</td>\n",
              "      <td>8.029945</td>\n",
              "      <td>2.267263</td>\n",
              "      <td>4.195754</td>\n",
              "      <td>open</td>\n",
              "      <td>healthy</td>\n",
              "    </tr>\n",
              "    <tr>\n",
              "      <th>1</th>\n",
              "      <td>3.709384</td>\n",
              "      <td>5.854395</td>\n",
              "      <td>-1.384827</td>\n",
              "      <td>-1.124265</td>\n",
              "      <td>0.790696</td>\n",
              "      <td>1.943475</td>\n",
              "      <td>7.114905</td>\n",
              "      <td>-7.119885</td>\n",
              "      <td>-6.989324</td>\n",
              "      <td>-6.979079</td>\n",
              "      <td>...</td>\n",
              "      <td>2.242756</td>\n",
              "      <td>-5.141433</td>\n",
              "      <td>-8.236650</td>\n",
              "      <td>-8.434049</td>\n",
              "      <td>-8.023826</td>\n",
              "      <td>-2.355864</td>\n",
              "      <td>-2.595016</td>\n",
              "      <td>-1.807263</td>\n",
              "      <td>open</td>\n",
              "      <td>alzeimer</td>\n",
              "    </tr>\n",
              "    <tr>\n",
              "      <th>2</th>\n",
              "      <td>-2.362995</td>\n",
              "      <td>-3.398816</td>\n",
              "      <td>0.020892</td>\n",
              "      <td>-2.548365</td>\n",
              "      <td>-4.195050</td>\n",
              "      <td>-4.611305</td>\n",
              "      <td>-3.965788</td>\n",
              "      <td>3.069318</td>\n",
              "      <td>-0.961480</td>\n",
              "      <td>-4.775025</td>\n",
              "      <td>...</td>\n",
              "      <td>-1.448561</td>\n",
              "      <td>7.589728</td>\n",
              "      <td>1.999001</td>\n",
              "      <td>-3.703594</td>\n",
              "      <td>-1.602367</td>\n",
              "      <td>4.475797</td>\n",
              "      <td>4.416044</td>\n",
              "      <td>2.892512</td>\n",
              "      <td>closed</td>\n",
              "      <td>healthy</td>\n",
              "    </tr>\n",
              "    <tr>\n",
              "      <th>3</th>\n",
              "      <td>2.647627</td>\n",
              "      <td>-1.865227</td>\n",
              "      <td>6.627169</td>\n",
              "      <td>-2.410136</td>\n",
              "      <td>-4.767218</td>\n",
              "      <td>-5.702431</td>\n",
              "      <td>-6.164886</td>\n",
              "      <td>4.241711</td>\n",
              "      <td>-5.237383</td>\n",
              "      <td>-8.853911</td>\n",
              "      <td>...</td>\n",
              "      <td>-9.884784</td>\n",
              "      <td>0.447057</td>\n",
              "      <td>-5.166823</td>\n",
              "      <td>-8.447102</td>\n",
              "      <td>-10.749571</td>\n",
              "      <td>-7.964412</td>\n",
              "      <td>-1.510996</td>\n",
              "      <td>-4.091464</td>\n",
              "      <td>closed</td>\n",
              "      <td>alzeimer</td>\n",
              "    </tr>\n",
              "    <tr>\n",
              "      <th>4</th>\n",
              "      <td>-4.786032</td>\n",
              "      <td>-5.087481</td>\n",
              "      <td>-3.308594</td>\n",
              "      <td>-2.084521</td>\n",
              "      <td>-1.936765</td>\n",
              "      <td>-1.175357</td>\n",
              "      <td>-2.836520</td>\n",
              "      <td>-5.077035</td>\n",
              "      <td>-0.245455</td>\n",
              "      <td>3.847386</td>\n",
              "      <td>...</td>\n",
              "      <td>5.343685</td>\n",
              "      <td>-3.875226</td>\n",
              "      <td>-0.438329</td>\n",
              "      <td>4.010690</td>\n",
              "      <td>9.268739</td>\n",
              "      <td>9.678826</td>\n",
              "      <td>2.347711</td>\n",
              "      <td>7.895276</td>\n",
              "      <td>closed</td>\n",
              "      <td>alzeimer</td>\n",
              "    </tr>\n",
              "  </tbody>\n",
              "</table>\n",
              "<p>5 rows × 21 columns</p>\n",
              "</div>\n",
              "      <button class=\"colab-df-convert\" onclick=\"convertToInteractive('df-63475045-d0e7-4b2e-b36b-4dea1b7e0a4f')\"\n",
              "              title=\"Convert this dataframe to an interactive table.\"\n",
              "              style=\"display:none;\">\n",
              "        \n",
              "  <svg xmlns=\"http://www.w3.org/2000/svg\" height=\"24px\"viewBox=\"0 0 24 24\"\n",
              "       width=\"24px\">\n",
              "    <path d=\"M0 0h24v24H0V0z\" fill=\"none\"/>\n",
              "    <path d=\"M18.56 5.44l.94 2.06.94-2.06 2.06-.94-2.06-.94-.94-2.06-.94 2.06-2.06.94zm-11 1L8.5 8.5l.94-2.06 2.06-.94-2.06-.94L8.5 2.5l-.94 2.06-2.06.94zm10 10l.94 2.06.94-2.06 2.06-.94-2.06-.94-.94-2.06-.94 2.06-2.06.94z\"/><path d=\"M17.41 7.96l-1.37-1.37c-.4-.4-.92-.59-1.43-.59-.52 0-1.04.2-1.43.59L10.3 9.45l-7.72 7.72c-.78.78-.78 2.05 0 2.83L4 21.41c.39.39.9.59 1.41.59.51 0 1.02-.2 1.41-.59l7.78-7.78 2.81-2.81c.8-.78.8-2.07 0-2.86zM5.41 20L4 18.59l7.72-7.72 1.47 1.35L5.41 20z\"/>\n",
              "  </svg>\n",
              "      </button>\n",
              "      \n",
              "  <style>\n",
              "    .colab-df-container {\n",
              "      display:flex;\n",
              "      flex-wrap:wrap;\n",
              "      gap: 12px;\n",
              "    }\n",
              "\n",
              "    .colab-df-convert {\n",
              "      background-color: #E8F0FE;\n",
              "      border: none;\n",
              "      border-radius: 50%;\n",
              "      cursor: pointer;\n",
              "      display: none;\n",
              "      fill: #1967D2;\n",
              "      height: 32px;\n",
              "      padding: 0 0 0 0;\n",
              "      width: 32px;\n",
              "    }\n",
              "\n",
              "    .colab-df-convert:hover {\n",
              "      background-color: #E2EBFA;\n",
              "      box-shadow: 0px 1px 2px rgba(60, 64, 67, 0.3), 0px 1px 3px 1px rgba(60, 64, 67, 0.15);\n",
              "      fill: #174EA6;\n",
              "    }\n",
              "\n",
              "    [theme=dark] .colab-df-convert {\n",
              "      background-color: #3B4455;\n",
              "      fill: #D2E3FC;\n",
              "    }\n",
              "\n",
              "    [theme=dark] .colab-df-convert:hover {\n",
              "      background-color: #434B5C;\n",
              "      box-shadow: 0px 1px 3px 1px rgba(0, 0, 0, 0.15);\n",
              "      filter: drop-shadow(0px 1px 2px rgba(0, 0, 0, 0.3));\n",
              "      fill: #FFFFFF;\n",
              "    }\n",
              "  </style>\n",
              "\n",
              "      <script>\n",
              "        const buttonEl =\n",
              "          document.querySelector('#df-63475045-d0e7-4b2e-b36b-4dea1b7e0a4f button.colab-df-convert');\n",
              "        buttonEl.style.display =\n",
              "          google.colab.kernel.accessAllowed ? 'block' : 'none';\n",
              "\n",
              "        async function convertToInteractive(key) {\n",
              "          const element = document.querySelector('#df-63475045-d0e7-4b2e-b36b-4dea1b7e0a4f');\n",
              "          const dataTable =\n",
              "            await google.colab.kernel.invokeFunction('convertToInteractive',\n",
              "                                                     [key], {});\n",
              "          if (!dataTable) return;\n",
              "\n",
              "          const docLinkHtml = 'Like what you see? Visit the ' +\n",
              "            '<a target=\"_blank\" href=https://colab.research.google.com/notebooks/data_table.ipynb>data table notebook</a>'\n",
              "            + ' to learn more about interactive tables.';\n",
              "          element.innerHTML = '';\n",
              "          dataTable['output_type'] = 'display_data';\n",
              "          await google.colab.output.renderOutput(dataTable, element);\n",
              "          const docLink = document.createElement('div');\n",
              "          docLink.innerHTML = docLinkHtml;\n",
              "          element.appendChild(docLink);\n",
              "        }\n",
              "      </script>\n",
              "    </div>\n",
              "  </div>\n",
              "  "
            ]
          },
          "metadata": {},
          "execution_count": 4
        }
      ]
    },
    {
      "cell_type": "code",
      "execution_count": 5,
      "metadata": {
        "colab": {
          "base_uri": "https://localhost:8080/"
        },
        "id": "jd18anLSCMyq",
        "outputId": "5122004e-46f8-4a39-ecd4-a43877acb183"
      },
      "outputs": [
        {
          "output_type": "stream",
          "name": "stdout",
          "text": [
            "<class 'pandas.core.frame.DataFrame'>\n",
            "RangeIndex: 160 entries, 0 to 159\n",
            "Data columns (total 21 columns):\n",
            " #   Column  Non-Null Count  Dtype  \n",
            "---  ------  --------------  -----  \n",
            " 0   0       160 non-null    float64\n",
            " 1   1       160 non-null    float64\n",
            " 2   2       160 non-null    float64\n",
            " 3   3       160 non-null    float64\n",
            " 4   4       160 non-null    float64\n",
            " 5   5       160 non-null    float64\n",
            " 6   6       160 non-null    float64\n",
            " 7   7       160 non-null    float64\n",
            " 8   8       160 non-null    float64\n",
            " 9   9       160 non-null    float64\n",
            " 10  10      160 non-null    float64\n",
            " 11  11      160 non-null    float64\n",
            " 12  12      160 non-null    float64\n",
            " 13  13      160 non-null    float64\n",
            " 14  14      160 non-null    float64\n",
            " 15  15      160 non-null    float64\n",
            " 16  16      160 non-null    float64\n",
            " 17  17      160 non-null    float64\n",
            " 18  18      160 non-null    float64\n",
            " 19  19      160 non-null    object \n",
            " 20  20      160 non-null    object \n",
            "dtypes: float64(19), object(2)\n",
            "memory usage: 26.4+ KB\n"
          ]
        }
      ],
      "source": [
        "train.info(verbose=True)"
      ]
    },
    {
      "cell_type": "code",
      "source": [
        "test.info(verbose=True)"
      ],
      "metadata": {
        "colab": {
          "base_uri": "https://localhost:8080/"
        },
        "id": "a-XbWDxZuTB0",
        "outputId": "58a59bf7-29a6-4847-f884-dbc9a84b9360"
      },
      "execution_count": 6,
      "outputs": [
        {
          "output_type": "stream",
          "name": "stdout",
          "text": [
            "<class 'pandas.core.frame.DataFrame'>\n",
            "RangeIndex: 32 entries, 0 to 31\n",
            "Data columns (total 21 columns):\n",
            " #   Column  Non-Null Count  Dtype  \n",
            "---  ------  --------------  -----  \n",
            " 0   0       32 non-null     float64\n",
            " 1   1       32 non-null     float64\n",
            " 2   2       32 non-null     float64\n",
            " 3   3       32 non-null     float64\n",
            " 4   4       32 non-null     float64\n",
            " 5   5       32 non-null     float64\n",
            " 6   6       32 non-null     float64\n",
            " 7   7       32 non-null     float64\n",
            " 8   8       32 non-null     float64\n",
            " 9   9       32 non-null     float64\n",
            " 10  10      32 non-null     float64\n",
            " 11  11      32 non-null     float64\n",
            " 12  12      32 non-null     float64\n",
            " 13  13      32 non-null     float64\n",
            " 14  14      32 non-null     float64\n",
            " 15  15      32 non-null     float64\n",
            " 16  16      32 non-null     float64\n",
            " 17  17      32 non-null     float64\n",
            " 18  18      32 non-null     float64\n",
            " 19  19      32 non-null     object \n",
            " 20  20      32 non-null     object \n",
            "dtypes: float64(19), object(2)\n",
            "memory usage: 5.4+ KB\n"
          ]
        }
      ]
    },
    {
      "cell_type": "code",
      "execution_count": 7,
      "metadata": {
        "colab": {
          "base_uri": "https://localhost:8080/",
          "height": 300
        },
        "id": "90aOHrsUCMyq",
        "outputId": "49ce49c5-75dd-483b-ee57-9dcd1e595a44"
      },
      "outputs": [
        {
          "output_type": "execute_result",
          "data": {
            "text/plain": [
              "                0           1           2           3           4           5  \\\n",
              "count  160.000000  160.000000  160.000000  160.000000  160.000000  160.000000   \n",
              "mean    -2.889218   -2.881959   -1.351741   -2.649713   -3.175289   -2.970533   \n",
              "std      4.079779    4.401890    4.445836    4.182481    4.414129    4.467101   \n",
              "min     -9.281637  -11.636408   -9.984884  -11.778651  -11.231328  -11.617553   \n",
              "25%     -6.072569   -6.303121   -4.362666   -5.052422   -5.832099   -7.012128   \n",
              "50%     -4.319531   -4.362244   -1.892443   -3.008476   -3.109750   -2.603046   \n",
              "75%      1.192704    1.966050    1.900801   -0.410054   -0.315213    0.279401   \n",
              "max      4.948767    6.623631    9.102465    6.303770    5.635296    6.727885   \n",
              "\n",
              "                6           7           8           9          10          11  \\\n",
              "count  160.000000  160.000000  160.000000  160.000000  160.000000  160.000000   \n",
              "mean    -1.772521    2.003331   -0.905472   -2.215424   -2.106193   -0.200659   \n",
              "std      4.786825    4.220126    4.652227    4.938526    4.998106    4.558931   \n",
              "min    -10.845704   -7.231953  -10.659958  -12.124792  -11.779361   -9.884784   \n",
              "25%     -5.659107   -1.052742   -4.848603   -6.694775   -5.444280   -3.483485   \n",
              "50%     -1.749047    2.473684    0.172482   -1.179294   -2.842408   -0.487219   \n",
              "75%      1.683536    5.291458    2.542227    2.011384    1.540628    3.164303   \n",
              "max      9.275361    9.494421    7.993840    6.279736    7.806767    9.154714   \n",
              "\n",
              "               12          13          14          15          16          17  \\\n",
              "count  160.000000  160.000000  160.000000  160.000000  160.000000  160.000000   \n",
              "mean     1.631469    0.282932   -1.110218   -1.259794   -0.163505   -0.172615   \n",
              "std      4.562768    4.726951    4.370161    4.876666    4.766065    3.886714   \n",
              "min     -8.862269   -8.826442   -8.574989  -10.803057   -8.843943   -8.893015   \n",
              "25%     -1.075347   -3.534259   -4.573720   -5.352598   -3.951318   -2.839461   \n",
              "50%      1.441204   -0.127036   -1.570100   -1.477903   -1.216460    0.062631   \n",
              "75%      4.949566    4.238732    2.903204    2.035618    3.346907    2.283574   \n",
              "max     11.561672   10.673328    8.502620    9.701786    9.678826   11.102000   \n",
              "\n",
              "               18  \n",
              "count  160.000000  \n",
              "mean    -0.686937  \n",
              "std      4.092512  \n",
              "min     -8.930116  \n",
              "25%     -4.385447  \n",
              "50%     -0.480463  \n",
              "75%      2.755194  \n",
              "max      8.043249  "
            ],
            "text/html": [
              "\n",
              "  <div id=\"df-026ab869-cadf-4672-8353-2f0aeb4431f1\">\n",
              "    <div class=\"colab-df-container\">\n",
              "      <div>\n",
              "<style scoped>\n",
              "    .dataframe tbody tr th:only-of-type {\n",
              "        vertical-align: middle;\n",
              "    }\n",
              "\n",
              "    .dataframe tbody tr th {\n",
              "        vertical-align: top;\n",
              "    }\n",
              "\n",
              "    .dataframe thead th {\n",
              "        text-align: right;\n",
              "    }\n",
              "</style>\n",
              "<table border=\"1\" class=\"dataframe\">\n",
              "  <thead>\n",
              "    <tr style=\"text-align: right;\">\n",
              "      <th></th>\n",
              "      <th>0</th>\n",
              "      <th>1</th>\n",
              "      <th>2</th>\n",
              "      <th>3</th>\n",
              "      <th>4</th>\n",
              "      <th>5</th>\n",
              "      <th>6</th>\n",
              "      <th>7</th>\n",
              "      <th>8</th>\n",
              "      <th>9</th>\n",
              "      <th>10</th>\n",
              "      <th>11</th>\n",
              "      <th>12</th>\n",
              "      <th>13</th>\n",
              "      <th>14</th>\n",
              "      <th>15</th>\n",
              "      <th>16</th>\n",
              "      <th>17</th>\n",
              "      <th>18</th>\n",
              "    </tr>\n",
              "  </thead>\n",
              "  <tbody>\n",
              "    <tr>\n",
              "      <th>count</th>\n",
              "      <td>160.000000</td>\n",
              "      <td>160.000000</td>\n",
              "      <td>160.000000</td>\n",
              "      <td>160.000000</td>\n",
              "      <td>160.000000</td>\n",
              "      <td>160.000000</td>\n",
              "      <td>160.000000</td>\n",
              "      <td>160.000000</td>\n",
              "      <td>160.000000</td>\n",
              "      <td>160.000000</td>\n",
              "      <td>160.000000</td>\n",
              "      <td>160.000000</td>\n",
              "      <td>160.000000</td>\n",
              "      <td>160.000000</td>\n",
              "      <td>160.000000</td>\n",
              "      <td>160.000000</td>\n",
              "      <td>160.000000</td>\n",
              "      <td>160.000000</td>\n",
              "      <td>160.000000</td>\n",
              "    </tr>\n",
              "    <tr>\n",
              "      <th>mean</th>\n",
              "      <td>-2.889218</td>\n",
              "      <td>-2.881959</td>\n",
              "      <td>-1.351741</td>\n",
              "      <td>-2.649713</td>\n",
              "      <td>-3.175289</td>\n",
              "      <td>-2.970533</td>\n",
              "      <td>-1.772521</td>\n",
              "      <td>2.003331</td>\n",
              "      <td>-0.905472</td>\n",
              "      <td>-2.215424</td>\n",
              "      <td>-2.106193</td>\n",
              "      <td>-0.200659</td>\n",
              "      <td>1.631469</td>\n",
              "      <td>0.282932</td>\n",
              "      <td>-1.110218</td>\n",
              "      <td>-1.259794</td>\n",
              "      <td>-0.163505</td>\n",
              "      <td>-0.172615</td>\n",
              "      <td>-0.686937</td>\n",
              "    </tr>\n",
              "    <tr>\n",
              "      <th>std</th>\n",
              "      <td>4.079779</td>\n",
              "      <td>4.401890</td>\n",
              "      <td>4.445836</td>\n",
              "      <td>4.182481</td>\n",
              "      <td>4.414129</td>\n",
              "      <td>4.467101</td>\n",
              "      <td>4.786825</td>\n",
              "      <td>4.220126</td>\n",
              "      <td>4.652227</td>\n",
              "      <td>4.938526</td>\n",
              "      <td>4.998106</td>\n",
              "      <td>4.558931</td>\n",
              "      <td>4.562768</td>\n",
              "      <td>4.726951</td>\n",
              "      <td>4.370161</td>\n",
              "      <td>4.876666</td>\n",
              "      <td>4.766065</td>\n",
              "      <td>3.886714</td>\n",
              "      <td>4.092512</td>\n",
              "    </tr>\n",
              "    <tr>\n",
              "      <th>min</th>\n",
              "      <td>-9.281637</td>\n",
              "      <td>-11.636408</td>\n",
              "      <td>-9.984884</td>\n",
              "      <td>-11.778651</td>\n",
              "      <td>-11.231328</td>\n",
              "      <td>-11.617553</td>\n",
              "      <td>-10.845704</td>\n",
              "      <td>-7.231953</td>\n",
              "      <td>-10.659958</td>\n",
              "      <td>-12.124792</td>\n",
              "      <td>-11.779361</td>\n",
              "      <td>-9.884784</td>\n",
              "      <td>-8.862269</td>\n",
              "      <td>-8.826442</td>\n",
              "      <td>-8.574989</td>\n",
              "      <td>-10.803057</td>\n",
              "      <td>-8.843943</td>\n",
              "      <td>-8.893015</td>\n",
              "      <td>-8.930116</td>\n",
              "    </tr>\n",
              "    <tr>\n",
              "      <th>25%</th>\n",
              "      <td>-6.072569</td>\n",
              "      <td>-6.303121</td>\n",
              "      <td>-4.362666</td>\n",
              "      <td>-5.052422</td>\n",
              "      <td>-5.832099</td>\n",
              "      <td>-7.012128</td>\n",
              "      <td>-5.659107</td>\n",
              "      <td>-1.052742</td>\n",
              "      <td>-4.848603</td>\n",
              "      <td>-6.694775</td>\n",
              "      <td>-5.444280</td>\n",
              "      <td>-3.483485</td>\n",
              "      <td>-1.075347</td>\n",
              "      <td>-3.534259</td>\n",
              "      <td>-4.573720</td>\n",
              "      <td>-5.352598</td>\n",
              "      <td>-3.951318</td>\n",
              "      <td>-2.839461</td>\n",
              "      <td>-4.385447</td>\n",
              "    </tr>\n",
              "    <tr>\n",
              "      <th>50%</th>\n",
              "      <td>-4.319531</td>\n",
              "      <td>-4.362244</td>\n",
              "      <td>-1.892443</td>\n",
              "      <td>-3.008476</td>\n",
              "      <td>-3.109750</td>\n",
              "      <td>-2.603046</td>\n",
              "      <td>-1.749047</td>\n",
              "      <td>2.473684</td>\n",
              "      <td>0.172482</td>\n",
              "      <td>-1.179294</td>\n",
              "      <td>-2.842408</td>\n",
              "      <td>-0.487219</td>\n",
              "      <td>1.441204</td>\n",
              "      <td>-0.127036</td>\n",
              "      <td>-1.570100</td>\n",
              "      <td>-1.477903</td>\n",
              "      <td>-1.216460</td>\n",
              "      <td>0.062631</td>\n",
              "      <td>-0.480463</td>\n",
              "    </tr>\n",
              "    <tr>\n",
              "      <th>75%</th>\n",
              "      <td>1.192704</td>\n",
              "      <td>1.966050</td>\n",
              "      <td>1.900801</td>\n",
              "      <td>-0.410054</td>\n",
              "      <td>-0.315213</td>\n",
              "      <td>0.279401</td>\n",
              "      <td>1.683536</td>\n",
              "      <td>5.291458</td>\n",
              "      <td>2.542227</td>\n",
              "      <td>2.011384</td>\n",
              "      <td>1.540628</td>\n",
              "      <td>3.164303</td>\n",
              "      <td>4.949566</td>\n",
              "      <td>4.238732</td>\n",
              "      <td>2.903204</td>\n",
              "      <td>2.035618</td>\n",
              "      <td>3.346907</td>\n",
              "      <td>2.283574</td>\n",
              "      <td>2.755194</td>\n",
              "    </tr>\n",
              "    <tr>\n",
              "      <th>max</th>\n",
              "      <td>4.948767</td>\n",
              "      <td>6.623631</td>\n",
              "      <td>9.102465</td>\n",
              "      <td>6.303770</td>\n",
              "      <td>5.635296</td>\n",
              "      <td>6.727885</td>\n",
              "      <td>9.275361</td>\n",
              "      <td>9.494421</td>\n",
              "      <td>7.993840</td>\n",
              "      <td>6.279736</td>\n",
              "      <td>7.806767</td>\n",
              "      <td>9.154714</td>\n",
              "      <td>11.561672</td>\n",
              "      <td>10.673328</td>\n",
              "      <td>8.502620</td>\n",
              "      <td>9.701786</td>\n",
              "      <td>9.678826</td>\n",
              "      <td>11.102000</td>\n",
              "      <td>8.043249</td>\n",
              "    </tr>\n",
              "  </tbody>\n",
              "</table>\n",
              "</div>\n",
              "      <button class=\"colab-df-convert\" onclick=\"convertToInteractive('df-026ab869-cadf-4672-8353-2f0aeb4431f1')\"\n",
              "              title=\"Convert this dataframe to an interactive table.\"\n",
              "              style=\"display:none;\">\n",
              "        \n",
              "  <svg xmlns=\"http://www.w3.org/2000/svg\" height=\"24px\"viewBox=\"0 0 24 24\"\n",
              "       width=\"24px\">\n",
              "    <path d=\"M0 0h24v24H0V0z\" fill=\"none\"/>\n",
              "    <path d=\"M18.56 5.44l.94 2.06.94-2.06 2.06-.94-2.06-.94-.94-2.06-.94 2.06-2.06.94zm-11 1L8.5 8.5l.94-2.06 2.06-.94-2.06-.94L8.5 2.5l-.94 2.06-2.06.94zm10 10l.94 2.06.94-2.06 2.06-.94-2.06-.94-.94-2.06-.94 2.06-2.06.94z\"/><path d=\"M17.41 7.96l-1.37-1.37c-.4-.4-.92-.59-1.43-.59-.52 0-1.04.2-1.43.59L10.3 9.45l-7.72 7.72c-.78.78-.78 2.05 0 2.83L4 21.41c.39.39.9.59 1.41.59.51 0 1.02-.2 1.41-.59l7.78-7.78 2.81-2.81c.8-.78.8-2.07 0-2.86zM5.41 20L4 18.59l7.72-7.72 1.47 1.35L5.41 20z\"/>\n",
              "  </svg>\n",
              "      </button>\n",
              "      \n",
              "  <style>\n",
              "    .colab-df-container {\n",
              "      display:flex;\n",
              "      flex-wrap:wrap;\n",
              "      gap: 12px;\n",
              "    }\n",
              "\n",
              "    .colab-df-convert {\n",
              "      background-color: #E8F0FE;\n",
              "      border: none;\n",
              "      border-radius: 50%;\n",
              "      cursor: pointer;\n",
              "      display: none;\n",
              "      fill: #1967D2;\n",
              "      height: 32px;\n",
              "      padding: 0 0 0 0;\n",
              "      width: 32px;\n",
              "    }\n",
              "\n",
              "    .colab-df-convert:hover {\n",
              "      background-color: #E2EBFA;\n",
              "      box-shadow: 0px 1px 2px rgba(60, 64, 67, 0.3), 0px 1px 3px 1px rgba(60, 64, 67, 0.15);\n",
              "      fill: #174EA6;\n",
              "    }\n",
              "\n",
              "    [theme=dark] .colab-df-convert {\n",
              "      background-color: #3B4455;\n",
              "      fill: #D2E3FC;\n",
              "    }\n",
              "\n",
              "    [theme=dark] .colab-df-convert:hover {\n",
              "      background-color: #434B5C;\n",
              "      box-shadow: 0px 1px 3px 1px rgba(0, 0, 0, 0.15);\n",
              "      filter: drop-shadow(0px 1px 2px rgba(0, 0, 0, 0.3));\n",
              "      fill: #FFFFFF;\n",
              "    }\n",
              "  </style>\n",
              "\n",
              "      <script>\n",
              "        const buttonEl =\n",
              "          document.querySelector('#df-026ab869-cadf-4672-8353-2f0aeb4431f1 button.colab-df-convert');\n",
              "        buttonEl.style.display =\n",
              "          google.colab.kernel.accessAllowed ? 'block' : 'none';\n",
              "\n",
              "        async function convertToInteractive(key) {\n",
              "          const element = document.querySelector('#df-026ab869-cadf-4672-8353-2f0aeb4431f1');\n",
              "          const dataTable =\n",
              "            await google.colab.kernel.invokeFunction('convertToInteractive',\n",
              "                                                     [key], {});\n",
              "          if (!dataTable) return;\n",
              "\n",
              "          const docLinkHtml = 'Like what you see? Visit the ' +\n",
              "            '<a target=\"_blank\" href=https://colab.research.google.com/notebooks/data_table.ipynb>data table notebook</a>'\n",
              "            + ' to learn more about interactive tables.';\n",
              "          element.innerHTML = '';\n",
              "          dataTable['output_type'] = 'display_data';\n",
              "          await google.colab.output.renderOutput(dataTable, element);\n",
              "          const docLink = document.createElement('div');\n",
              "          docLink.innerHTML = docLinkHtml;\n",
              "          element.appendChild(docLink);\n",
              "        }\n",
              "      </script>\n",
              "    </div>\n",
              "  </div>\n",
              "  "
            ]
          },
          "metadata": {},
          "execution_count": 7
        }
      ],
      "source": [
        "train.describe()"
      ]
    },
    {
      "cell_type": "code",
      "source": [
        "test.describe()"
      ],
      "metadata": {
        "colab": {
          "base_uri": "https://localhost:8080/",
          "height": 300
        },
        "id": "qEz4uca-ubGw",
        "outputId": "22219bfb-2e2c-49f4-955a-6aec52f8f018"
      },
      "execution_count": 8,
      "outputs": [
        {
          "output_type": "execute_result",
          "data": {
            "text/plain": [
              "               0          1          2          3          4          5  \\\n",
              "count  32.000000  32.000000  32.000000  32.000000  32.000000  32.000000   \n",
              "mean   -4.192358  -3.680407  -2.830227  -3.864952  -4.179413  -3.705888   \n",
              "std     3.627029   4.147330   3.950153   3.728186   4.070095   4.335130   \n",
              "min    -9.198057 -10.431819 -10.062726  -9.909744 -11.172899 -11.523912   \n",
              "25%    -7.108079  -6.789926  -5.621932  -6.577546  -7.789569  -7.580939   \n",
              "50%    -5.061146  -4.433026  -3.102103  -3.720195  -3.383691  -3.496778   \n",
              "75%    -1.582940  -1.439522  -1.680899  -1.820293  -1.735991  -0.649984   \n",
              "max     4.480844   5.758258   8.524468   6.267315   5.039695   5.587507   \n",
              "\n",
              "               6          7          8          9         10         11  \\\n",
              "count  32.000000  32.000000  32.000000  32.000000  32.000000  32.000000   \n",
              "mean   -1.897959   2.529784  -1.605883  -2.919506  -2.571023   0.444515   \n",
              "std     4.824017   3.701009   4.720186   4.982846   5.374765   4.531926   \n",
              "min   -10.589553  -6.894546  -9.275775 -11.001111 -11.625150  -8.332519   \n",
              "25%    -5.208452   0.567416  -4.985928  -6.534838  -7.154427  -3.345968   \n",
              "50%    -1.723233   2.385611  -2.290480  -4.193717  -3.197713   0.389164   \n",
              "75%     0.695502   5.547260   2.115359   1.982500   0.637927   4.398249   \n",
              "max     7.516354   8.836626   8.027048   5.142419   7.772173   7.612748   \n",
              "\n",
              "              12         13         14         15         16         17  \\\n",
              "count  32.000000  32.000000  32.000000  32.000000  32.000000  32.000000   \n",
              "mean    1.550058  -0.056240  -1.429463  -1.459227  -0.318980  -0.002581   \n",
              "std     4.822831   4.934732   4.366282   4.856507   4.403396   4.113972   \n",
              "min    -6.528655  -8.004577  -8.401614  -8.023803  -6.215450  -7.435129   \n",
              "25%    -1.963784  -3.614296  -4.927677  -5.839348  -4.133623  -3.385852   \n",
              "50%     1.490203  -0.515140  -2.161336  -2.197694  -1.609858   0.408267   \n",
              "75%     5.184582   3.096813   3.018237   1.591674   3.656654   2.333526   \n",
              "max    10.120862  10.515910   5.952815   7.680501   7.748627   8.948363   \n",
              "\n",
              "              18  \n",
              "count  32.000000  \n",
              "mean   -0.517831  \n",
              "std     3.891636  \n",
              "min    -6.882027  \n",
              "25%    -3.982054  \n",
              "50%     0.388050  \n",
              "75%     2.865610  \n",
              "max     5.347918  "
            ],
            "text/html": [
              "\n",
              "  <div id=\"df-57527561-06c2-4e2c-95b0-b6a035d1764c\">\n",
              "    <div class=\"colab-df-container\">\n",
              "      <div>\n",
              "<style scoped>\n",
              "    .dataframe tbody tr th:only-of-type {\n",
              "        vertical-align: middle;\n",
              "    }\n",
              "\n",
              "    .dataframe tbody tr th {\n",
              "        vertical-align: top;\n",
              "    }\n",
              "\n",
              "    .dataframe thead th {\n",
              "        text-align: right;\n",
              "    }\n",
              "</style>\n",
              "<table border=\"1\" class=\"dataframe\">\n",
              "  <thead>\n",
              "    <tr style=\"text-align: right;\">\n",
              "      <th></th>\n",
              "      <th>0</th>\n",
              "      <th>1</th>\n",
              "      <th>2</th>\n",
              "      <th>3</th>\n",
              "      <th>4</th>\n",
              "      <th>5</th>\n",
              "      <th>6</th>\n",
              "      <th>7</th>\n",
              "      <th>8</th>\n",
              "      <th>9</th>\n",
              "      <th>10</th>\n",
              "      <th>11</th>\n",
              "      <th>12</th>\n",
              "      <th>13</th>\n",
              "      <th>14</th>\n",
              "      <th>15</th>\n",
              "      <th>16</th>\n",
              "      <th>17</th>\n",
              "      <th>18</th>\n",
              "    </tr>\n",
              "  </thead>\n",
              "  <tbody>\n",
              "    <tr>\n",
              "      <th>count</th>\n",
              "      <td>32.000000</td>\n",
              "      <td>32.000000</td>\n",
              "      <td>32.000000</td>\n",
              "      <td>32.000000</td>\n",
              "      <td>32.000000</td>\n",
              "      <td>32.000000</td>\n",
              "      <td>32.000000</td>\n",
              "      <td>32.000000</td>\n",
              "      <td>32.000000</td>\n",
              "      <td>32.000000</td>\n",
              "      <td>32.000000</td>\n",
              "      <td>32.000000</td>\n",
              "      <td>32.000000</td>\n",
              "      <td>32.000000</td>\n",
              "      <td>32.000000</td>\n",
              "      <td>32.000000</td>\n",
              "      <td>32.000000</td>\n",
              "      <td>32.000000</td>\n",
              "      <td>32.000000</td>\n",
              "    </tr>\n",
              "    <tr>\n",
              "      <th>mean</th>\n",
              "      <td>-4.192358</td>\n",
              "      <td>-3.680407</td>\n",
              "      <td>-2.830227</td>\n",
              "      <td>-3.864952</td>\n",
              "      <td>-4.179413</td>\n",
              "      <td>-3.705888</td>\n",
              "      <td>-1.897959</td>\n",
              "      <td>2.529784</td>\n",
              "      <td>-1.605883</td>\n",
              "      <td>-2.919506</td>\n",
              "      <td>-2.571023</td>\n",
              "      <td>0.444515</td>\n",
              "      <td>1.550058</td>\n",
              "      <td>-0.056240</td>\n",
              "      <td>-1.429463</td>\n",
              "      <td>-1.459227</td>\n",
              "      <td>-0.318980</td>\n",
              "      <td>-0.002581</td>\n",
              "      <td>-0.517831</td>\n",
              "    </tr>\n",
              "    <tr>\n",
              "      <th>std</th>\n",
              "      <td>3.627029</td>\n",
              "      <td>4.147330</td>\n",
              "      <td>3.950153</td>\n",
              "      <td>3.728186</td>\n",
              "      <td>4.070095</td>\n",
              "      <td>4.335130</td>\n",
              "      <td>4.824017</td>\n",
              "      <td>3.701009</td>\n",
              "      <td>4.720186</td>\n",
              "      <td>4.982846</td>\n",
              "      <td>5.374765</td>\n",
              "      <td>4.531926</td>\n",
              "      <td>4.822831</td>\n",
              "      <td>4.934732</td>\n",
              "      <td>4.366282</td>\n",
              "      <td>4.856507</td>\n",
              "      <td>4.403396</td>\n",
              "      <td>4.113972</td>\n",
              "      <td>3.891636</td>\n",
              "    </tr>\n",
              "    <tr>\n",
              "      <th>min</th>\n",
              "      <td>-9.198057</td>\n",
              "      <td>-10.431819</td>\n",
              "      <td>-10.062726</td>\n",
              "      <td>-9.909744</td>\n",
              "      <td>-11.172899</td>\n",
              "      <td>-11.523912</td>\n",
              "      <td>-10.589553</td>\n",
              "      <td>-6.894546</td>\n",
              "      <td>-9.275775</td>\n",
              "      <td>-11.001111</td>\n",
              "      <td>-11.625150</td>\n",
              "      <td>-8.332519</td>\n",
              "      <td>-6.528655</td>\n",
              "      <td>-8.004577</td>\n",
              "      <td>-8.401614</td>\n",
              "      <td>-8.023803</td>\n",
              "      <td>-6.215450</td>\n",
              "      <td>-7.435129</td>\n",
              "      <td>-6.882027</td>\n",
              "    </tr>\n",
              "    <tr>\n",
              "      <th>25%</th>\n",
              "      <td>-7.108079</td>\n",
              "      <td>-6.789926</td>\n",
              "      <td>-5.621932</td>\n",
              "      <td>-6.577546</td>\n",
              "      <td>-7.789569</td>\n",
              "      <td>-7.580939</td>\n",
              "      <td>-5.208452</td>\n",
              "      <td>0.567416</td>\n",
              "      <td>-4.985928</td>\n",
              "      <td>-6.534838</td>\n",
              "      <td>-7.154427</td>\n",
              "      <td>-3.345968</td>\n",
              "      <td>-1.963784</td>\n",
              "      <td>-3.614296</td>\n",
              "      <td>-4.927677</td>\n",
              "      <td>-5.839348</td>\n",
              "      <td>-4.133623</td>\n",
              "      <td>-3.385852</td>\n",
              "      <td>-3.982054</td>\n",
              "    </tr>\n",
              "    <tr>\n",
              "      <th>50%</th>\n",
              "      <td>-5.061146</td>\n",
              "      <td>-4.433026</td>\n",
              "      <td>-3.102103</td>\n",
              "      <td>-3.720195</td>\n",
              "      <td>-3.383691</td>\n",
              "      <td>-3.496778</td>\n",
              "      <td>-1.723233</td>\n",
              "      <td>2.385611</td>\n",
              "      <td>-2.290480</td>\n",
              "      <td>-4.193717</td>\n",
              "      <td>-3.197713</td>\n",
              "      <td>0.389164</td>\n",
              "      <td>1.490203</td>\n",
              "      <td>-0.515140</td>\n",
              "      <td>-2.161336</td>\n",
              "      <td>-2.197694</td>\n",
              "      <td>-1.609858</td>\n",
              "      <td>0.408267</td>\n",
              "      <td>0.388050</td>\n",
              "    </tr>\n",
              "    <tr>\n",
              "      <th>75%</th>\n",
              "      <td>-1.582940</td>\n",
              "      <td>-1.439522</td>\n",
              "      <td>-1.680899</td>\n",
              "      <td>-1.820293</td>\n",
              "      <td>-1.735991</td>\n",
              "      <td>-0.649984</td>\n",
              "      <td>0.695502</td>\n",
              "      <td>5.547260</td>\n",
              "      <td>2.115359</td>\n",
              "      <td>1.982500</td>\n",
              "      <td>0.637927</td>\n",
              "      <td>4.398249</td>\n",
              "      <td>5.184582</td>\n",
              "      <td>3.096813</td>\n",
              "      <td>3.018237</td>\n",
              "      <td>1.591674</td>\n",
              "      <td>3.656654</td>\n",
              "      <td>2.333526</td>\n",
              "      <td>2.865610</td>\n",
              "    </tr>\n",
              "    <tr>\n",
              "      <th>max</th>\n",
              "      <td>4.480844</td>\n",
              "      <td>5.758258</td>\n",
              "      <td>8.524468</td>\n",
              "      <td>6.267315</td>\n",
              "      <td>5.039695</td>\n",
              "      <td>5.587507</td>\n",
              "      <td>7.516354</td>\n",
              "      <td>8.836626</td>\n",
              "      <td>8.027048</td>\n",
              "      <td>5.142419</td>\n",
              "      <td>7.772173</td>\n",
              "      <td>7.612748</td>\n",
              "      <td>10.120862</td>\n",
              "      <td>10.515910</td>\n",
              "      <td>5.952815</td>\n",
              "      <td>7.680501</td>\n",
              "      <td>7.748627</td>\n",
              "      <td>8.948363</td>\n",
              "      <td>5.347918</td>\n",
              "    </tr>\n",
              "  </tbody>\n",
              "</table>\n",
              "</div>\n",
              "      <button class=\"colab-df-convert\" onclick=\"convertToInteractive('df-57527561-06c2-4e2c-95b0-b6a035d1764c')\"\n",
              "              title=\"Convert this dataframe to an interactive table.\"\n",
              "              style=\"display:none;\">\n",
              "        \n",
              "  <svg xmlns=\"http://www.w3.org/2000/svg\" height=\"24px\"viewBox=\"0 0 24 24\"\n",
              "       width=\"24px\">\n",
              "    <path d=\"M0 0h24v24H0V0z\" fill=\"none\"/>\n",
              "    <path d=\"M18.56 5.44l.94 2.06.94-2.06 2.06-.94-2.06-.94-.94-2.06-.94 2.06-2.06.94zm-11 1L8.5 8.5l.94-2.06 2.06-.94-2.06-.94L8.5 2.5l-.94 2.06-2.06.94zm10 10l.94 2.06.94-2.06 2.06-.94-2.06-.94-.94-2.06-.94 2.06-2.06.94z\"/><path d=\"M17.41 7.96l-1.37-1.37c-.4-.4-.92-.59-1.43-.59-.52 0-1.04.2-1.43.59L10.3 9.45l-7.72 7.72c-.78.78-.78 2.05 0 2.83L4 21.41c.39.39.9.59 1.41.59.51 0 1.02-.2 1.41-.59l7.78-7.78 2.81-2.81c.8-.78.8-2.07 0-2.86zM5.41 20L4 18.59l7.72-7.72 1.47 1.35L5.41 20z\"/>\n",
              "  </svg>\n",
              "      </button>\n",
              "      \n",
              "  <style>\n",
              "    .colab-df-container {\n",
              "      display:flex;\n",
              "      flex-wrap:wrap;\n",
              "      gap: 12px;\n",
              "    }\n",
              "\n",
              "    .colab-df-convert {\n",
              "      background-color: #E8F0FE;\n",
              "      border: none;\n",
              "      border-radius: 50%;\n",
              "      cursor: pointer;\n",
              "      display: none;\n",
              "      fill: #1967D2;\n",
              "      height: 32px;\n",
              "      padding: 0 0 0 0;\n",
              "      width: 32px;\n",
              "    }\n",
              "\n",
              "    .colab-df-convert:hover {\n",
              "      background-color: #E2EBFA;\n",
              "      box-shadow: 0px 1px 2px rgba(60, 64, 67, 0.3), 0px 1px 3px 1px rgba(60, 64, 67, 0.15);\n",
              "      fill: #174EA6;\n",
              "    }\n",
              "\n",
              "    [theme=dark] .colab-df-convert {\n",
              "      background-color: #3B4455;\n",
              "      fill: #D2E3FC;\n",
              "    }\n",
              "\n",
              "    [theme=dark] .colab-df-convert:hover {\n",
              "      background-color: #434B5C;\n",
              "      box-shadow: 0px 1px 3px 1px rgba(0, 0, 0, 0.15);\n",
              "      filter: drop-shadow(0px 1px 2px rgba(0, 0, 0, 0.3));\n",
              "      fill: #FFFFFF;\n",
              "    }\n",
              "  </style>\n",
              "\n",
              "      <script>\n",
              "        const buttonEl =\n",
              "          document.querySelector('#df-57527561-06c2-4e2c-95b0-b6a035d1764c button.colab-df-convert');\n",
              "        buttonEl.style.display =\n",
              "          google.colab.kernel.accessAllowed ? 'block' : 'none';\n",
              "\n",
              "        async function convertToInteractive(key) {\n",
              "          const element = document.querySelector('#df-57527561-06c2-4e2c-95b0-b6a035d1764c');\n",
              "          const dataTable =\n",
              "            await google.colab.kernel.invokeFunction('convertToInteractive',\n",
              "                                                     [key], {});\n",
              "          if (!dataTable) return;\n",
              "\n",
              "          const docLinkHtml = 'Like what you see? Visit the ' +\n",
              "            '<a target=\"_blank\" href=https://colab.research.google.com/notebooks/data_table.ipynb>data table notebook</a>'\n",
              "            + ' to learn more about interactive tables.';\n",
              "          element.innerHTML = '';\n",
              "          dataTable['output_type'] = 'display_data';\n",
              "          await google.colab.output.renderOutput(dataTable, element);\n",
              "          const docLink = document.createElement('div');\n",
              "          docLink.innerHTML = docLinkHtml;\n",
              "          element.appendChild(docLink);\n",
              "        }\n",
              "      </script>\n",
              "    </div>\n",
              "  </div>\n",
              "  "
            ]
          },
          "metadata": {},
          "execution_count": 8
        }
      ]
    },
    {
      "cell_type": "code",
      "execution_count": 9,
      "metadata": {
        "colab": {
          "base_uri": "https://localhost:8080/"
        },
        "id": "nZSxDdttCMyr",
        "outputId": "f8a51fcd-e378-4b4b-a80c-357f34de994a"
      },
      "outputs": [
        {
          "output_type": "stream",
          "name": "stdout",
          "text": [
            "0     0\n",
            "1     0\n",
            "2     0\n",
            "3     0\n",
            "4     0\n",
            "5     0\n",
            "6     0\n",
            "7     0\n",
            "8     0\n",
            "9     0\n",
            "10    0\n",
            "11    0\n",
            "12    0\n",
            "13    0\n",
            "14    0\n",
            "15    0\n",
            "16    0\n",
            "17    0\n",
            "18    0\n",
            "19    0\n",
            "20    0\n",
            "dtype: int64\n"
          ]
        }
      ],
      "source": [
        "print(train.isnull().sum())"
      ]
    },
    {
      "cell_type": "code",
      "source": [
        "print(test.isnull().sum())"
      ],
      "metadata": {
        "colab": {
          "base_uri": "https://localhost:8080/"
        },
        "id": "jsmgK5rOum9X",
        "outputId": "10793279-7be2-42bc-abda-ab08f36512c8"
      },
      "execution_count": 10,
      "outputs": [
        {
          "output_type": "stream",
          "name": "stdout",
          "text": [
            "0     0\n",
            "1     0\n",
            "2     0\n",
            "3     0\n",
            "4     0\n",
            "5     0\n",
            "6     0\n",
            "7     0\n",
            "8     0\n",
            "9     0\n",
            "10    0\n",
            "11    0\n",
            "12    0\n",
            "13    0\n",
            "14    0\n",
            "15    0\n",
            "16    0\n",
            "17    0\n",
            "18    0\n",
            "19    0\n",
            "20    0\n",
            "dtype: int64\n"
          ]
        }
      ]
    },
    {
      "cell_type": "code",
      "execution_count": 11,
      "metadata": {
        "colab": {
          "base_uri": "https://localhost:8080/",
          "height": 1000
        },
        "id": "J5Pf63TwCMyr",
        "outputId": "9c4d388d-5dc7-4ed8-fd46-ca86fd0f32a2"
      },
      "outputs": [
        {
          "output_type": "display_data",
          "data": {
            "text/plain": [
              "<Figure size 2000x2000 with 20 Axes>"
            ],
            "image/png": "[encoded data removed]"
          },
          "metadata": {}
        }
      ],
      "source": [
        "p = train.hist(figsize = (20,20))"
      ]
    },
    {
      "cell_type": "markdown",
      "metadata": {
        "id": "jsJQeI54CMys"
      },
      "source": [
        "ENCODING THE DATA"
      ]
    },
    {
      "cell_type": "code",
      "execution_count": 12,
      "metadata": {
        "id": "UYS4_NgHCMyu"
      },
      "outputs": [],
      "source": [
        "def encode(df) :\n",
        "    df = pd.get_dummies(df,drop_first = True)\n",
        "    df['alz_true'] =  1 - df['20_healthy']\n",
        "    del df['20_healthy']\n",
        "    return df"
      ]
    },
    {
      "cell_type": "code",
      "source": [
        "train = encode(train)"
      ],
      "metadata": {
        "id": "_F3zJPNOws0A"
      },
      "execution_count": 13,
      "outputs": []
    },
    {
      "cell_type": "code",
      "source": [
        "test = encode(test)"
      ],
      "metadata": {
        "id": "TAqrTCE1xO1V"
      },
      "execution_count": 14,
      "outputs": []
    },
    {
      "cell_type": "code",
      "execution_count": 15,
      "metadata": {
        "id": "Ex738ELjCMyu",
        "colab": {
          "base_uri": "https://localhost:8080/",
          "height": 424
        },
        "outputId": "3eb5779b-e447-4366-917a-bcdbe67c3413"
      },
      "outputs": [
        {
          "output_type": "execute_result",
          "data": {
            "text/plain": [
              "            0         1         2          3          4         5         6  \\\n",
              "0   -4.671772 -3.461845 -2.066095  -1.655069  -0.425867  1.058435  1.061260   \n",
              "1    3.709384  5.854395 -1.384827  -1.124265   0.790696  1.943475  7.114905   \n",
              "2   -2.362995 -3.398816  0.020892  -2.548365  -4.195050 -4.611305 -3.965788   \n",
              "3    2.647627 -1.865227  6.627169  -2.410136  -4.767218 -5.702431 -6.164886   \n",
              "4   -4.786032 -5.087481 -3.308594  -2.084521  -1.936765 -1.175357 -2.836520   \n",
              "..        ...       ...       ...        ...        ...       ...       ...   \n",
              "155 -8.395624 -4.768467 -9.598362 -11.518448 -10.650624 -7.010555 -0.292097   \n",
              "156 -7.425034 -6.428447 -8.501721  -9.613522  -9.503674 -8.481027 -4.789783   \n",
              "157  2.382906  3.468851  1.947540   2.060030   3.656525  5.388238  5.773988   \n",
              "158 -5.356532 -6.103782 -4.113039  -3.008478  -4.197601 -5.368508 -6.981439   \n",
              "159 -4.502479 -5.953784 -3.611701  -3.205626  -3.181754 -3.789696 -3.592171   \n",
              "\n",
              "            7          8          9  ...        11        12        13  \\\n",
              "0    2.250484   2.426598   3.685450  ...  6.722083  3.572923  2.853526   \n",
              "1   -7.119885  -6.989324  -6.979079  ...  2.242756 -5.141433 -8.236650   \n",
              "2    3.069318  -0.961480  -4.775025  ... -1.448561  7.589728  1.999001   \n",
              "3    4.241711  -5.237383  -8.853911  ... -9.884784  0.447057 -5.166823   \n",
              "4   -5.077035  -0.245455   3.847386  ...  5.343685 -3.875226 -0.438329   \n",
              "..        ...        ...        ...  ...       ...       ...       ...   \n",
              "155 -5.659645 -10.310552 -11.066761  ...  1.505199  1.979788 -4.548264   \n",
              "156  1.148729  -6.123685  -5.943070  ...  6.297120  0.730107 -2.031718   \n",
              "157  2.671480  -1.664337   1.900638  ...  5.165492 -8.862269 -5.596646   \n",
              "158  3.584509   4.336156   0.904990  ... -0.812220  7.972445  8.355350   \n",
              "159  0.541814   3.278619   3.887326  ...  1.451758 -0.165561  5.349542   \n",
              "\n",
              "           14         15        16        17        18  19_open  alz_true  \n",
              "0    4.195000   6.727384  8.029945  2.267263  4.195754        1         0  \n",
              "1   -8.434049  -8.023826 -2.355864 -2.595016 -1.807263        1         1  \n",
              "2   -3.703594  -1.602367  4.475797  4.416044  2.892512        0         0  \n",
              "3   -8.447102 -10.749571 -7.964412 -1.510996 -4.091464        0         1  \n",
              "4    4.010690   9.268739  9.678826  2.347711  7.895276        0         1  \n",
              "..        ...        ...       ...       ...       ...      ...       ...  \n",
              "155 -4.807219  -5.359723  3.904312  1.981752  1.325416        0         1  \n",
              "156 -1.576786  -1.291962  2.256116  1.318757  1.121607        1         1  \n",
              "157 -4.011642   2.584083  2.216395 -8.893015 -4.125392        1         1  \n",
              "158  3.759628  -0.916855 -1.379030  2.054217 -1.495972        1         1  \n",
              "159  8.470816   9.332161  9.282072  1.719461  6.247342        1         1  \n",
              "\n",
              "[160 rows x 21 columns]"
            ],
            "text/html": [
              "\n",
              "  <div id=\"df-d40704e7-eb73-41cf-8e03-83c6e4b81129\">\n",
              "    <div class=\"colab-df-container\">\n",
              "      <div>\n",
              "<style scoped>\n",
              "    .dataframe tbody tr th:only-of-type {\n",
              "        vertical-align: middle;\n",
              "    }\n",
              "\n",
              "    .dataframe tbody tr th {\n",
              "        vertical-align: top;\n",
              "    }\n",
              "\n",
              "    .dataframe thead th {\n",
              "        text-align: right;\n",
              "    }\n",
              "</style>\n",
              "<table border=\"1\" class=\"dataframe\">\n",
              "  <thead>\n",
              "    <tr style=\"text-align: right;\">\n",
              "      <th></th>\n",
              "      <th>0</th>\n",
              "      <th>1</th>\n",
              "      <th>2</th>\n",
              "      <th>3</th>\n",
              "      <th>4</th>\n",
              "      <th>5</th>\n",
              "      <th>6</th>\n",
              "      <th>7</th>\n",
              "      <th>8</th>\n",
              "      <th>9</th>\n",
              "      <th>...</th>\n",
              "      <th>11</th>\n",
              "      <th>12</th>\n",
              "      <th>13</th>\n",
              "      <th>14</th>\n",
              "      <th>15</th>\n",
              "      <th>16</th>\n",
              "      <th>17</th>\n",
              "      <th>18</th>\n",
              "      <th>19_open</th>\n",
              "      <th>alz_true</th>\n",
              "    </tr>\n",
              "  </thead>\n",
              "  <tbody>\n",
              "    <tr>\n",
              "      <th>0</th>\n",
              "      <td>-4.671772</td>\n",
              "      <td>-3.461845</td>\n",
              "      <td>-2.066095</td>\n",
              "      <td>-1.655069</td>\n",
              "      <td>-0.425867</td>\n",
              "      <td>1.058435</td>\n",
              "      <td>1.061260</td>\n",
              "      <td>2.250484</td>\n",
              "      <td>2.426598</td>\n",
              "      <td>3.685450</td>\n",
              "      <td>...</td>\n",
              "      <td>6.722083</td>\n",
              "      <td>3.572923</td>\n",
              "      <td>2.853526</td>\n",
              "      <td>4.195000</td>\n",
              "      <td>6.727384</td>\n",
              "      <td>8.029945</td>\n",
              "      <td>2.267263</td>\n",
              "      <td>4.195754</td>\n",
              "      <td>1</td>\n",
              "      <td>0</td>\n",
              "    </tr>\n",
              "    <tr>\n",
              "      <th>1</th>\n",
              "      <td>3.709384</td>\n",
              "      <td>5.854395</td>\n",
              "      <td>-1.384827</td>\n",
              "      <td>-1.124265</td>\n",
              "      <td>0.790696</td>\n",
              "      <td>1.943475</td>\n",
              "      <td>7.114905</td>\n",
              "      <td>-7.119885</td>\n",
              "      <td>-6.989324</td>\n",
              "      <td>-6.979079</td>\n",
              "      <td>...</td>\n",
              "      <td>2.242756</td>\n",
              "      <td>-5.141433</td>\n",
              "      <td>-8.236650</td>\n",
              "      <td>-8.434049</td>\n",
              "      <td>-8.023826</td>\n",
              "      <td>-2.355864</td>\n",
              "      <td>-2.595016</td>\n",
              "      <td>-1.807263</td>\n",
              "      <td>1</td>\n",
              "      <td>1</td>\n",
              "    </tr>\n",
              "    <tr>\n",
              "      <th>2</th>\n",
              "      <td>-2.362995</td>\n",
              "      <td>-3.398816</td>\n",
              "      <td>0.020892</td>\n",
              "      <td>-2.548365</td>\n",
              "      <td>-4.195050</td>\n",
              "      <td>-4.611305</td>\n",
              "      <td>-3.965788</td>\n",
              "      <td>3.069318</td>\n",
              "      <td>-0.961480</td>\n",
              "      <td>-4.775025</td>\n",
              "      <td>...</td>\n",
              "      <td>-1.448561</td>\n",
              "      <td>7.589728</td>\n",
              "      <td>1.999001</td>\n",
              "      <td>-3.703594</td>\n",
              "      <td>-1.602367</td>\n",
              "      <td>4.475797</td>\n",
              "      <td>4.416044</td>\n",
              "      <td>2.892512</td>\n",
              "      <td>0</td>\n",
              "      <td>0</td>\n",
              "    </tr>\n",
              "    <tr>\n",
              "      <th>3</th>\n",
              "      <td>2.647627</td>\n",
              "      <td>-1.865227</td>\n",
              "      <td>6.627169</td>\n",
              "      <td>-2.410136</td>\n",
              "      <td>-4.767218</td>\n",
              "      <td>-5.702431</td>\n",
              "      <td>-6.164886</td>\n",
              "      <td>4.241711</td>\n",
              "      <td>-5.237383</td>\n",
              "      <td>-8.853911</td>\n",
              "      <td>...</td>\n",
              "      <td>-9.884784</td>\n",
              "      <td>0.447057</td>\n",
              "      <td>-5.166823</td>\n",
              "      <td>-8.447102</td>\n",
              "      <td>-10.749571</td>\n",
              "      <td>-7.964412</td>\n",
              "      <td>-1.510996</td>\n",
              "      <td>-4.091464</td>\n",
              "      <td>0</td>\n",
              "      <td>1</td>\n",
              "    </tr>\n",
              "    <tr>\n",
              "      <th>4</th>\n",
              "      <td>-4.786032</td>\n",
              "      <td>-5.087481</td>\n",
              "      <td>-3.308594</td>\n",
              "      <td>-2.084521</td>\n",
              "      <td>-1.936765</td>\n",
              "      <td>-1.175357</td>\n",
              "      <td>-2.836520</td>\n",
              "      <td>-5.077035</td>\n",
              "      <td>-0.245455</td>\n",
              "      <td>3.847386</td>\n",
              "      <td>...</td>\n",
              "      <td>5.343685</td>\n",
              "      <td>-3.875226</td>\n",
              "      <td>-0.438329</td>\n",
              "      <td>4.010690</td>\n",
              "      <td>9.268739</td>\n",
              "      <td>9.678826</td>\n",
              "      <td>2.347711</td>\n",
              "      <td>7.895276</td>\n",
              "      <td>0</td>\n",
              "      <td>1</td>\n",
              "    </tr>\n",
              "    <tr>\n",
              "      <th>...</th>\n",
              "      <td>...</td>\n",
              "      <td>...</td>\n",
              "      <td>...</td>\n",
              "      <td>...</td>\n",
              "      <td>...</td>\n",
              "      <td>...</td>\n",
              "      <td>...</td>\n",
              "      <td>...</td>\n",
              "      <td>...</td>\n",
              "      <td>...</td>\n",
              "      <td>...</td>\n",
              "      <td>...</td>\n",
              "      <td>...</td>\n",
              "      <td>...</td>\n",
              "      <td>...</td>\n",
              "      <td>...</td>\n",
              "      <td>...</td>\n",
              "      <td>...</td>\n",
              "      <td>...</td>\n",
              "      <td>...</td>\n",
              "      <td>...</td>\n",
              "    </tr>\n",
              "    <tr>\n",
              "      <th>155</th>\n",
              "      <td>-8.395624</td>\n",
              "      <td>-4.768467</td>\n",
              "      <td>-9.598362</td>\n",
              "      <td>-11.518448</td>\n",
              "      <td>-10.650624</td>\n",
              "      <td>-7.010555</td>\n",
              "      <td>-0.292097</td>\n",
              "      <td>-5.659645</td>\n",
              "      <td>-10.310552</td>\n",
              "      <td>-11.066761</td>\n",
              "      <td>...</td>\n",
              "      <td>1.505199</td>\n",
              "      <td>1.979788</td>\n",
              "      <td>-4.548264</td>\n",
              "      <td>-4.807219</td>\n",
              "      <td>-5.359723</td>\n",
              "      <td>3.904312</td>\n",
              "      <td>1.981752</td>\n",
              "      <td>1.325416</td>\n",
              "      <td>0</td>\n",
              "      <td>1</td>\n",
              "    </tr>\n",
              "    <tr>\n",
              "      <th>156</th>\n",
              "      <td>-7.425034</td>\n",
              "      <td>-6.428447</td>\n",
              "      <td>-8.501721</td>\n",
              "      <td>-9.613522</td>\n",
              "      <td>-9.503674</td>\n",
              "      <td>-8.481027</td>\n",
              "      <td>-4.789783</td>\n",
              "      <td>1.148729</td>\n",
              "      <td>-6.123685</td>\n",
              "      <td>-5.943070</td>\n",
              "      <td>...</td>\n",
              "      <td>6.297120</td>\n",
              "      <td>0.730107</td>\n",
              "      <td>-2.031718</td>\n",
              "      <td>-1.576786</td>\n",
              "      <td>-1.291962</td>\n",
              "      <td>2.256116</td>\n",
              "      <td>1.318757</td>\n",
              "      <td>1.121607</td>\n",
              "      <td>1</td>\n",
              "      <td>1</td>\n",
              "    </tr>\n",
              "    <tr>\n",
              "      <th>157</th>\n",
              "      <td>2.382906</td>\n",
              "      <td>3.468851</td>\n",
              "      <td>1.947540</td>\n",
              "      <td>2.060030</td>\n",
              "      <td>3.656525</td>\n",
              "      <td>5.388238</td>\n",
              "      <td>5.773988</td>\n",
              "      <td>2.671480</td>\n",
              "      <td>-1.664337</td>\n",
              "      <td>1.900638</td>\n",
              "      <td>...</td>\n",
              "      <td>5.165492</td>\n",
              "      <td>-8.862269</td>\n",
              "      <td>-5.596646</td>\n",
              "      <td>-4.011642</td>\n",
              "      <td>2.584083</td>\n",
              "      <td>2.216395</td>\n",
              "      <td>-8.893015</td>\n",
              "      <td>-4.125392</td>\n",
              "      <td>1</td>\n",
              "      <td>1</td>\n",
              "    </tr>\n",
              "    <tr>\n",
              "      <th>158</th>\n",
              "      <td>-5.356532</td>\n",
              "      <td>-6.103782</td>\n",
              "      <td>-4.113039</td>\n",
              "      <td>-3.008478</td>\n",
              "      <td>-4.197601</td>\n",
              "      <td>-5.368508</td>\n",
              "      <td>-6.981439</td>\n",
              "      <td>3.584509</td>\n",
              "      <td>4.336156</td>\n",
              "      <td>0.904990</td>\n",
              "      <td>...</td>\n",
              "      <td>-0.812220</td>\n",
              "      <td>7.972445</td>\n",
              "      <td>8.355350</td>\n",
              "      <td>3.759628</td>\n",
              "      <td>-0.916855</td>\n",
              "      <td>-1.379030</td>\n",
              "      <td>2.054217</td>\n",
              "      <td>-1.495972</td>\n",
              "      <td>1</td>\n",
              "      <td>1</td>\n",
              "    </tr>\n",
              "    <tr>\n",
              "      <th>159</th>\n",
              "      <td>-4.502479</td>\n",
              "      <td>-5.953784</td>\n",
              "      <td>-3.611701</td>\n",
              "      <td>-3.205626</td>\n",
              "      <td>-3.181754</td>\n",
              "      <td>-3.789696</td>\n",
              "      <td>-3.592171</td>\n",
              "      <td>0.541814</td>\n",
              "      <td>3.278619</td>\n",
              "      <td>3.887326</td>\n",
              "      <td>...</td>\n",
              "      <td>1.451758</td>\n",
              "      <td>-0.165561</td>\n",
              "      <td>5.349542</td>\n",
              "      <td>8.470816</td>\n",
              "      <td>9.332161</td>\n",
              "      <td>9.282072</td>\n",
              "      <td>1.719461</td>\n",
              "      <td>6.247342</td>\n",
              "      <td>1</td>\n",
              "      <td>1</td>\n",
              "    </tr>\n",
              "  </tbody>\n",
              "</table>\n",
              "<p>160 rows × 21 columns</p>\n",
              "</div>\n",
              "      <button class=\"colab-df-convert\" onclick=\"convertToInteractive('df-d40704e7-eb73-41cf-8e03-83c6e4b81129')\"\n",
              "              title=\"Convert this dataframe to an interactive table.\"\n",
              "              style=\"display:none;\">\n",
              "        \n",
              "  <svg xmlns=\"http://www.w3.org/2000/svg\" height=\"24px\"viewBox=\"0 0 24 24\"\n",
              "       width=\"24px\">\n",
              "    <path d=\"M0 0h24v24H0V0z\" fill=\"none\"/>\n",
              "    <path d=\"M18.56 5.44l.94 2.06.94-2.06 2.06-.94-2.06-.94-.94-2.06-.94 2.06-2.06.94zm-11 1L8.5 8.5l.94-2.06 2.06-.94-2.06-.94L8.5 2.5l-.94 2.06-2.06.94zm10 10l.94 2.06.94-2.06 2.06-.94-2.06-.94-.94-2.06-.94 2.06-2.06.94z\"/><path d=\"M17.41 7.96l-1.37-1.37c-.4-.4-.92-.59-1.43-.59-.52 0-1.04.2-1.43.59L10.3 9.45l-7.72 7.72c-.78.78-.78 2.05 0 2.83L4 21.41c.39.39.9.59 1.41.59.51 0 1.02-.2 1.41-.59l7.78-7.78 2.81-2.81c.8-.78.8-2.07 0-2.86zM5.41 20L4 18.59l7.72-7.72 1.47 1.35L5.41 20z\"/>\n",
              "  </svg>\n",
              "      </button>\n",
              "      \n",
              "  <style>\n",
              "    .colab-df-container {\n",
              "      display:flex;\n",
              "      flex-wrap:wrap;\n",
              "      gap: 12px;\n",
              "    }\n",
              "\n",
              "    .colab-df-convert {\n",
              "      background-color: #E8F0FE;\n",
              "      border: none;\n",
              "      border-radius: 50%;\n",
              "      cursor: pointer;\n",
              "      display: none;\n",
              "      fill: #1967D2;\n",
              "      height: 32px;\n",
              "      padding: 0 0 0 0;\n",
              "      width: 32px;\n",
              "    }\n",
              "\n",
              "    .colab-df-convert:hover {\n",
              "      background-color: #E2EBFA;\n",
              "      box-shadow: 0px 1px 2px rgba(60, 64, 67, 0.3), 0px 1px 3px 1px rgba(60, 64, 67, 0.15);\n",
              "      fill: #174EA6;\n",
              "    }\n",
              "\n",
              "    [theme=dark] .colab-df-convert {\n",
              "      background-color: #3B4455;\n",
              "      fill: #D2E3FC;\n",
              "    }\n",
              "\n",
              "    [theme=dark] .colab-df-convert:hover {\n",
              "      background-color: #434B5C;\n",
              "      box-shadow: 0px 1px 3px 1px rgba(0, 0, 0, 0.15);\n",
              "      filter: drop-shadow(0px 1px 2px rgba(0, 0, 0, 0.3));\n",
              "      fill: #FFFFFF;\n",
              "    }\n",
              "  </style>\n",
              "\n",
              "      <script>\n",
              "        const buttonEl =\n",
              "          document.querySelector('#df-d40704e7-eb73-41cf-8e03-83c6e4b81129 button.colab-df-convert');\n",
              "        buttonEl.style.display =\n",
              "          google.colab.kernel.accessAllowed ? 'block' : 'none';\n",
              "\n",
              "        async function convertToInteractive(key) {\n",
              "          const element = document.querySelector('#df-d40704e7-eb73-41cf-8e03-83c6e4b81129');\n",
              "          const dataTable =\n",
              "            await google.colab.kernel.invokeFunction('convertToInteractive',\n",
              "                                                     [key], {});\n",
              "          if (!dataTable) return;\n",
              "\n",
              "          const docLinkHtml = 'Like what you see? Visit the ' +\n",
              "            '<a target=\"_blank\" href=https://colab.research.google.com/notebooks/data_table.ipynb>data table notebook</a>'\n",
              "            + ' to learn more about interactive tables.';\n",
              "          element.innerHTML = '';\n",
              "          dataTable['output_type'] = 'display_data';\n",
              "          await google.colab.output.renderOutput(dataTable, element);\n",
              "          const docLink = document.createElement('div');\n",
              "          docLink.innerHTML = docLinkHtml;\n",
              "          element.appendChild(docLink);\n",
              "        }\n",
              "      </script>\n",
              "    </div>\n",
              "  </div>\n",
              "  "
            ]
          },
          "metadata": {},
          "execution_count": 15
        }
      ],
      "source": [
        "train"
      ]
    },
    {
      "cell_type": "code",
      "source": [
        "test"
      ],
      "metadata": {
        "colab": {
          "base_uri": "https://localhost:8080/",
          "height": 1000
        },
        "id": "nZKmsEiXx2ZI",
        "outputId": "136854fe-98c5-4b92-e393-01458de309ff"
      },
      "execution_count": 16,
      "outputs": [
        {
          "output_type": "execute_result",
          "data": {
            "text/plain": [
              "           0          1          2         3          4          5          6  \\\n",
              "0  -5.147697  -4.069511  -2.675679 -1.877494  -0.803392   0.590511   0.387466   \n",
              "1  -0.527267   3.105159  -3.596607 -4.208751  -2.157986   0.293128   5.934668   \n",
              "2  -1.627039   3.551956  -3.168972 -3.817566  -4.837647  -5.144810   4.834230   \n",
              "3   1.407800  -6.107195   8.524468 -2.036496  -5.790715  -8.208743  -9.811143   \n",
              "4  -4.829639  -4.498040  -1.971049 -0.894110  -0.756761  -0.881804  -2.280562   \n",
              "5   4.480844   2.679116   3.940449  6.267315   5.039695   3.144642  -1.382152   \n",
              "6  -7.111557  -6.899678  -5.413936 -8.549934  -9.376572  -9.232702  -7.484341   \n",
              "7  -6.146266  -3.448232 -10.062726 -9.909744  -8.015423  -4.719976   0.603781   \n",
              "8  -8.266539  -3.354807  -8.633417 -3.306996  -0.392658   2.567608   2.804953   \n",
              "9  -4.997345  -4.035187  -5.689155 -5.397129  -5.599668  -5.017067  -0.381546   \n",
              "10 -5.264453  -9.429228   2.282589 -3.821768  -7.714284  -9.868372 -10.589553   \n",
              "11 -4.117091  -4.368013  -2.463076 -1.797292  -1.786420  -2.461101  -3.521878   \n",
              "12 -4.986048  -1.575166  -3.788746 -6.458036  -7.058269  -4.253415   2.798848   \n",
              "13 -4.064623  -4.526077  -0.810448  0.145718  -0.335462  -0.850349  -1.804546   \n",
              "14 -0.359284  -1.032589   3.954956 -0.654194  -1.584702  -0.980738   2.796085   \n",
              "15 -8.248898  -7.665391  -5.266462 -6.936076  -8.513766  -8.527606  -5.775796   \n",
              "16  1.956866   2.810369   2.063193  1.319344   0.634990   0.052289   0.970664   \n",
              "17 -1.450645  -0.155625  -2.626939 -2.705523  -2.488574  -1.268382   0.546199   \n",
              "18 -4.998154  -6.708626  -3.035235 -8.623442 -11.172899 -11.523912  -9.234354   \n",
              "19 -9.198057  -6.104770  -6.953714 -3.549368  -2.350171  -0.048888  -0.340369   \n",
              "20 -5.299296  -6.753342  -0.706844 -1.827959  -2.750778  -4.254024  -5.184828   \n",
              "21 -7.427865  -7.385867  -5.677616 -5.638045  -5.484154  -6.120240  -5.167449   \n",
              "22 -5.715215  -3.537126  -5.603371 -8.851698  -9.068129  -7.371671  -1.915514   \n",
              "23 -7.987352  -7.782076  -7.437581 -9.081920  -9.045080  -8.850953  -7.700688   \n",
              "24 -7.674206 -10.431819  -3.180111 -8.726095 -10.217206 -10.365945  -9.042376   \n",
              "25  0.336934   2.367571   0.867083  2.551130   3.907675   5.587507   7.516354   \n",
              "26  3.315101   5.758258  -2.135453 -2.728553  -2.099430   0.074076   6.287356   \n",
              "27 -7.106920  -7.244308  -2.253385 -4.604472  -5.901774  -5.795706  -5.279323   \n",
              "28 -8.188615  -7.634659  -6.647243 -4.102952  -3.165506  -2.002150  -3.332121   \n",
              "29 -6.032721  -5.884153  -6.085602 -8.564739  -9.442709  -8.466565  -1.641920   \n",
              "30 -5.124138  -4.553929  -3.806380 -3.622825  -3.601876  -2.740142  -1.372594   \n",
              "31 -3.756060  -2.860031  -2.510263 -1.668777  -1.811569  -1.942916  -2.972255   \n",
              "\n",
              "           7         8          9  ...        11         12         13  \\\n",
              "0   1.649253  2.020006   3.393995  ...  6.689925   2.806568   2.284550   \n",
              "1  -4.406614 -6.672716  -6.151774  ... -1.753809  -4.716328  -6.550617   \n",
              "2   1.519697 -6.071300  -6.601756  ... -2.101869  -4.927761  -6.863948   \n",
              "3   6.059535 -3.085865  -6.842000  ... -6.686385   0.079588  -3.441120   \n",
              "4   5.804630  4.096418   2.091987  ... -0.073238   9.177040   6.552348   \n",
              "5   5.496642  8.027048   4.177650  ... -8.332519  10.120862   8.436590   \n",
              "6   2.872691 -4.880085  -7.709874  ...  1.378298   4.983977   0.354968   \n",
              "7   0.411633 -8.109541  -6.007352  ...  5.548955  -1.746994  -4.133826   \n",
              "8   2.077767  2.571421   5.142419  ...  6.191410   3.573081   5.111670   \n",
              "9   0.973179 -0.470191  -4.291147  ... -3.505181   8.309160   5.646467   \n",
              "10  8.451532  0.767215  -4.248254  ... -5.879599   2.553403   2.425194   \n",
              "11  3.228456  4.598870   1.765452  ... -0.721728   6.814932   6.646769   \n",
              "12 -1.561183 -4.646514  -6.460003  ...  3.543789   0.982621  -1.158251   \n",
              "13  4.731038  4.287653   1.946004  ...  1.909193   7.994963   6.299897   \n",
              "14  1.469141 -2.346058  -4.034632  ... -0.440079  -3.239766  -4.880779   \n",
              "15  4.432142 -3.132024  -6.248000  ...  4.220309   5.786398   1.656625   \n",
              "16  5.801228  1.899814  -1.002944  ... -4.813589   0.715747  -0.344572   \n",
              "17  4.814552 -4.856655  -5.239633  ...  0.250049  -5.377613  -6.971623   \n",
              "18  0.423505 -7.584843 -11.001111  ... -7.433343   2.670599  -3.023181   \n",
              "19  1.987217  0.303827   3.621012  ...  7.612748  -1.066766   0.920147   \n",
              "20  2.829304 -2.234903  -4.139180  ...  4.211072   1.997786  -1.900826   \n",
              "21  0.366992 -3.008720  -0.886876  ...  2.326484  -3.315514  -2.026490   \n",
              "22 -1.813948 -8.019189  -9.589877  ... -0.698601   2.802825  -2.236940   \n",
              "23  5.699116 -7.661643  -8.833399  ...  1.736269  -0.695926  -4.566597   \n",
              "24  7.574140 -5.303457  -8.472282  ... -4.110145   3.131267  -2.285170   \n",
              "25  0.979498  2.401417   3.669386  ...  6.001436  -2.470563  -0.462679   \n",
              "26 -3.487789 -4.234236  -6.512531  ...  0.528278  -4.376073  -5.308745   \n",
              "27  8.836626  3.073644  -1.215210  ... -3.292896   6.852069   6.322719   \n",
              "28  2.693455  0.146325   3.441575  ...  5.402279  -1.794858  -0.245984   \n",
              "29 -6.894546 -9.275775 -10.594083  ...  5.381641  -6.528655  -8.004577   \n",
              "30  0.615386 -1.253833  -0.409700  ...  4.932069  -1.237810  -0.567601   \n",
              "31  7.318804  7.265642   3.817959  ... -3.796754   9.743599  10.515910   \n",
              "\n",
              "          14        15        16        17        18  19_open  alz_true  \n",
              "0   3.875231  6.526203  7.748627  1.487036  3.558579        1         0  \n",
              "1  -6.709359 -6.197427 -4.428065 -4.695055 -4.963594        1         0  \n",
              "2  -7.555564 -7.215934 -5.711018 -5.880586 -6.358817        1         0  \n",
              "3  -4.912162 -5.635865 -2.150755 -1.248687 -0.436080        0         1  \n",
              "4   3.349693  1.551023  0.183745  6.354093  2.133264        0         0  \n",
              "5   3.498311 -2.426376 -6.120919  8.948363  2.673673        0         1  \n",
              "6  -4.357405 -5.899581 -2.894153 -1.236001 -3.802889        1         1  \n",
              "7  -2.204317  1.152432  5.291910  0.845758  3.389265        0         1  \n",
              "8   5.952815  7.207686  5.559418  3.425925  2.638094        0         1  \n",
              "9  -1.706895 -3.090584 -1.515017  4.828469  0.510714        0         0  \n",
              "10 -0.705444 -1.969012 -0.897209 -1.596189 -0.800251        0         1  \n",
              "11  3.304979  0.831046 -1.726097  3.772198  0.265385        0         0  \n",
              "12 -2.118355 -0.873102  2.746558  1.969393  1.943580        1         0  \n",
              "13  3.124257  2.409311  3.297316  5.741942  3.434336        0         0  \n",
              "14 -6.053722 -5.819270 -4.674701 -4.974313 -5.389818        0         0  \n",
              "15 -3.434295 -6.352911 -3.509122  1.192881 -2.829654        1         1  \n",
              "16 -2.876947 -5.079534 -6.215450 -4.253696 -6.623957        1         0  \n",
              "17 -7.160349 -6.158605 -4.509657 -7.435129 -6.882027        1         0  \n",
              "18 -4.201731 -6.286439  0.366349  0.935393  2.074470        0         1  \n",
              "19  3.515707  7.680501  6.794740  1.430571  3.245277        0         1  \n",
              "20 -3.522597  0.086659  4.734668  1.898874  2.745567        1         0  \n",
              "21  1.758944  3.613833  5.112778 -0.508315  3.225739        1         1  \n",
              "22 -2.787917 -3.512060  1.673652  4.859801  5.347918        0         1  \n",
              "23 -6.221086 -5.474884 -1.852465 -3.096570 -2.485142        1         1  \n",
              "24 -4.974224 -5.105370 -1.704699 -2.347067 -2.620462        1         1  \n",
              "25  0.600863  0.520147 -0.824645 -4.662126 -4.519549        0         0  \n",
              "26 -7.559369 -7.106351 -5.240351 -5.511112 -6.511902        1         0  \n",
              "27  1.662174 -0.423627 -4.035476 -0.172081 -2.775400        1         1  \n",
              "28  2.982897  7.056497  7.116568  1.873885  4.458433        1         1  \n",
              "29 -8.401614 -8.023803 -4.513889 -6.011033 -5.607915        0         0  \n",
              "30  2.234329  5.606501  5.543928 -0.029224  3.740243        0         0  \n",
              "31  5.860351  1.713627 -3.853932  4.010019  0.652334        1         1  \n",
              "\n",
              "[32 rows x 21 columns]"
            ],
            "text/html": [
              "\n",
              "  <div id=\"df-8dee28ad-3315-4240-b024-fe513de8a1d8\">\n",
              "    <div class=\"colab-df-container\">\n",
              "      <div>\n",
              "<style scoped>\n",
              "    .dataframe tbody tr th:only-of-type {\n",
              "        vertical-align: middle;\n",
              "    }\n",
              "\n",
              "    .dataframe tbody tr th {\n",
              "        vertical-align: top;\n",
              "    }\n",
              "\n",
              "    .dataframe thead th {\n",
              "        text-align: right;\n",
              "    }\n",
              "</style>\n",
              "<table border=\"1\" class=\"dataframe\">\n",
              "  <thead>\n",
              "    <tr style=\"text-align: right;\">\n",
              "      <th></th>\n",
              "      <th>0</th>\n",
              "      <th>1</th>\n",
              "      <th>2</th>\n",
              "      <th>3</th>\n",
              "      <th>4</th>\n",
              "      <th>5</th>\n",
              "      <th>6</th>\n",
              "      <th>7</th>\n",
              "      <th>8</th>\n",
              "      <th>9</th>\n",
              "      <th>...</th>\n",
              "      <th>11</th>\n",
              "      <th>12</th>\n",
              "      <th>13</th>\n",
              "      <th>14</th>\n",
              "      <th>15</th>\n",
              "      <th>16</th>\n",
              "      <th>17</th>\n",
              "      <th>18</th>\n",
              "      <th>19_open</th>\n",
              "      <th>alz_true</th>\n",
              "    </tr>\n",
              "  </thead>\n",
              "  <tbody>\n",
              "    <tr>\n",
              "      <th>0</th>\n",
              "      <td>-5.147697</td>\n",
              "      <td>-4.069511</td>\n",
              "      <td>-2.675679</td>\n",
              "      <td>-1.877494</td>\n",
              "      <td>-0.803392</td>\n",
              "      <td>0.590511</td>\n",
              "      <td>0.387466</td>\n",
              "      <td>1.649253</td>\n",
              "      <td>2.020006</td>\n",
              "      <td>3.393995</td>\n",
              "      <td>...</td>\n",
              "      <td>6.689925</td>\n",
              "      <td>2.806568</td>\n",
              "      <td>2.284550</td>\n",
              "      <td>3.875231</td>\n",
              "      <td>6.526203</td>\n",
              "      <td>7.748627</td>\n",
              "      <td>1.487036</td>\n",
              "      <td>3.558579</td>\n",
              "      <td>1</td>\n",
              "      <td>0</td>\n",
              "    </tr>\n",
              "    <tr>\n",
              "      <th>1</th>\n",
              "      <td>-0.527267</td>\n",
              "      <td>3.105159</td>\n",
              "      <td>-3.596607</td>\n",
              "      <td>-4.208751</td>\n",
              "      <td>-2.157986</td>\n",
              "      <td>0.293128</td>\n",
              "      <td>5.934668</td>\n",
              "      <td>-4.406614</td>\n",
              "      <td>-6.672716</td>\n",
              "      <td>-6.151774</td>\n",
              "      <td>...</td>\n",
              "      <td>-1.753809</td>\n",
              "      <td>-4.716328</td>\n",
              "      <td>-6.550617</td>\n",
              "      <td>-6.709359</td>\n",
              "      <td>-6.197427</td>\n",
              "      <td>-4.428065</td>\n",
              "      <td>-4.695055</td>\n",
              "      <td>-4.963594</td>\n",
              "      <td>1</td>\n",
              "      <td>0</td>\n",
              "    </tr>\n",
              "    <tr>\n",
              "      <th>2</th>\n",
              "      <td>-1.627039</td>\n",
              "      <td>3.551956</td>\n",
              "      <td>-3.168972</td>\n",
              "      <td>-3.817566</td>\n",
              "      <td>-4.837647</td>\n",
              "      <td>-5.144810</td>\n",
              "      <td>4.834230</td>\n",
              "      <td>1.519697</td>\n",
              "      <td>-6.071300</td>\n",
              "      <td>-6.601756</td>\n",
              "      <td>...</td>\n",
              "      <td>-2.101869</td>\n",
              "      <td>-4.927761</td>\n",
              "      <td>-6.863948</td>\n",
              "      <td>-7.555564</td>\n",
              "      <td>-7.215934</td>\n",
              "      <td>-5.711018</td>\n",
              "      <td>-5.880586</td>\n",
              "      <td>-6.358817</td>\n",
              "      <td>1</td>\n",
              "      <td>0</td>\n",
              "    </tr>\n",
              "    <tr>\n",
              "      <th>3</th>\n",
              "      <td>1.407800</td>\n",
              "      <td>-6.107195</td>\n",
              "      <td>8.524468</td>\n",
              "      <td>-2.036496</td>\n",
              "      <td>-5.790715</td>\n",
              "      <td>-8.208743</td>\n",
              "      <td>-9.811143</td>\n",
              "      <td>6.059535</td>\n",
              "      <td>-3.085865</td>\n",
              "      <td>-6.842000</td>\n",
              "      <td>...</td>\n",
              "      <td>-6.686385</td>\n",
              "      <td>0.079588</td>\n",
              "      <td>-3.441120</td>\n",
              "      <td>-4.912162</td>\n",
              "      <td>-5.635865</td>\n",
              "      <td>-2.150755</td>\n",
              "      <td>-1.248687</td>\n",
              "      <td>-0.436080</td>\n",
              "      <td>0</td>\n",
              "      <td>1</td>\n",
              "    </tr>\n",
              "    <tr>\n",
              "      <th>4</th>\n",
              "      <td>-4.829639</td>\n",
              "      <td>-4.498040</td>\n",
              "      <td>-1.971049</td>\n",
              "      <td>-0.894110</td>\n",
              "      <td>-0.756761</td>\n",
              "      <td>-0.881804</td>\n",
              "      <td>-2.280562</td>\n",
              "      <td>5.804630</td>\n",
              "      <td>4.096418</td>\n",
              "      <td>2.091987</td>\n",
              "      <td>...</td>\n",
              "      <td>-0.073238</td>\n",
              "      <td>9.177040</td>\n",
              "      <td>6.552348</td>\n",
              "      <td>3.349693</td>\n",
              "      <td>1.551023</td>\n",
              "      <td>0.183745</td>\n",
              "      <td>6.354093</td>\n",
              "      <td>2.133264</td>\n",
              "      <td>0</td>\n",
              "      <td>0</td>\n",
              "    </tr>\n",
              "    <tr>\n",
              "      <th>5</th>\n",
              "      <td>4.480844</td>\n",
              "      <td>2.679116</td>\n",
              "      <td>3.940449</td>\n",
              "      <td>6.267315</td>\n",
              "      <td>5.039695</td>\n",
              "      <td>3.144642</td>\n",
              "      <td>-1.382152</td>\n",
              "      <td>5.496642</td>\n",
              "      <td>8.027048</td>\n",
              "      <td>4.177650</td>\n",
              "      <td>...</td>\n",
              "      <td>-8.332519</td>\n",
              "      <td>10.120862</td>\n",
              "      <td>8.436590</td>\n",
              "      <td>3.498311</td>\n",
              "      <td>-2.426376</td>\n",
              "      <td>-6.120919</td>\n",
              "      <td>8.948363</td>\n",
              "      <td>2.673673</td>\n",
              "      <td>0</td>\n",
              "      <td>1</td>\n",
              "    </tr>\n",
              "    <tr>\n",
              "      <th>6</th>\n",
              "      <td>-7.111557</td>\n",
              "      <td>-6.899678</td>\n",
              "      <td>-5.413936</td>\n",
              "      <td>-8.549934</td>\n",
              "      <td>-9.376572</td>\n",
              "      <td>-9.232702</td>\n",
              "      <td>-7.484341</td>\n",
              "      <td>2.872691</td>\n",
              "      <td>-4.880085</td>\n",
              "      <td>-7.709874</td>\n",
              "      <td>...</td>\n",
              "      <td>1.378298</td>\n",
              "      <td>4.983977</td>\n",
              "      <td>0.354968</td>\n",
              "      <td>-4.357405</td>\n",
              "      <td>-5.899581</td>\n",
              "      <td>-2.894153</td>\n",
              "      <td>-1.236001</td>\n",
              "      <td>-3.802889</td>\n",
              "      <td>1</td>\n",
              "      <td>1</td>\n",
              "    </tr>\n",
              "    <tr>\n",
              "      <th>7</th>\n",
              "      <td>-6.146266</td>\n",
              "      <td>-3.448232</td>\n",
              "      <td>-10.062726</td>\n",
              "      <td>-9.909744</td>\n",
              "      <td>-8.015423</td>\n",
              "      <td>-4.719976</td>\n",
              "      <td>0.603781</td>\n",
              "      <td>0.411633</td>\n",
              "      <td>-8.109541</td>\n",
              "      <td>-6.007352</td>\n",
              "      <td>...</td>\n",
              "      <td>5.548955</td>\n",
              "      <td>-1.746994</td>\n",
              "      <td>-4.133826</td>\n",
              "      <td>-2.204317</td>\n",
              "      <td>1.152432</td>\n",
              "      <td>5.291910</td>\n",
              "      <td>0.845758</td>\n",
              "      <td>3.389265</td>\n",
              "      <td>0</td>\n",
              "      <td>1</td>\n",
              "    </tr>\n",
              "    <tr>\n",
              "      <th>8</th>\n",
              "      <td>-8.266539</td>\n",
              "      <td>-3.354807</td>\n",
              "      <td>-8.633417</td>\n",
              "      <td>-3.306996</td>\n",
              "      <td>-0.392658</td>\n",
              "      <td>2.567608</td>\n",
              "      <td>2.804953</td>\n",
              "      <td>2.077767</td>\n",
              "      <td>2.571421</td>\n",
              "      <td>5.142419</td>\n",
              "      <td>...</td>\n",
              "      <td>6.191410</td>\n",
              "      <td>3.573081</td>\n",
              "      <td>5.111670</td>\n",
              "      <td>5.952815</td>\n",
              "      <td>7.207686</td>\n",
              "      <td>5.559418</td>\n",
              "      <td>3.425925</td>\n",
              "      <td>2.638094</td>\n",
              "      <td>0</td>\n",
              "      <td>1</td>\n",
              "    </tr>\n",
              "    <tr>\n",
              "      <th>9</th>\n",
              "      <td>-4.997345</td>\n",
              "      <td>-4.035187</td>\n",
              "      <td>-5.689155</td>\n",
              "      <td>-5.397129</td>\n",
              "      <td>-5.599668</td>\n",
              "      <td>-5.017067</td>\n",
              "      <td>-0.381546</td>\n",
              "      <td>0.973179</td>\n",
              "      <td>-0.470191</td>\n",
              "      <td>-4.291147</td>\n",
              "      <td>...</td>\n",
              "      <td>-3.505181</td>\n",
              "      <td>8.309160</td>\n",
              "      <td>5.646467</td>\n",
              "      <td>-1.706895</td>\n",
              "      <td>-3.090584</td>\n",
              "      <td>-1.515017</td>\n",
              "      <td>4.828469</td>\n",
              "      <td>0.510714</td>\n",
              "      <td>0</td>\n",
              "      <td>0</td>\n",
              "    </tr>\n",
              "    <tr>\n",
              "      <th>10</th>\n",
              "      <td>-5.264453</td>\n",
              "      <td>-9.429228</td>\n",
              "      <td>2.282589</td>\n",
              "      <td>-3.821768</td>\n",
              "      <td>-7.714284</td>\n",
              "      <td>-9.868372</td>\n",
              "      <td>-10.589553</td>\n",
              "      <td>8.451532</td>\n",
              "      <td>0.767215</td>\n",
              "      <td>-4.248254</td>\n",
              "      <td>...</td>\n",
              "      <td>-5.879599</td>\n",
              "      <td>2.553403</td>\n",
              "      <td>2.425194</td>\n",
              "      <td>-0.705444</td>\n",
              "      <td>-1.969012</td>\n",
              "      <td>-0.897209</td>\n",
              "      <td>-1.596189</td>\n",
              "      <td>-0.800251</td>\n",
              "      <td>0</td>\n",
              "      <td>1</td>\n",
              "    </tr>\n",
              "    <tr>\n",
              "      <th>11</th>\n",
              "      <td>-4.117091</td>\n",
              "      <td>-4.368013</td>\n",
              "      <td>-2.463076</td>\n",
              "      <td>-1.797292</td>\n",
              "      <td>-1.786420</td>\n",
              "      <td>-2.461101</td>\n",
              "      <td>-3.521878</td>\n",
              "      <td>3.228456</td>\n",
              "      <td>4.598870</td>\n",
              "      <td>1.765452</td>\n",
              "      <td>...</td>\n",
              "      <td>-0.721728</td>\n",
              "      <td>6.814932</td>\n",
              "      <td>6.646769</td>\n",
              "      <td>3.304979</td>\n",
              "      <td>0.831046</td>\n",
              "      <td>-1.726097</td>\n",
              "      <td>3.772198</td>\n",
              "      <td>0.265385</td>\n",
              "      <td>0</td>\n",
              "      <td>0</td>\n",
              "    </tr>\n",
              "    <tr>\n",
              "      <th>12</th>\n",
              "      <td>-4.986048</td>\n",
              "      <td>-1.575166</td>\n",
              "      <td>-3.788746</td>\n",
              "      <td>-6.458036</td>\n",
              "      <td>-7.058269</td>\n",
              "      <td>-4.253415</td>\n",
              "      <td>2.798848</td>\n",
              "      <td>-1.561183</td>\n",
              "      <td>-4.646514</td>\n",
              "      <td>-6.460003</td>\n",
              "      <td>...</td>\n",
              "      <td>3.543789</td>\n",
              "      <td>0.982621</td>\n",
              "      <td>-1.158251</td>\n",
              "      <td>-2.118355</td>\n",
              "      <td>-0.873102</td>\n",
              "      <td>2.746558</td>\n",
              "      <td>1.969393</td>\n",
              "      <td>1.943580</td>\n",
              "      <td>1</td>\n",
              "      <td>0</td>\n",
              "    </tr>\n",
              "    <tr>\n",
              "      <th>13</th>\n",
              "      <td>-4.064623</td>\n",
              "      <td>-4.526077</td>\n",
              "      <td>-0.810448</td>\n",
              "      <td>0.145718</td>\n",
              "      <td>-0.335462</td>\n",
              "      <td>-0.850349</td>\n",
              "      <td>-1.804546</td>\n",
              "      <td>4.731038</td>\n",
              "      <td>4.287653</td>\n",
              "      <td>1.946004</td>\n",
              "      <td>...</td>\n",
              "      <td>1.909193</td>\n",
              "      <td>7.994963</td>\n",
              "      <td>6.299897</td>\n",
              "      <td>3.124257</td>\n",
              "      <td>2.409311</td>\n",
              "      <td>3.297316</td>\n",
              "      <td>5.741942</td>\n",
              "      <td>3.434336</td>\n",
              "      <td>0</td>\n",
              "      <td>0</td>\n",
              "    </tr>\n",
              "    <tr>\n",
              "      <th>14</th>\n",
              "      <td>-0.359284</td>\n",
              "      <td>-1.032589</td>\n",
              "      <td>3.954956</td>\n",
              "      <td>-0.654194</td>\n",
              "      <td>-1.584702</td>\n",
              "      <td>-0.980738</td>\n",
              "      <td>2.796085</td>\n",
              "      <td>1.469141</td>\n",
              "      <td>-2.346058</td>\n",
              "      <td>-4.034632</td>\n",
              "      <td>...</td>\n",
              "      <td>-0.440079</td>\n",
              "      <td>-3.239766</td>\n",
              "      <td>-4.880779</td>\n",
              "      <td>-6.053722</td>\n",
              "      <td>-5.819270</td>\n",
              "      <td>-4.674701</td>\n",
              "      <td>-4.974313</td>\n",
              "      <td>-5.389818</td>\n",
              "      <td>0</td>\n",
              "      <td>0</td>\n",
              "    </tr>\n",
              "    <tr>\n",
              "      <th>15</th>\n",
              "      <td>-8.248898</td>\n",
              "      <td>-7.665391</td>\n",
              "      <td>-5.266462</td>\n",
              "      <td>-6.936076</td>\n",
              "      <td>-8.513766</td>\n",
              "      <td>-8.527606</td>\n",
              "      <td>-5.775796</td>\n",
              "      <td>4.432142</td>\n",
              "      <td>-3.132024</td>\n",
              "      <td>-6.248000</td>\n",
              "      <td>...</td>\n",
              "      <td>4.220309</td>\n",
              "      <td>5.786398</td>\n",
              "      <td>1.656625</td>\n",
              "      <td>-3.434295</td>\n",
              "      <td>-6.352911</td>\n",
              "      <td>-3.509122</td>\n",
              "      <td>1.192881</td>\n",
              "      <td>-2.829654</td>\n",
              "      <td>1</td>\n",
              "      <td>1</td>\n",
              "    </tr>\n",
              "    <tr>\n",
              "      <th>16</th>\n",
              "      <td>1.956866</td>\n",
              "      <td>2.810369</td>\n",
              "      <td>2.063193</td>\n",
              "      <td>1.319344</td>\n",
              "      <td>0.634990</td>\n",
              "      <td>0.052289</td>\n",
              "      <td>0.970664</td>\n",
              "      <td>5.801228</td>\n",
              "      <td>1.899814</td>\n",
              "      <td>-1.002944</td>\n",
              "      <td>...</td>\n",
              "      <td>-4.813589</td>\n",
              "      <td>0.715747</td>\n",
              "      <td>-0.344572</td>\n",
              "      <td>-2.876947</td>\n",
              "      <td>-5.079534</td>\n",
              "      <td>-6.215450</td>\n",
              "      <td>-4.253696</td>\n",
              "      <td>-6.623957</td>\n",
              "      <td>1</td>\n",
              "      <td>0</td>\n",
              "    </tr>\n",
              "    <tr>\n",
              "      <th>17</th>\n",
              "      <td>-1.450645</td>\n",
              "      <td>-0.155625</td>\n",
              "      <td>-2.626939</td>\n",
              "      <td>-2.705523</td>\n",
              "      <td>-2.488574</td>\n",
              "      <td>-1.268382</td>\n",
              "      <td>0.546199</td>\n",
              "      <td>4.814552</td>\n",
              "      <td>-4.856655</td>\n",
              "      <td>-5.239633</td>\n",
              "      <td>...</td>\n",
              "      <td>0.250049</td>\n",
              "      <td>-5.377613</td>\n",
              "      <td>-6.971623</td>\n",
              "      <td>-7.160349</td>\n",
              "      <td>-6.158605</td>\n",
              "      <td>-4.509657</td>\n",
              "      <td>-7.435129</td>\n",
              "      <td>-6.882027</td>\n",
              "      <td>1</td>\n",
              "      <td>0</td>\n",
              "    </tr>\n",
              "    <tr>\n",
              "      <th>18</th>\n",
              "      <td>-4.998154</td>\n",
              "      <td>-6.708626</td>\n",
              "      <td>-3.035235</td>\n",
              "      <td>-8.623442</td>\n",
              "      <td>-11.172899</td>\n",
              "      <td>-11.523912</td>\n",
              "      <td>-9.234354</td>\n",
              "      <td>0.423505</td>\n",
              "      <td>-7.584843</td>\n",
              "      <td>-11.001111</td>\n",
              "      <td>...</td>\n",
              "      <td>-7.433343</td>\n",
              "      <td>2.670599</td>\n",
              "      <td>-3.023181</td>\n",
              "      <td>-4.201731</td>\n",
              "      <td>-6.286439</td>\n",
              "      <td>0.366349</td>\n",
              "      <td>0.935393</td>\n",
              "      <td>2.074470</td>\n",
              "      <td>0</td>\n",
              "      <td>1</td>\n",
              "    </tr>\n",
              "    <tr>\n",
              "      <th>19</th>\n",
              "      <td>-9.198057</td>\n",
              "      <td>-6.104770</td>\n",
              "      <td>-6.953714</td>\n",
              "      <td>-3.549368</td>\n",
              "      <td>-2.350171</td>\n",
              "      <td>-0.048888</td>\n",
              "      <td>-0.340369</td>\n",
              "      <td>1.987217</td>\n",
              "      <td>0.303827</td>\n",
              "      <td>3.621012</td>\n",
              "      <td>...</td>\n",
              "      <td>7.612748</td>\n",
              "      <td>-1.066766</td>\n",
              "      <td>0.920147</td>\n",
              "      <td>3.515707</td>\n",
              "      <td>7.680501</td>\n",
              "      <td>6.794740</td>\n",
              "      <td>1.430571</td>\n",
              "      <td>3.245277</td>\n",
              "      <td>0</td>\n",
              "      <td>1</td>\n",
              "    </tr>\n",
              "    <tr>\n",
              "      <th>20</th>\n",
              "      <td>-5.299296</td>\n",
              "      <td>-6.753342</td>\n",
              "      <td>-0.706844</td>\n",
              "      <td>-1.827959</td>\n",
              "      <td>-2.750778</td>\n",
              "      <td>-4.254024</td>\n",
              "      <td>-5.184828</td>\n",
              "      <td>2.829304</td>\n",
              "      <td>-2.234903</td>\n",
              "      <td>-4.139180</td>\n",
              "      <td>...</td>\n",
              "      <td>4.211072</td>\n",
              "      <td>1.997786</td>\n",
              "      <td>-1.900826</td>\n",
              "      <td>-3.522597</td>\n",
              "      <td>0.086659</td>\n",
              "      <td>4.734668</td>\n",
              "      <td>1.898874</td>\n",
              "      <td>2.745567</td>\n",
              "      <td>1</td>\n",
              "      <td>0</td>\n",
              "    </tr>\n",
              "    <tr>\n",
              "      <th>21</th>\n",
              "      <td>-7.427865</td>\n",
              "      <td>-7.385867</td>\n",
              "      <td>-5.677616</td>\n",
              "      <td>-5.638045</td>\n",
              "      <td>-5.484154</td>\n",
              "      <td>-6.120240</td>\n",
              "      <td>-5.167449</td>\n",
              "      <td>0.366992</td>\n",
              "      <td>-3.008720</td>\n",
              "      <td>-0.886876</td>\n",
              "      <td>...</td>\n",
              "      <td>2.326484</td>\n",
              "      <td>-3.315514</td>\n",
              "      <td>-2.026490</td>\n",
              "      <td>1.758944</td>\n",
              "      <td>3.613833</td>\n",
              "      <td>5.112778</td>\n",
              "      <td>-0.508315</td>\n",
              "      <td>3.225739</td>\n",
              "      <td>1</td>\n",
              "      <td>1</td>\n",
              "    </tr>\n",
              "    <tr>\n",
              "      <th>22</th>\n",
              "      <td>-5.715215</td>\n",
              "      <td>-3.537126</td>\n",
              "      <td>-5.603371</td>\n",
              "      <td>-8.851698</td>\n",
              "      <td>-9.068129</td>\n",
              "      <td>-7.371671</td>\n",
              "      <td>-1.915514</td>\n",
              "      <td>-1.813948</td>\n",
              "      <td>-8.019189</td>\n",
              "      <td>-9.589877</td>\n",
              "      <td>...</td>\n",
              "      <td>-0.698601</td>\n",
              "      <td>2.802825</td>\n",
              "      <td>-2.236940</td>\n",
              "      <td>-2.787917</td>\n",
              "      <td>-3.512060</td>\n",
              "      <td>1.673652</td>\n",
              "      <td>4.859801</td>\n",
              "      <td>5.347918</td>\n",
              "      <td>0</td>\n",
              "      <td>1</td>\n",
              "    </tr>\n",
              "    <tr>\n",
              "      <th>23</th>\n",
              "      <td>-7.987352</td>\n",
              "      <td>-7.782076</td>\n",
              "      <td>-7.437581</td>\n",
              "      <td>-9.081920</td>\n",
              "      <td>-9.045080</td>\n",
              "      <td>-8.850953</td>\n",
              "      <td>-7.700688</td>\n",
              "      <td>5.699116</td>\n",
              "      <td>-7.661643</td>\n",
              "      <td>-8.833399</td>\n",
              "      <td>...</td>\n",
              "      <td>1.736269</td>\n",
              "      <td>-0.695926</td>\n",
              "      <td>-4.566597</td>\n",
              "      <td>-6.221086</td>\n",
              "      <td>-5.474884</td>\n",
              "      <td>-1.852465</td>\n",
              "      <td>-3.096570</td>\n",
              "      <td>-2.485142</td>\n",
              "      <td>1</td>\n",
              "      <td>1</td>\n",
              "    </tr>\n",
              "    <tr>\n",
              "      <th>24</th>\n",
              "      <td>-7.674206</td>\n",
              "      <td>-10.431819</td>\n",
              "      <td>-3.180111</td>\n",
              "      <td>-8.726095</td>\n",
              "      <td>-10.217206</td>\n",
              "      <td>-10.365945</td>\n",
              "      <td>-9.042376</td>\n",
              "      <td>7.574140</td>\n",
              "      <td>-5.303457</td>\n",
              "      <td>-8.472282</td>\n",
              "      <td>...</td>\n",
              "      <td>-4.110145</td>\n",
              "      <td>3.131267</td>\n",
              "      <td>-2.285170</td>\n",
              "      <td>-4.974224</td>\n",
              "      <td>-5.105370</td>\n",
              "      <td>-1.704699</td>\n",
              "      <td>-2.347067</td>\n",
              "      <td>-2.620462</td>\n",
              "      <td>1</td>\n",
              "      <td>1</td>\n",
              "    </tr>\n",
              "    <tr>\n",
              "      <th>25</th>\n",
              "      <td>0.336934</td>\n",
              "      <td>2.367571</td>\n",
              "      <td>0.867083</td>\n",
              "      <td>2.551130</td>\n",
              "      <td>3.907675</td>\n",
              "      <td>5.587507</td>\n",
              "      <td>7.516354</td>\n",
              "      <td>0.979498</td>\n",
              "      <td>2.401417</td>\n",
              "      <td>3.669386</td>\n",
              "      <td>...</td>\n",
              "      <td>6.001436</td>\n",
              "      <td>-2.470563</td>\n",
              "      <td>-0.462679</td>\n",
              "      <td>0.600863</td>\n",
              "      <td>0.520147</td>\n",
              "      <td>-0.824645</td>\n",
              "      <td>-4.662126</td>\n",
              "      <td>-4.519549</td>\n",
              "      <td>0</td>\n",
              "      <td>0</td>\n",
              "    </tr>\n",
              "    <tr>\n",
              "      <th>26</th>\n",
              "      <td>3.315101</td>\n",
              "      <td>5.758258</td>\n",
              "      <td>-2.135453</td>\n",
              "      <td>-2.728553</td>\n",
              "      <td>-2.099430</td>\n",
              "      <td>0.074076</td>\n",
              "      <td>6.287356</td>\n",
              "      <td>-3.487789</td>\n",
              "      <td>-4.234236</td>\n",
              "      <td>-6.512531</td>\n",
              "      <td>...</td>\n",
              "      <td>0.528278</td>\n",
              "      <td>-4.376073</td>\n",
              "      <td>-5.308745</td>\n",
              "      <td>-7.559369</td>\n",
              "      <td>-7.106351</td>\n",
              "      <td>-5.240351</td>\n",
              "      <td>-5.511112</td>\n",
              "      <td>-6.511902</td>\n",
              "      <td>1</td>\n",
              "      <td>0</td>\n",
              "    </tr>\n",
              "    <tr>\n",
              "      <th>27</th>\n",
              "      <td>-7.106920</td>\n",
              "      <td>-7.244308</td>\n",
              "      <td>-2.253385</td>\n",
              "      <td>-4.604472</td>\n",
              "      <td>-5.901774</td>\n",
              "      <td>-5.795706</td>\n",
              "      <td>-5.279323</td>\n",
              "      <td>8.836626</td>\n",
              "      <td>3.073644</td>\n",
              "      <td>-1.215210</td>\n",
              "      <td>...</td>\n",
              "      <td>-3.292896</td>\n",
              "      <td>6.852069</td>\n",
              "      <td>6.322719</td>\n",
              "      <td>1.662174</td>\n",
              "      <td>-0.423627</td>\n",
              "      <td>-4.035476</td>\n",
              "      <td>-0.172081</td>\n",
              "      <td>-2.775400</td>\n",
              "      <td>1</td>\n",
              "      <td>1</td>\n",
              "    </tr>\n",
              "    <tr>\n",
              "      <th>28</th>\n",
              "      <td>-8.188615</td>\n",
              "      <td>-7.634659</td>\n",
              "      <td>-6.647243</td>\n",
              "      <td>-4.102952</td>\n",
              "      <td>-3.165506</td>\n",
              "      <td>-2.002150</td>\n",
              "      <td>-3.332121</td>\n",
              "      <td>2.693455</td>\n",
              "      <td>0.146325</td>\n",
              "      <td>3.441575</td>\n",
              "      <td>...</td>\n",
              "      <td>5.402279</td>\n",
              "      <td>-1.794858</td>\n",
              "      <td>-0.245984</td>\n",
              "      <td>2.982897</td>\n",
              "      <td>7.056497</td>\n",
              "      <td>7.116568</td>\n",
              "      <td>1.873885</td>\n",
              "      <td>4.458433</td>\n",
              "      <td>1</td>\n",
              "      <td>1</td>\n",
              "    </tr>\n",
              "    <tr>\n",
              "      <th>29</th>\n",
              "      <td>-6.032721</td>\n",
              "      <td>-5.884153</td>\n",
              "      <td>-6.085602</td>\n",
              "      <td>-8.564739</td>\n",
              "      <td>-9.442709</td>\n",
              "      <td>-8.466565</td>\n",
              "      <td>-1.641920</td>\n",
              "      <td>-6.894546</td>\n",
              "      <td>-9.275775</td>\n",
              "      <td>-10.594083</td>\n",
              "      <td>...</td>\n",
              "      <td>5.381641</td>\n",
              "      <td>-6.528655</td>\n",
              "      <td>-8.004577</td>\n",
              "      <td>-8.401614</td>\n",
              "      <td>-8.023803</td>\n",
              "      <td>-4.513889</td>\n",
              "      <td>-6.011033</td>\n",
              "      <td>-5.607915</td>\n",
              "      <td>0</td>\n",
              "      <td>0</td>\n",
              "    </tr>\n",
              "    <tr>\n",
              "      <th>30</th>\n",
              "      <td>-5.124138</td>\n",
              "      <td>-4.553929</td>\n",
              "      <td>-3.806380</td>\n",
              "      <td>-3.622825</td>\n",
              "      <td>-3.601876</td>\n",
              "      <td>-2.740142</td>\n",
              "      <td>-1.372594</td>\n",
              "      <td>0.615386</td>\n",
              "      <td>-1.253833</td>\n",
              "      <td>-0.409700</td>\n",
              "      <td>...</td>\n",
              "      <td>4.932069</td>\n",
              "      <td>-1.237810</td>\n",
              "      <td>-0.567601</td>\n",
              "      <td>2.234329</td>\n",
              "      <td>5.606501</td>\n",
              "      <td>5.543928</td>\n",
              "      <td>-0.029224</td>\n",
              "      <td>3.740243</td>\n",
              "      <td>0</td>\n",
              "      <td>0</td>\n",
              "    </tr>\n",
              "    <tr>\n",
              "      <th>31</th>\n",
              "      <td>-3.756060</td>\n",
              "      <td>-2.860031</td>\n",
              "      <td>-2.510263</td>\n",
              "      <td>-1.668777</td>\n",
              "      <td>-1.811569</td>\n",
              "      <td>-1.942916</td>\n",
              "      <td>-2.972255</td>\n",
              "      <td>7.318804</td>\n",
              "      <td>7.265642</td>\n",
              "      <td>3.817959</td>\n",
              "      <td>...</td>\n",
              "      <td>-3.796754</td>\n",
              "      <td>9.743599</td>\n",
              "      <td>10.515910</td>\n",
              "      <td>5.860351</td>\n",
              "      <td>1.713627</td>\n",
              "      <td>-3.853932</td>\n",
              "      <td>4.010019</td>\n",
              "      <td>0.652334</td>\n",
              "      <td>1</td>\n",
              "      <td>1</td>\n",
              "    </tr>\n",
              "  </tbody>\n",
              "</table>\n",
              "<p>32 rows × 21 columns</p>\n",
              "</div>\n",
              "      <button class=\"colab-df-convert\" onclick=\"convertToInteractive('df-8dee28ad-3315-4240-b024-fe513de8a1d8')\"\n",
              "              title=\"Convert this dataframe to an interactive table.\"\n",
              "              style=\"display:none;\">\n",
              "        \n",
              "  <svg xmlns=\"http://www.w3.org/2000/svg\" height=\"24px\"viewBox=\"0 0 24 24\"\n",
              "       width=\"24px\">\n",
              "    <path d=\"M0 0h24v24H0V0z\" fill=\"none\"/>\n",
              "    <path d=\"M18.56 5.44l.94 2.06.94-2.06 2.06-.94-2.06-.94-.94-2.06-.94 2.06-2.06.94zm-11 1L8.5 8.5l.94-2.06 2.06-.94-2.06-.94L8.5 2.5l-.94 2.06-2.06.94zm10 10l.94 2.06.94-2.06 2.06-.94-2.06-.94-.94-2.06-.94 2.06-2.06.94z\"/><path d=\"M17.41 7.96l-1.37-1.37c-.4-.4-.92-.59-1.43-.59-.52 0-1.04.2-1.43.59L10.3 9.45l-7.72 7.72c-.78.78-.78 2.05 0 2.83L4 21.41c.39.39.9.59 1.41.59.51 0 1.02-.2 1.41-.59l7.78-7.78 2.81-2.81c.8-.78.8-2.07 0-2.86zM5.41 20L4 18.59l7.72-7.72 1.47 1.35L5.41 20z\"/>\n",
              "  </svg>\n",
              "      </button>\n",
              "      \n",
              "  <style>\n",
              "    .colab-df-container {\n",
              "      display:flex;\n",
              "      flex-wrap:wrap;\n",
              "      gap: 12px;\n",
              "    }\n",
              "\n",
              "    .colab-df-convert {\n",
              "      background-color: #E8F0FE;\n",
              "      border: none;\n",
              "      border-radius: 50%;\n",
              "      cursor: pointer;\n",
              "      display: none;\n",
              "      fill: #1967D2;\n",
              "      height: 32px;\n",
              "      padding: 0 0 0 0;\n",
              "      width: 32px;\n",
              "    }\n",
              "\n",
              "    .colab-df-convert:hover {\n",
              "      background-color: #E2EBFA;\n",
              "      box-shadow: 0px 1px 2px rgba(60, 64, 67, 0.3), 0px 1px 3px 1px rgba(60, 64, 67, 0.15);\n",
              "      fill: #174EA6;\n",
              "    }\n",
              "\n",
              "    [theme=dark] .colab-df-convert {\n",
              "      background-color: #3B4455;\n",
              "      fill: #D2E3FC;\n",
              "    }\n",
              "\n",
              "    [theme=dark] .colab-df-convert:hover {\n",
              "      background-color: #434B5C;\n",
              "      box-shadow: 0px 1px 3px 1px rgba(0, 0, 0, 0.15);\n",
              "      filter: drop-shadow(0px 1px 2px rgba(0, 0, 0, 0.3));\n",
              "      fill: #FFFFFF;\n",
              "    }\n",
              "  </style>\n",
              "\n",
              "      <script>\n",
              "        const buttonEl =\n",
              "          document.querySelector('#df-8dee28ad-3315-4240-b024-fe513de8a1d8 button.colab-df-convert');\n",
              "        buttonEl.style.display =\n",
              "          google.colab.kernel.accessAllowed ? 'block' : 'none';\n",
              "\n",
              "        async function convertToInteractive(key) {\n",
              "          const element = document.querySelector('#df-8dee28ad-3315-4240-b024-fe513de8a1d8');\n",
              "          const dataTable =\n",
              "            await google.colab.kernel.invokeFunction('convertToInteractive',\n",
              "                                                     [key], {});\n",
              "          if (!dataTable) return;\n",
              "\n",
              "          const docLinkHtml = 'Like what you see? Visit the ' +\n",
              "            '<a target=\"_blank\" href=https://colab.research.google.com/notebooks/data_table.ipynb>data table notebook</a>'\n",
              "            + ' to learn more about interactive tables.';\n",
              "          element.innerHTML = '';\n",
              "          dataTable['output_type'] = 'display_data';\n",
              "          await google.colab.output.renderOutput(dataTable, element);\n",
              "          const docLink = document.createElement('div');\n",
              "          docLink.innerHTML = docLinkHtml;\n",
              "          element.appendChild(docLink);\n",
              "        }\n",
              "      </script>\n",
              "    </div>\n",
              "  </div>\n",
              "  "
            ]
          },
          "metadata": {},
          "execution_count": 16
        }
      ]
    },
    {
      "cell_type": "code",
      "source": [
        "X_train,y_train = train[train.columns[:-1]].values , train[train.columns[-1]].values\n",
        "X_test,y_test = test[test.columns[:-1]].values, test[test.columns[-1]].values"
      ],
      "metadata": {
        "id": "64SH5d22x7Qg"
      },
      "execution_count": 17,
      "outputs": []
    },
    {
      "cell_type": "code",
      "execution_count": 18,
      "metadata": {
        "colab": {
          "base_uri": "https://localhost:8080/"
        },
        "id": "7RNdhVhfCMyv",
        "outputId": "d55d636e-1a32-471a-f128-5dcd52c3ebaa"
      },
      "outputs": [
        {
          "output_type": "stream",
          "name": "stdout",
          "text": [
            "(160, 20) (160,)\n"
          ]
        }
      ],
      "source": [
        "print(X_train.shape, y_train.shape)"
      ]
    },
    {
      "cell_type": "code",
      "execution_count": 19,
      "metadata": {
        "colab": {
          "base_uri": "https://localhost:8080/"
        },
        "id": "KaYF3ru4CMyv",
        "outputId": "c5ddba68-dd98-4ee3-a171-4fc92d4d8c76"
      },
      "outputs": [
        {
          "output_type": "stream",
          "name": "stdout",
          "text": [
            "(32, 20) (32,)\n"
          ]
        }
      ],
      "source": [
        "print(X_test.shape, y_test.shape)"
      ]
    },
    {
      "cell_type": "markdown",
      "metadata": {
        "id": "dtDRzsGtCMyv"
      },
      "source": [
        "NON-LINEAR MODELS"
      ]
    },
    {
      "cell_type": "code",
      "execution_count": 22,
      "metadata": {
        "id": "7LECN6jTCMyv"
      },
      "outputs": [],
      "source": [
        "from sklearn import svm"
      ]
    },
    {
      "cell_type": "code",
      "execution_count": 23,
      "metadata": {
        "colab": {
          "base_uri": "https://localhost:8080/",
          "height": 75
        },
        "id": "lD3brURVCMyv",
        "outputId": "e4449100-ef27-4ad3-cac7-220755681414"
      },
      "outputs": [
        {
          "output_type": "execute_result",
          "data": {
            "text/plain": [
              "SVC()"
            ],
            "text/html": [
              "<style>#sk-container-id-2 {color: black;background-color: white;}#sk-container-id-2 pre{padding: 0;}#sk-container-id-2 div.sk-toggleable {background-color: white;}#sk-container-id-2 label.sk-toggleable__label {cursor: pointer;display: block;width: 100%;margin-bottom: 0;padding: 0.3em;box-sizing: border-box;text-align: center;}#sk-container-id-2 label.sk-toggleable__label-arrow:before {content: \"▸\";float: left;margin-right: 0.25em;color: #696969;}#sk-container-id-2 label.sk-toggleable__label-arrow:hover:before {color: black;}#sk-container-id-2 div.sk-estimator:hover label.sk-toggleable__label-arrow:before {color: black;}#sk-container-id-2 div.sk-toggleable__content {max-height: 0;max-width: 0;overflow: hidden;text-align: left;background-color: #f0f8ff;}#sk-container-id-2 div.sk-toggleable__content pre {margin: 0.2em;color: black;border-radius: 0.25em;background-color: #f0f8ff;}#sk-container-id-2 input.sk-toggleable__control:checked~div.sk-toggleable__content {max-height: 200px;max-width: 100%;overflow: auto;}#sk-container-id-2 input.sk-toggleable__control:checked~label.sk-toggleable__label-arrow:before {content: \"▾\";}#sk-container-id-2 div.sk-estimator input.sk-toggleable__control:checked~label.sk-toggleable__label {background-color: #d4ebff;}#sk-container-id-2 div.sk-label input.sk-toggleable__control:checked~label.sk-toggleable__label {background-color: #d4ebff;}#sk-container-id-2 input.sk-hidden--visually {border: 0;clip: rect(1px 1px 1px 1px);clip: rect(1px, 1px, 1px, 1px);height: 1px;margin: -1px;overflow: hidden;padding: 0;position: absolute;width: 1px;}#sk-container-id-2 div.sk-estimator {font-family: monospace;background-color: #f0f8ff;border: 1px dotted black;border-radius: 0.25em;box-sizing: border-box;margin-bottom: 0.5em;}#sk-container-id-2 div.sk-estimator:hover {background-color: #d4ebff;}#sk-container-id-2 div.sk-parallel-item::after {content: \"\";width: 100%;border-bottom: 1px solid gray;flex-grow: 1;}#sk-container-id-2 div.sk-label:hover label.sk-toggleable__label {background-color: #d4ebff;}#sk-container-id-2 div.sk-serial::before {content: \"\";position: absolute;border-left: 1px solid gray;box-sizing: border-box;top: 0;bottom: 0;left: 50%;z-index: 0;}#sk-container-id-2 div.sk-serial {display: flex;flex-direction: column;align-items: center;background-color: white;padding-right: 0.2em;padding-left: 0.2em;position: relative;}#sk-container-id-2 div.sk-item {position: relative;z-index: 1;}#sk-container-id-2 div.sk-parallel {display: flex;align-items: stretch;justify-content: center;background-color: white;position: relative;}#sk-container-id-2 div.sk-item::before, #sk-container-id-2 div.sk-parallel-item::before {content: \"\";position: absolute;border-left: 1px solid gray;box-sizing: border-box;top: 0;bottom: 0;left: 50%;z-index: -1;}#sk-container-id-2 div.sk-parallel-item {display: flex;flex-direction: column;z-index: 1;position: relative;background-color: white;}#sk-container-id-2 div.sk-parallel-item:first-child::after {align-self: flex-end;width: 50%;}#sk-container-id-2 div.sk-parallel-item:last-child::after {align-self: flex-start;width: 50%;}#sk-container-id-2 div.sk-parallel-item:only-child::after {width: 0;}#sk-container-id-2 div.sk-dashed-wrapped {border: 1px dashed gray;margin: 0 0.4em 0.5em 0.4em;box-sizing: border-box;padding-bottom: 0.4em;background-color: white;}#sk-container-id-2 div.sk-label label {font-family: monospace;font-weight: bold;display: inline-block;line-height: 1.2em;}#sk-container-id-2 div.sk-label-container {text-align: center;}#sk-container-id-2 div.sk-container {/* jupyter's `normalize.less` sets `[hidden] { display: none; }` but bootstrap.min.css set `[hidden] { display: none !important; }` so we also need the `!important` here to be able to override the default hidden behavior on the sphinx rendered scikit-learn.org. See: https://github.com/scikit-learn/scikit-learn/issues/21755 */display: inline-block !important;position: relative;}#sk-container-id-2 div.sk-text-repr-fallback {display: none;}</style><div id=\"sk-container-id-2\" class=\"sk-top-container\"><div class=\"sk-text-repr-fallback\"><pre>SVC()</pre><b>In a Jupyter environment, please rerun this cell to show the HTML representation or trust the notebook. <br />On GitHub, the HTML representation is unable to render, please try loading this page with nbviewer.org.</b></div><div class=\"sk-container\" hidden><div class=\"sk-item\"><div class=\"sk-estimator sk-toggleable\"><input class=\"sk-toggleable__control sk-hidden--visually\" id=\"sk-estimator-id-2\" type=\"checkbox\" checked><label for=\"sk-estimator-id-2\" class=\"sk-toggleable__label sk-toggleable__label-arrow\">SVC</label><div class=\"sk-toggleable__content\"><pre>SVC()</pre></div></div></div></div></div>"
            ]
          },
          "metadata": {},
          "execution_count": 23
        }
      ],
      "source": [
        "clf = svm.SVC()\n",
        "clf.fit(X_train, y_train)"
      ]
    },
    {
      "cell_type": "code",
      "execution_count": 24,
      "metadata": {
        "colab": {
          "base_uri": "https://localhost:8080/"
        },
        "id": "CtwAxRgqCMyw",
        "outputId": "1c875710-a475-4cb9-9f89-8721c8a2aca7"
      },
      "outputs": [
        {
          "output_type": "stream",
          "name": "stdout",
          "text": [
            "96.875\n"
          ]
        }
      ],
      "source": [
        "Accuracy_SVM = clf.score(X_test, y_test)\n",
        "print(Accuracy_SVM*100)"
      ]
    },
    {
      "cell_type": "code",
      "execution_count": 25,
      "metadata": {
        "id": "t36aRG8JCMyw"
      },
      "outputs": [],
      "source": [
        "from sklearn.linear_model import LogisticRegression"
      ]
    },
    {
      "cell_type": "code",
      "execution_count": 26,
      "metadata": {
        "colab": {
          "base_uri": "https://localhost:8080/",
          "height": 75
        },
        "id": "ofKU_DIpCMyw",
        "outputId": "702f306f-70be-4fe6-fb40-38afc9bb1938"
      },
      "outputs": [
        {
          "output_type": "execute_result",
          "data": {
            "text/plain": [
              "LogisticRegression()"
            ],
            "text/html": [
              "<style>#sk-container-id-3 {color: black;background-color: white;}#sk-container-id-3 pre{padding: 0;}#sk-container-id-3 div.sk-toggleable {background-color: white;}#sk-container-id-3 label.sk-toggleable__label {cursor: pointer;display: block;width: 100%;margin-bottom: 0;padding: 0.3em;box-sizing: border-box;text-align: center;}#sk-container-id-3 label.sk-toggleable__label-arrow:before {content: \"▸\";float: left;margin-right: 0.25em;color: #696969;}#sk-container-id-3 label.sk-toggleable__label-arrow:hover:before {color: black;}#sk-container-id-3 div.sk-estimator:hover label.sk-toggleable__label-arrow:before {color: black;}#sk-container-id-3 div.sk-toggleable__content {max-height: 0;max-width: 0;overflow: hidden;text-align: left;background-color: #f0f8ff;}#sk-container-id-3 div.sk-toggleable__content pre {margin: 0.2em;color: black;border-radius: 0.25em;background-color: #f0f8ff;}#sk-container-id-3 input.sk-toggleable__control:checked~div.sk-toggleable__content {max-height: 200px;max-width: 100%;overflow: auto;}#sk-container-id-3 input.sk-toggleable__control:checked~label.sk-toggleable__label-arrow:before {content: \"▾\";}#sk-container-id-3 div.sk-estimator input.sk-toggleable__control:checked~label.sk-toggleable__label {background-color: #d4ebff;}#sk-container-id-3 div.sk-label input.sk-toggleable__control:checked~label.sk-toggleable__label {background-color: #d4ebff;}#sk-container-id-3 input.sk-hidden--visually {border: 0;clip: rect(1px 1px 1px 1px);clip: rect(1px, 1px, 1px, 1px);height: 1px;margin: -1px;overflow: hidden;padding: 0;position: absolute;width: 1px;}#sk-container-id-3 div.sk-estimator {font-family: monospace;background-color: #f0f8ff;border: 1px dotted black;border-radius: 0.25em;box-sizing: border-box;margin-bottom: 0.5em;}#sk-container-id-3 div.sk-estimator:hover {background-color: #d4ebff;}#sk-container-id-3 div.sk-parallel-item::after {content: \"\";width: 100%;border-bottom: 1px solid gray;flex-grow: 1;}#sk-container-id-3 div.sk-label:hover label.sk-toggleable__label {background-color: #d4ebff;}#sk-container-id-3 div.sk-serial::before {content: \"\";position: absolute;border-left: 1px solid gray;box-sizing: border-box;top: 0;bottom: 0;left: 50%;z-index: 0;}#sk-container-id-3 div.sk-serial {display: flex;flex-direction: column;align-items: center;background-color: white;padding-right: 0.2em;padding-left: 0.2em;position: relative;}#sk-container-id-3 div.sk-item {position: relative;z-index: 1;}#sk-container-id-3 div.sk-parallel {display: flex;align-items: stretch;justify-content: center;background-color: white;position: relative;}#sk-container-id-3 div.sk-item::before, #sk-container-id-3 div.sk-parallel-item::before {content: \"\";position: absolute;border-left: 1px solid gray;box-sizing: border-box;top: 0;bottom: 0;left: 50%;z-index: -1;}#sk-container-id-3 div.sk-parallel-item {display: flex;flex-direction: column;z-index: 1;position: relative;background-color: white;}#sk-container-id-3 div.sk-parallel-item:first-child::after {align-self: flex-end;width: 50%;}#sk-container-id-3 div.sk-parallel-item:last-child::after {align-self: flex-start;width: 50%;}#sk-container-id-3 div.sk-parallel-item:only-child::after {width: 0;}#sk-container-id-3 div.sk-dashed-wrapped {border: 1px dashed gray;margin: 0 0.4em 0.5em 0.4em;box-sizing: border-box;padding-bottom: 0.4em;background-color: white;}#sk-container-id-3 div.sk-label label {font-family: monospace;font-weight: bold;display: inline-block;line-height: 1.2em;}#sk-container-id-3 div.sk-label-container {text-align: center;}#sk-container-id-3 div.sk-container {/* jupyter's `normalize.less` sets `[hidden] { display: none; }` but bootstrap.min.css set `[hidden] { display: none !important; }` so we also need the `!important` here to be able to override the default hidden behavior on the sphinx rendered scikit-learn.org. See: https://github.com/scikit-learn/scikit-learn/issues/21755 */display: inline-block !important;position: relative;}#sk-container-id-3 div.sk-text-repr-fallback {display: none;}</style><div id=\"sk-container-id-3\" class=\"sk-top-container\"><div class=\"sk-text-repr-fallback\"><pre>LogisticRegression()</pre><b>In a Jupyter environment, please rerun this cell to show the HTML representation or trust the notebook. <br />On GitHub, the HTML representation is unable to render, please try loading this page with nbviewer.org.</b></div><div class=\"sk-container\" hidden><div class=\"sk-item\"><div class=\"sk-estimator sk-toggleable\"><input class=\"sk-toggleable__control sk-hidden--visually\" id=\"sk-estimator-id-3\" type=\"checkbox\" checked><label for=\"sk-estimator-id-3\" class=\"sk-toggleable__label sk-toggleable__label-arrow\">LogisticRegression</label><div class=\"sk-toggleable__content\"><pre>LogisticRegression()</pre></div></div></div></div></div>"
            ]
          },
          "metadata": {},
          "execution_count": 26
        }
      ],
      "source": [
        "logreg = LogisticRegression()\n",
        "logreg.fit(X_train, y_train)"
      ]
    },
    {
      "cell_type": "code",
      "execution_count": 27,
      "metadata": {
        "colab": {
          "base_uri": "https://localhost:8080/"
        },
        "id": "6eHSan2sCMyw",
        "outputId": "524ec44b-2b9d-4dac-a732-8ca27ede1b1f"
      },
      "outputs": [
        {
          "output_type": "stream",
          "name": "stdout",
          "text": [
            "84.375\n"
          ]
        }
      ],
      "source": [
        "Accuracy_LR = logreg.score(X_test, y_test)\n",
        "print(Accuracy_LR*100)"
      ]
    },
    {
      "cell_type": "code",
      "source": [
        "plt.bar(['LogisticClassifier','SVM(RBF)'],[Accuracy_LR,Accuracy_SVM],color = ['orange','blue'])"
      ],
      "metadata": {
        "id": "LbBlOdU_dBqW",
        "outputId": "a9eb0168-f314-4b5e-b611-080d3395a268",
        "colab": {
          "base_uri": "https://localhost:8080/",
          "height": 447
        }
      },
      "execution_count": 34,
      "outputs": [
        {
          "output_type": "execute_result",
          "data": {
            "text/plain": [
              "<BarContainer object of 2 artists>"
            ]
          },
          "metadata": {},
          "execution_count": 34
        },
        {
          "output_type": "display_data",
          "data": {
            "text/plain": [
              "<Figure size 640x480 with 1 Axes>"
            ],
            "image/png": "[encoded data removed]"
          },
          "metadata": {}
        }
      ]
    },
    {
      "cell_type": "markdown",
      "source": [
        "TREE MODELS"
      ],
      "metadata": {
        "id": "iQn1LNOucpAl"
      }
    },
    {
      "cell_type": "code",
      "execution_count": 41,
      "metadata": {
        "id": "s1Fj5Y8pCMyx"
      },
      "outputs": [],
      "source": [
        "from sklearn.tree import DecisionTreeClassifier"
      ]
    },
    {
      "cell_type": "code",
      "execution_count": 42,
      "metadata": {
        "colab": {
          "base_uri": "https://localhost:8080/",
          "height": 75
        },
        "id": "cYjXNNyfCMyx",
        "outputId": "4379c0e1-d51f-45a0-bac7-96c4f3f552e6"
      },
      "outputs": [
        {
          "output_type": "execute_result",
          "data": {
            "text/plain": [
              "DecisionTreeClassifier()"
            ],
            "text/html": [
              "<style>#sk-container-id-6 {color: black;background-color: white;}#sk-container-id-6 pre{padding: 0;}#sk-container-id-6 div.sk-toggleable {background-color: white;}#sk-container-id-6 label.sk-toggleable__label {cursor: pointer;display: block;width: 100%;margin-bottom: 0;padding: 0.3em;box-sizing: border-box;text-align: center;}#sk-container-id-6 label.sk-toggleable__label-arrow:before {content: \"▸\";float: left;margin-right: 0.25em;color: #696969;}#sk-container-id-6 label.sk-toggleable__label-arrow:hover:before {color: black;}#sk-container-id-6 div.sk-estimator:hover label.sk-toggleable__label-arrow:before {color: black;}#sk-container-id-6 div.sk-toggleable__content {max-height: 0;max-width: 0;overflow: hidden;text-align: left;background-color: #f0f8ff;}#sk-container-id-6 div.sk-toggleable__content pre {margin: 0.2em;color: black;border-radius: 0.25em;background-color: #f0f8ff;}#sk-container-id-6 input.sk-toggleable__control:checked~div.sk-toggleable__content {max-height: 200px;max-width: 100%;overflow: auto;}#sk-container-id-6 input.sk-toggleable__control:checked~label.sk-toggleable__label-arrow:before {content: \"▾\";}#sk-container-id-6 div.sk-estimator input.sk-toggleable__control:checked~label.sk-toggleable__label {background-color: #d4ebff;}#sk-container-id-6 div.sk-label input.sk-toggleable__control:checked~label.sk-toggleable__label {background-color: #d4ebff;}#sk-container-id-6 input.sk-hidden--visually {border: 0;clip: rect(1px 1px 1px 1px);clip: rect(1px, 1px, 1px, 1px);height: 1px;margin: -1px;overflow: hidden;padding: 0;position: absolute;width: 1px;}#sk-container-id-6 div.sk-estimator {font-family: monospace;background-color: #f0f8ff;border: 1px dotted black;border-radius: 0.25em;box-sizing: border-box;margin-bottom: 0.5em;}#sk-container-id-6 div.sk-estimator:hover {background-color: #d4ebff;}#sk-container-id-6 div.sk-parallel-item::after {content: \"\";width: 100%;border-bottom: 1px solid gray;flex-grow: 1;}#sk-container-id-6 div.sk-label:hover label.sk-toggleable__label {background-color: #d4ebff;}#sk-container-id-6 div.sk-serial::before {content: \"\";position: absolute;border-left: 1px solid gray;box-sizing: border-box;top: 0;bottom: 0;left: 50%;z-index: 0;}#sk-container-id-6 div.sk-serial {display: flex;flex-direction: column;align-items: center;background-color: white;padding-right: 0.2em;padding-left: 0.2em;position: relative;}#sk-container-id-6 div.sk-item {position: relative;z-index: 1;}#sk-container-id-6 div.sk-parallel {display: flex;align-items: stretch;justify-content: center;background-color: white;position: relative;}#sk-container-id-6 div.sk-item::before, #sk-container-id-6 div.sk-parallel-item::before {content: \"\";position: absolute;border-left: 1px solid gray;box-sizing: border-box;top: 0;bottom: 0;left: 50%;z-index: -1;}#sk-container-id-6 div.sk-parallel-item {display: flex;flex-direction: column;z-index: 1;position: relative;background-color: white;}#sk-container-id-6 div.sk-parallel-item:first-child::after {align-self: flex-end;width: 50%;}#sk-container-id-6 div.sk-parallel-item:last-child::after {align-self: flex-start;width: 50%;}#sk-container-id-6 div.sk-parallel-item:only-child::after {width: 0;}#sk-container-id-6 div.sk-dashed-wrapped {border: 1px dashed gray;margin: 0 0.4em 0.5em 0.4em;box-sizing: border-box;padding-bottom: 0.4em;background-color: white;}#sk-container-id-6 div.sk-label label {font-family: monospace;font-weight: bold;display: inline-block;line-height: 1.2em;}#sk-container-id-6 div.sk-label-container {text-align: center;}#sk-container-id-6 div.sk-container {/* jupyter's `normalize.less` sets `[hidden] { display: none; }` but bootstrap.min.css set `[hidden] { display: none !important; }` so we also need the `!important` here to be able to override the default hidden behavior on the sphinx rendered scikit-learn.org. See: https://github.com/scikit-learn/scikit-learn/issues/21755 */display: inline-block !important;position: relative;}#sk-container-id-6 div.sk-text-repr-fallback {display: none;}</style><div id=\"sk-container-id-6\" class=\"sk-top-container\"><div class=\"sk-text-repr-fallback\"><pre>DecisionTreeClassifier()</pre><b>In a Jupyter environment, please rerun this cell to show the HTML representation or trust the notebook. <br />On GitHub, the HTML representation is unable to render, please try loading this page with nbviewer.org.</b></div><div class=\"sk-container\" hidden><div class=\"sk-item\"><div class=\"sk-estimator sk-toggleable\"><input class=\"sk-toggleable__control sk-hidden--visually\" id=\"sk-estimator-id-6\" type=\"checkbox\" checked><label for=\"sk-estimator-id-6\" class=\"sk-toggleable__label sk-toggleable__label-arrow\">DecisionTreeClassifier</label><div class=\"sk-toggleable__content\"><pre>DecisionTreeClassifier()</pre></div></div></div></div></div>"
            ]
          },
          "metadata": {},
          "execution_count": 42
        }
      ],
      "source": [
        "dt = DecisionTreeClassifier()\n",
        "dt.fit(X_train, y_train)"
      ]
    },
    {
      "cell_type": "code",
      "execution_count": 43,
      "metadata": {
        "colab": {
          "base_uri": "https://localhost:8080/"
        },
        "id": "OyeldlUiCMyx",
        "outputId": "10e0392d-bdb2-453b-821f-1695acfeaf52"
      },
      "outputs": [
        {
          "output_type": "stream",
          "name": "stdout",
          "text": [
            "96.875\n"
          ]
        }
      ],
      "source": [
        "Accuracy_DT = dt.score(X_test, y_test)\n",
        "print(Accuracy_DT*100)"
      ]
    },
    {
      "cell_type": "code",
      "execution_count": 55,
      "metadata": {
        "id": "DDlLpRQvCMyy"
      },
      "outputs": [],
      "source": [
        "from sklearn.ensemble import RandomForestClassifier"
      ]
    },
    {
      "cell_type": "code",
      "execution_count": 71,
      "metadata": {
        "colab": {
          "base_uri": "https://localhost:8080/",
          "height": 75
        },
        "id": "_qiVwPeBCMyy",
        "outputId": "f2e865f1-1007-430b-c0d9-82dfaee690ff"
      },
      "outputs": [
        {
          "output_type": "execute_result",
          "data": {
            "text/plain": [
              "RandomForestClassifier()"
            ],
            "text/html": [
              "<style>#sk-container-id-17 {color: black;background-color: white;}#sk-container-id-17 pre{padding: 0;}#sk-container-id-17 div.sk-toggleable {background-color: white;}#sk-container-id-17 label.sk-toggleable__label {cursor: pointer;display: block;width: 100%;margin-bottom: 0;padding: 0.3em;box-sizing: border-box;text-align: center;}#sk-container-id-17 label.sk-toggleable__label-arrow:before {content: \"▸\";float: left;margin-right: 0.25em;color: #696969;}#sk-container-id-17 label.sk-toggleable__label-arrow:hover:before {color: black;}#sk-container-id-17 div.sk-estimator:hover label.sk-toggleable__label-arrow:before {color: black;}#sk-container-id-17 div.sk-toggleable__content {max-height: 0;max-width: 0;overflow: hidden;text-align: left;background-color: #f0f8ff;}#sk-container-id-17 div.sk-toggleable__content pre {margin: 0.2em;color: black;border-radius: 0.25em;background-color: #f0f8ff;}#sk-container-id-17 input.sk-toggleable__control:checked~div.sk-toggleable__content {max-height: 200px;max-width: 100%;overflow: auto;}#sk-container-id-17 input.sk-toggleable__control:checked~label.sk-toggleable__label-arrow:before {content: \"▾\";}#sk-container-id-17 div.sk-estimator input.sk-toggleable__control:checked~label.sk-toggleable__label {background-color: #d4ebff;}#sk-container-id-17 div.sk-label input.sk-toggleable__control:checked~label.sk-toggleable__label {background-color: #d4ebff;}#sk-container-id-17 input.sk-hidden--visually {border: 0;clip: rect(1px 1px 1px 1px);clip: rect(1px, 1px, 1px, 1px);height: 1px;margin: -1px;overflow: hidden;padding: 0;position: absolute;width: 1px;}#sk-container-id-17 div.sk-estimator {font-family: monospace;background-color: #f0f8ff;border: 1px dotted black;border-radius: 0.25em;box-sizing: border-box;margin-bottom: 0.5em;}#sk-container-id-17 div.sk-estimator:hover {background-color: #d4ebff;}#sk-container-id-17 div.sk-parallel-item::after {content: \"\";width: 100%;border-bottom: 1px solid gray;flex-grow: 1;}#sk-container-id-17 div.sk-label:hover label.sk-toggleable__label {background-color: #d4ebff;}#sk-container-id-17 div.sk-serial::before {content: \"\";position: absolute;border-left: 1px solid gray;box-sizing: border-box;top: 0;bottom: 0;left: 50%;z-index: 0;}#sk-container-id-17 div.sk-serial {display: flex;flex-direction: column;align-items: center;background-color: white;padding-right: 0.2em;padding-left: 0.2em;position: relative;}#sk-container-id-17 div.sk-item {position: relative;z-index: 1;}#sk-container-id-17 div.sk-parallel {display: flex;align-items: stretch;justify-content: center;background-color: white;position: relative;}#sk-container-id-17 div.sk-item::before, #sk-container-id-17 div.sk-parallel-item::before {content: \"\";position: absolute;border-left: 1px solid gray;box-sizing: border-box;top: 0;bottom: 0;left: 50%;z-index: -1;}#sk-container-id-17 div.sk-parallel-item {display: flex;flex-direction: column;z-index: 1;position: relative;background-color: white;}#sk-container-id-17 div.sk-parallel-item:first-child::after {align-self: flex-end;width: 50%;}#sk-container-id-17 div.sk-parallel-item:last-child::after {align-self: flex-start;width: 50%;}#sk-container-id-17 div.sk-parallel-item:only-child::after {width: 0;}#sk-container-id-17 div.sk-dashed-wrapped {border: 1px dashed gray;margin: 0 0.4em 0.5em 0.4em;box-sizing: border-box;padding-bottom: 0.4em;background-color: white;}#sk-container-id-17 div.sk-label label {font-family: monospace;font-weight: bold;display: inline-block;line-height: 1.2em;}#sk-container-id-17 div.sk-label-container {text-align: center;}#sk-container-id-17 div.sk-container {/* jupyter's `normalize.less` sets `[hidden] { display: none; }` but bootstrap.min.css set `[hidden] { display: none !important; }` so we also need the `!important` here to be able to override the default hidden behavior on the sphinx rendered scikit-learn.org. See: https://github.com/scikit-learn/scikit-learn/issues/21755 */display: inline-block !important;position: relative;}#sk-container-id-17 div.sk-text-repr-fallback {display: none;}</style><div id=\"sk-container-id-17\" class=\"sk-top-container\"><div class=\"sk-text-repr-fallback\"><pre>RandomForestClassifier()</pre><b>In a Jupyter environment, please rerun this cell to show the HTML representation or trust the notebook. <br />On GitHub, the HTML representation is unable to render, please try loading this page with nbviewer.org.</b></div><div class=\"sk-container\" hidden><div class=\"sk-item\"><div class=\"sk-estimator sk-toggleable\"><input class=\"sk-toggleable__control sk-hidden--visually\" id=\"sk-estimator-id-17\" type=\"checkbox\" checked><label for=\"sk-estimator-id-17\" class=\"sk-toggleable__label sk-toggleable__label-arrow\">RandomForestClassifier</label><div class=\"sk-toggleable__content\"><pre>RandomForestClassifier()</pre></div></div></div></div></div>"
            ]
          },
          "metadata": {},
          "execution_count": 71
        }
      ],
      "source": [
        "rf = RandomForestClassifier()\n",
        "rf.fit(X_train,y_train)"
      ]
    },
    {
      "cell_type": "code",
      "execution_count": 72,
      "metadata": {
        "colab": {
          "base_uri": "https://localhost:8080/"
        },
        "id": "ZaIMlvMwCMyy",
        "outputId": "d6ca1b6e-ad42-4330-b86e-02dc08524a1d"
      },
      "outputs": [
        {
          "output_type": "stream",
          "name": "stdout",
          "text": [
            "100.0\n"
          ]
        }
      ],
      "source": [
        "Accuracy_RF = rf.score(X_test, y_test)\n",
        "print(Accuracy_RF*100)"
      ]
    },
    {
      "cell_type": "code",
      "source": [
        "plt.bar(['DECISION TREE','RANDOM FOREST'],[Accuracy_DT,Accuracy_RF],color = ['red','springgreen'])"
      ],
      "metadata": {
        "id": "JyYMzmLadgPz",
        "outputId": "dde6ff58-611f-4610-b643-49e09f12c8bc",
        "colab": {
          "base_uri": "https://localhost:8080/",
          "height": 447
        }
      },
      "execution_count": 74,
      "outputs": [
        {
          "output_type": "execute_result",
          "data": {
            "text/plain": [
              "<BarContainer object of 2 artists>"
            ]
          },
          "metadata": {},
          "execution_count": 74
        },
        {
          "output_type": "display_data",
          "data": {
            "text/plain": [
              "<Figure size 640x480 with 1 Axes>"
            ],
            "image/png": "[encoded data removed]"
          },
          "metadata": {}
        }
      ]
    },
    {
      "cell_type": "markdown",
      "metadata": {
        "id": "1krNPZiMCMyx"
      },
      "source": [
        "K-NEAREST NEIGHBOURS (KNN) ALGORITHM"
      ]
    },
    {
      "cell_type": "code",
      "execution_count": 75,
      "metadata": {
        "id": "u3Zerl3TCMyx"
      },
      "outputs": [],
      "source": [
        "from sklearn.neighbors import KNeighborsClassifier"
      ]
    },
    {
      "cell_type": "code",
      "execution_count": 76,
      "metadata": {
        "colab": {
          "base_uri": "https://localhost:8080/",
          "height": 75
        },
        "id": "ZzcWiXnzCMyx",
        "outputId": "01778c66-62ee-4847-86b9-690ab54bfa41"
      },
      "outputs": [
        {
          "output_type": "execute_result",
          "data": {
            "text/plain": [
              "KNeighborsClassifier(n_neighbors=3)"
            ],
            "text/html": [
              "<style>#sk-container-id-18 {color: black;background-color: white;}#sk-container-id-18 pre{padding: 0;}#sk-container-id-18 div.sk-toggleable {background-color: white;}#sk-container-id-18 label.sk-toggleable__label {cursor: pointer;display: block;width: 100%;margin-bottom: 0;padding: 0.3em;box-sizing: border-box;text-align: center;}#sk-container-id-18 label.sk-toggleable__label-arrow:before {content: \"▸\";float: left;margin-right: 0.25em;color: #696969;}#sk-container-id-18 label.sk-toggleable__label-arrow:hover:before {color: black;}#sk-container-id-18 div.sk-estimator:hover label.sk-toggleable__label-arrow:before {color: black;}#sk-container-id-18 div.sk-toggleable__content {max-height: 0;max-width: 0;overflow: hidden;text-align: left;background-color: #f0f8ff;}#sk-container-id-18 div.sk-toggleable__content pre {margin: 0.2em;color: black;border-radius: 0.25em;background-color: #f0f8ff;}#sk-container-id-18 input.sk-toggleable__control:checked~div.sk-toggleable__content {max-height: 200px;max-width: 100%;overflow: auto;}#sk-container-id-18 input.sk-toggleable__control:checked~label.sk-toggleable__label-arrow:before {content: \"▾\";}#sk-container-id-18 div.sk-estimator input.sk-toggleable__control:checked~label.sk-toggleable__label {background-color: #d4ebff;}#sk-container-id-18 div.sk-label input.sk-toggleable__control:checked~label.sk-toggleable__label {background-color: #d4ebff;}#sk-container-id-18 input.sk-hidden--visually {border: 0;clip: rect(1px 1px 1px 1px);clip: rect(1px, 1px, 1px, 1px);height: 1px;margin: -1px;overflow: hidden;padding: 0;position: absolute;width: 1px;}#sk-container-id-18 div.sk-estimator {font-family: monospace;background-color: #f0f8ff;border: 1px dotted black;border-radius: 0.25em;box-sizing: border-box;margin-bottom: 0.5em;}#sk-container-id-18 div.sk-estimator:hover {background-color: #d4ebff;}#sk-container-id-18 div.sk-parallel-item::after {content: \"\";width: 100%;border-bottom: 1px solid gray;flex-grow: 1;}#sk-container-id-18 div.sk-label:hover label.sk-toggleable__label {background-color: #d4ebff;}#sk-container-id-18 div.sk-serial::before {content: \"\";position: absolute;border-left: 1px solid gray;box-sizing: border-box;top: 0;bottom: 0;left: 50%;z-index: 0;}#sk-container-id-18 div.sk-serial {display: flex;flex-direction: column;align-items: center;background-color: white;padding-right: 0.2em;padding-left: 0.2em;position: relative;}#sk-container-id-18 div.sk-item {position: relative;z-index: 1;}#sk-container-id-18 div.sk-parallel {display: flex;align-items: stretch;justify-content: center;background-color: white;position: relative;}#sk-container-id-18 div.sk-item::before, #sk-container-id-18 div.sk-parallel-item::before {content: \"\";position: absolute;border-left: 1px solid gray;box-sizing: border-box;top: 0;bottom: 0;left: 50%;z-index: -1;}#sk-container-id-18 div.sk-parallel-item {display: flex;flex-direction: column;z-index: 1;position: relative;background-color: white;}#sk-container-id-18 div.sk-parallel-item:first-child::after {align-self: flex-end;width: 50%;}#sk-container-id-18 div.sk-parallel-item:last-child::after {align-self: flex-start;width: 50%;}#sk-container-id-18 div.sk-parallel-item:only-child::after {width: 0;}#sk-container-id-18 div.sk-dashed-wrapped {border: 1px dashed gray;margin: 0 0.4em 0.5em 0.4em;box-sizing: border-box;padding-bottom: 0.4em;background-color: white;}#sk-container-id-18 div.sk-label label {font-family: monospace;font-weight: bold;display: inline-block;line-height: 1.2em;}#sk-container-id-18 div.sk-label-container {text-align: center;}#sk-container-id-18 div.sk-container {/* jupyter's `normalize.less` sets `[hidden] { display: none; }` but bootstrap.min.css set `[hidden] { display: none !important; }` so we also need the `!important` here to be able to override the default hidden behavior on the sphinx rendered scikit-learn.org. See: https://github.com/scikit-learn/scikit-learn/issues/21755 */display: inline-block !important;position: relative;}#sk-container-id-18 div.sk-text-repr-fallback {display: none;}</style><div id=\"sk-container-id-18\" class=\"sk-top-container\"><div class=\"sk-text-repr-fallback\"><pre>KNeighborsClassifier(n_neighbors=3)</pre><b>In a Jupyter environment, please rerun this cell to show the HTML representation or trust the notebook. <br />On GitHub, the HTML representation is unable to render, please try loading this page with nbviewer.org.</b></div><div class=\"sk-container\" hidden><div class=\"sk-item\"><div class=\"sk-estimator sk-toggleable\"><input class=\"sk-toggleable__control sk-hidden--visually\" id=\"sk-estimator-id-18\" type=\"checkbox\" checked><label for=\"sk-estimator-id-18\" class=\"sk-toggleable__label sk-toggleable__label-arrow\">KNeighborsClassifier</label><div class=\"sk-toggleable__content\"><pre>KNeighborsClassifier(n_neighbors=3)</pre></div></div></div></div></div>"
            ]
          },
          "metadata": {},
          "execution_count": 76
        }
      ],
      "source": [
        "knn = KNeighborsClassifier(n_neighbors = 3)\n",
        "knn.fit(X_train,y_train)"
      ]
    },
    {
      "cell_type": "code",
      "execution_count": 77,
      "metadata": {
        "colab": {
          "base_uri": "https://localhost:8080/"
        },
        "id": "osCWUhoQCMyy",
        "outputId": "ae4ea985-ae83-40c2-8e7b-2beb76aa8667"
      },
      "outputs": [
        {
          "output_type": "stream",
          "name": "stdout",
          "text": [
            "96.875\n"
          ]
        }
      ],
      "source": [
        "Accuracy_KNN = knn.score(X_test, y_test)\n",
        "print(Accuracy_KNN*100)A"
      ]
    },
    {
      "cell_type": "markdown",
      "source": [
        "PROBABLITY BASED MODELS"
      ],
      "metadata": {
        "id": "KNrKW5acgi51"
      }
    },
    {
      "cell_type": "code",
      "source": [
        "from sklearn.naive_bayes import GaussianNB"
      ],
      "metadata": {
        "id": "Wi_679DNgmNO"
      },
      "execution_count": 124,
      "outputs": []
    },
    {
      "cell_type": "code",
      "source": [
        "gaus = GaussianNB()\n",
        "gaus.fit(X_train,y_train)"
      ],
      "metadata": {
        "id": "mt9pwYh6gnYN",
        "outputId": "6bd66059-079f-46be-938d-34f43d6b8a9c",
        "colab": {
          "base_uri": "https://localhost:8080/",
          "height": 75
        }
      },
      "execution_count": 125,
      "outputs": [
        {
          "output_type": "execute_result",
          "data": {
            "text/plain": [
              "GaussianNB()"
            ],
            "text/html": [
              "<style>#sk-container-id-19 {color: black;background-color: white;}#sk-container-id-19 pre{padding: 0;}#sk-container-id-19 div.sk-toggleable {background-color: white;}#sk-container-id-19 label.sk-toggleable__label {cursor: pointer;display: block;width: 100%;margin-bottom: 0;padding: 0.3em;box-sizing: border-box;text-align: center;}#sk-container-id-19 label.sk-toggleable__label-arrow:before {content: \"▸\";float: left;margin-right: 0.25em;color: #696969;}#sk-container-id-19 label.sk-toggleable__label-arrow:hover:before {color: black;}#sk-container-id-19 div.sk-estimator:hover label.sk-toggleable__label-arrow:before {color: black;}#sk-container-id-19 div.sk-toggleable__content {max-height: 0;max-width: 0;overflow: hidden;text-align: left;background-color: #f0f8ff;}#sk-container-id-19 div.sk-toggleable__content pre {margin: 0.2em;color: black;border-radius: 0.25em;background-color: #f0f8ff;}#sk-container-id-19 input.sk-toggleable__control:checked~div.sk-toggleable__content {max-height: 200px;max-width: 100%;overflow: auto;}#sk-container-id-19 input.sk-toggleable__control:checked~label.sk-toggleable__label-arrow:before {content: \"▾\";}#sk-container-id-19 div.sk-estimator input.sk-toggleable__control:checked~label.sk-toggleable__label {background-color: #d4ebff;}#sk-container-id-19 div.sk-label input.sk-toggleable__control:checked~label.sk-toggleable__label {background-color: #d4ebff;}#sk-container-id-19 input.sk-hidden--visually {border: 0;clip: rect(1px 1px 1px 1px);clip: rect(1px, 1px, 1px, 1px);height: 1px;margin: -1px;overflow: hidden;padding: 0;position: absolute;width: 1px;}#sk-container-id-19 div.sk-estimator {font-family: monospace;background-color: #f0f8ff;border: 1px dotted black;border-radius: 0.25em;box-sizing: border-box;margin-bottom: 0.5em;}#sk-container-id-19 div.sk-estimator:hover {background-color: #d4ebff;}#sk-container-id-19 div.sk-parallel-item::after {content: \"\";width: 100%;border-bottom: 1px solid gray;flex-grow: 1;}#sk-container-id-19 div.sk-label:hover label.sk-toggleable__label {background-color: #d4ebff;}#sk-container-id-19 div.sk-serial::before {content: \"\";position: absolute;border-left: 1px solid gray;box-sizing: border-box;top: 0;bottom: 0;left: 50%;z-index: 0;}#sk-container-id-19 div.sk-serial {display: flex;flex-direction: column;align-items: center;background-color: white;padding-right: 0.2em;padding-left: 0.2em;position: relative;}#sk-container-id-19 div.sk-item {position: relative;z-index: 1;}#sk-container-id-19 div.sk-parallel {display: flex;align-items: stretch;justify-content: center;background-color: white;position: relative;}#sk-container-id-19 div.sk-item::before, #sk-container-id-19 div.sk-parallel-item::before {content: \"\";position: absolute;border-left: 1px solid gray;box-sizing: border-box;top: 0;bottom: 0;left: 50%;z-index: -1;}#sk-container-id-19 div.sk-parallel-item {display: flex;flex-direction: column;z-index: 1;position: relative;background-color: white;}#sk-container-id-19 div.sk-parallel-item:first-child::after {align-self: flex-end;width: 50%;}#sk-container-id-19 div.sk-parallel-item:last-child::after {align-self: flex-start;width: 50%;}#sk-container-id-19 div.sk-parallel-item:only-child::after {width: 0;}#sk-container-id-19 div.sk-dashed-wrapped {border: 1px dashed gray;margin: 0 0.4em 0.5em 0.4em;box-sizing: border-box;padding-bottom: 0.4em;background-color: white;}#sk-container-id-19 div.sk-label label {font-family: monospace;font-weight: bold;display: inline-block;line-height: 1.2em;}#sk-container-id-19 div.sk-label-container {text-align: center;}#sk-container-id-19 div.sk-container {/* jupyter's `normalize.less` sets `[hidden] { display: none; }` but bootstrap.min.css set `[hidden] { display: none !important; }` so we also need the `!important` here to be able to override the default hidden behavior on the sphinx rendered scikit-learn.org. See: https://github.com/scikit-learn/scikit-learn/issues/21755 */display: inline-block !important;position: relative;}#sk-container-id-19 div.sk-text-repr-fallback {display: none;}</style><div id=\"sk-container-id-19\" class=\"sk-top-container\"><div class=\"sk-text-repr-fallback\"><pre>GaussianNB()</pre><b>In a Jupyter environment, please rerun this cell to show the HTML representation or trust the notebook. <br />On GitHub, the HTML representation is unable to render, please try loading this page with nbviewer.org.</b></div><div class=\"sk-container\" hidden><div class=\"sk-item\"><div class=\"sk-estimator sk-toggleable\"><input class=\"sk-toggleable__control sk-hidden--visually\" id=\"sk-estimator-id-19\" type=\"checkbox\" checked><label for=\"sk-estimator-id-19\" class=\"sk-toggleable__label sk-toggleable__label-arrow\">GaussianNB</label><div class=\"sk-toggleable__content\"><pre>GaussianNB()</pre></div></div></div></div></div>"
            ]
          },
          "metadata": {},
          "execution_count": 125
        }
      ]
    },
    {
      "cell_type": "code",
      "source": [
        "Accuracy_GAUS = gaus.score(X_test, y_test)\n",
        "print(Accuracy_GAUS*100)"
      ],
      "metadata": {
        "id": "5RsSkoV5gpIQ",
        "outputId": "de40597b-c092-4615-d90a-10012ad0f878",
        "colab": {
          "base_uri": "https://localhost:8080/"
        }
      },
      "execution_count": 126,
      "outputs": [
        {
          "output_type": "stream",
          "name": "stdout",
          "text": [
            "68.75\n"
          ]
        }
      ]
    },
    {
      "cell_type": "code",
      "source": [
        "from sklearn.naive_bayes import BernoulliNB"
      ],
      "metadata": {
        "id": "IR7rv-8Qg71u"
      },
      "execution_count": 133,
      "outputs": []
    },
    {
      "cell_type": "code",
      "source": [
        "bern = BernoulliNB()\n",
        "bern.fit(X_train,y_train)"
      ],
      "metadata": {
        "id": "QIAh2vMyhJc8",
        "outputId": "c640119c-a60f-428b-f524-a380641babbd",
        "colab": {
          "base_uri": "https://localhost:8080/",
          "height": 75
        }
      },
      "execution_count": 134,
      "outputs": [
        {
          "output_type": "execute_result",
          "data": {
            "text/plain": [
              "BernoulliNB()"
            ],
            "text/html": [
              "<style>#sk-container-id-21 {color: black;background-color: white;}#sk-container-id-21 pre{padding: 0;}#sk-container-id-21 div.sk-toggleable {background-color: white;}#sk-container-id-21 label.sk-toggleable__label {cursor: pointer;display: block;width: 100%;margin-bottom: 0;padding: 0.3em;box-sizing: border-box;text-align: center;}#sk-container-id-21 label.sk-toggleable__label-arrow:before {content: \"▸\";float: left;margin-right: 0.25em;color: #696969;}#sk-container-id-21 label.sk-toggleable__label-arrow:hover:before {color: black;}#sk-container-id-21 div.sk-estimator:hover label.sk-toggleable__label-arrow:before {color: black;}#sk-container-id-21 div.sk-toggleable__content {max-height: 0;max-width: 0;overflow: hidden;text-align: left;background-color: #f0f8ff;}#sk-container-id-21 div.sk-toggleable__content pre {margin: 0.2em;color: black;border-radius: 0.25em;background-color: #f0f8ff;}#sk-container-id-21 input.sk-toggleable__control:checked~div.sk-toggleable__content {max-height: 200px;max-width: 100%;overflow: auto;}#sk-container-id-21 input.sk-toggleable__control:checked~label.sk-toggleable__label-arrow:before {content: \"▾\";}#sk-container-id-21 div.sk-estimator input.sk-toggleable__control:checked~label.sk-toggleable__label {background-color: #d4ebff;}#sk-container-id-21 div.sk-label input.sk-toggleable__control:checked~label.sk-toggleable__label {background-color: #d4ebff;}#sk-container-id-21 input.sk-hidden--visually {border: 0;clip: rect(1px 1px 1px 1px);clip: rect(1px, 1px, 1px, 1px);height: 1px;margin: -1px;overflow: hidden;padding: 0;position: absolute;width: 1px;}#sk-container-id-21 div.sk-estimator {font-family: monospace;background-color: #f0f8ff;border: 1px dotted black;border-radius: 0.25em;box-sizing: border-box;margin-bottom: 0.5em;}#sk-container-id-21 div.sk-estimator:hover {background-color: #d4ebff;}#sk-container-id-21 div.sk-parallel-item::after {content: \"\";width: 100%;border-bottom: 1px solid gray;flex-grow: 1;}#sk-container-id-21 div.sk-label:hover label.sk-toggleable__label {background-color: #d4ebff;}#sk-container-id-21 div.sk-serial::before {content: \"\";position: absolute;border-left: 1px solid gray;box-sizing: border-box;top: 0;bottom: 0;left: 50%;z-index: 0;}#sk-container-id-21 div.sk-serial {display: flex;flex-direction: column;align-items: center;background-color: white;padding-right: 0.2em;padding-left: 0.2em;position: relative;}#sk-container-id-21 div.sk-item {position: relative;z-index: 1;}#sk-container-id-21 div.sk-parallel {display: flex;align-items: stretch;justify-content: center;background-color: white;position: relative;}#sk-container-id-21 div.sk-item::before, #sk-container-id-21 div.sk-parallel-item::before {content: \"\";position: absolute;border-left: 1px solid gray;box-sizing: border-box;top: 0;bottom: 0;left: 50%;z-index: -1;}#sk-container-id-21 div.sk-parallel-item {display: flex;flex-direction: column;z-index: 1;position: relative;background-color: white;}#sk-container-id-21 div.sk-parallel-item:first-child::after {align-self: flex-end;width: 50%;}#sk-container-id-21 div.sk-parallel-item:last-child::after {align-self: flex-start;width: 50%;}#sk-container-id-21 div.sk-parallel-item:only-child::after {width: 0;}#sk-container-id-21 div.sk-dashed-wrapped {border: 1px dashed gray;margin: 0 0.4em 0.5em 0.4em;box-sizing: border-box;padding-bottom: 0.4em;background-color: white;}#sk-container-id-21 div.sk-label label {font-family: monospace;font-weight: bold;display: inline-block;line-height: 1.2em;}#sk-container-id-21 div.sk-label-container {text-align: center;}#sk-container-id-21 div.sk-container {/* jupyter's `normalize.less` sets `[hidden] { display: none; }` but bootstrap.min.css set `[hidden] { display: none !important; }` so we also need the `!important` here to be able to override the default hidden behavior on the sphinx rendered scikit-learn.org. See: https://github.com/scikit-learn/scikit-learn/issues/21755 */display: inline-block !important;position: relative;}#sk-container-id-21 div.sk-text-repr-fallback {display: none;}</style><div id=\"sk-container-id-21\" class=\"sk-top-container\"><div class=\"sk-text-repr-fallback\"><pre>BernoulliNB()</pre><b>In a Jupyter environment, please rerun this cell to show the HTML representation or trust the notebook. <br />On GitHub, the HTML representation is unable to render, please try loading this page with nbviewer.org.</b></div><div class=\"sk-container\" hidden><div class=\"sk-item\"><div class=\"sk-estimator sk-toggleable\"><input class=\"sk-toggleable__control sk-hidden--visually\" id=\"sk-estimator-id-21\" type=\"checkbox\" checked><label for=\"sk-estimator-id-21\" class=\"sk-toggleable__label sk-toggleable__label-arrow\">BernoulliNB</label><div class=\"sk-toggleable__content\"><pre>BernoulliNB()</pre></div></div></div></div></div>"
            ]
          },
          "metadata": {},
          "execution_count": 134
        }
      ]
    },
    {
      "cell_type": "code",
      "source": [
        "Accuracy_BERN = bern.score(X_test, y_test)\n",
        "print(Accuracy_BERN*100)"
      ],
      "metadata": {
        "id": "MuaPkLF4hLwv",
        "outputId": "dfa77215-f27d-43ef-f0ce-a6a1f5d26dda",
        "colab": {
          "base_uri": "https://localhost:8080/"
        }
      },
      "execution_count": 135,
      "outputs": [
        {
          "output_type": "stream",
          "name": "stdout",
          "text": [
            "65.625\n"
          ]
        }
      ]
    },
    {
      "cell_type": "code",
      "source": [
        "plt.bar(['GAUSSIAN NB','BERNOULLI NB'],[Accuracy_GAUS,Accuracy_BERN],color = ['pink','black'])"
      ],
      "metadata": {
        "id": "qe7s1I7xiMNr",
        "outputId": "988bf528-e2f4-4c4d-cb15-4dec043cd0a3",
        "colab": {
          "base_uri": "https://localhost:8080/",
          "height": 447
        }
      },
      "execution_count": 136,
      "outputs": [
        {
          "output_type": "execute_result",
          "data": {
            "text/plain": [
              "<BarContainer object of 2 artists>"
            ]
          },
          "metadata": {},
          "execution_count": 136
        },
        {
          "output_type": "display_data",
          "data": {
            "text/plain": [
              "<Figure size 640x480 with 1 Axes>"
            ],
            "image/png": "[encoded data removed]"
          },
          "metadata": {}
        }
      ]
    },
    {
      "cell_type": "markdown",
      "metadata": {
        "id": "Rz1dDH_ADfeW"
      },
      "source": [
        "**Based on the above results and taking into account the low sample size of the dataset,its important to train and test these models on different sets of training and testing sets to understand the generalization ability of our model**.\n",
        "# COMPARISON OF VARIOUS ML MODELS ON DIFFERENT SET OF DATA\n",
        "\n",
        "\n",
        "*   Our comparison technique starts by splitting a whole dataset into train/   test in 15 random ways using sklearn parameter \"random_state\".\n",
        "*   In our next step fit the best model from every group (Non-linear,Tree,KNN) on these 15 different datasets and note down the model's score on the randomly created on every test set.\n",
        "\n",
        "*   Next we plot the results to find which model has the highest accuracy and at which \"random_state\" did we obtain it.\n",
        "\n",
        "\n",
        "*   Then we take the models and fit by the best \"random_state\" to build a combined classifier to combine all the best models as our finalized model.\n",
        "\n",
        "\n",
        "\n",
        "*   The best \"random_state\" can be obtained by finding which \"random_state\" produces most accuracy for the model.\n",
        "\n",
        "\n",
        "\n",
        "\n",
        "\n",
        "\n",
        "\n"
      ]
    },
    {
      "cell_type": "markdown",
      "source": [
        "i) Defining Functions for comparison"
      ],
      "metadata": {
        "id": "3UrdWg43THnc"
      }
    },
    {
      "cell_type": "code",
      "source": [
        "X = np.concatenate([X_train,X_test])\n",
        "y = np.concatenate([y_train,y_test])"
      ],
      "metadata": {
        "id": "Fa_G8tqtUK5B"
      },
      "execution_count": 78,
      "outputs": []
    },
    {
      "cell_type": "code",
      "source": [
        "color = ['blue','springgreen','yellow']"
      ],
      "metadata": {
        "id": "RZ8pYt_TfXYr"
      },
      "execution_count": 85,
      "outputs": []
    },
    {
      "cell_type": "code",
      "source": [
        "import random as Random\n",
        "rands = [Random.randint(1,300) for i in range(0,15)]\n",
        "def fit_and_score(model):\n",
        "    scores = []\n",
        "    states = []\n",
        "    for i in range(15):\n",
        "        state = rands[i]\n",
        "        X_train,X_test,y_train,y_test=train_test_split(X, y, test_size=0.3,random_state=state)\n",
        "        model.fit(X_train,y_train)\n",
        "        scores.append(model.score(X_test,y_test)*100)\n",
        "        states.append(state)\n",
        "    return scores,states    "
      ],
      "metadata": {
        "id": "97KTZUxbS48p"
      },
      "execution_count": 79,
      "outputs": []
    },
    {
      "cell_type": "code",
      "source": [
        "models = [clf,knn,rf]\n",
        "model_names = [\"SupportVectorMachine\",\"KNearestNeighour\",\"RandomForest\"] # will discard NB models since they produce low perfromance score\n",
        "plot_scores = []\n",
        "r_states = []\n",
        "\n",
        "for model in models:\n",
        "    scores,states = fit_and_score(model)\n",
        "    plot_scores.append(scores)\n",
        "    r_states.append(states)"
      ],
      "metadata": {
        "id": "58DnPMEAS96g"
      },
      "execution_count": 81,
      "outputs": []
    },
    {
      "cell_type": "code",
      "source": [
        "avg = [sum(vec)/len(vec) for vec in plot_scores]"
      ],
      "metadata": {
        "id": "JtBZ9_CTTBn1"
      },
      "execution_count": 82,
      "outputs": []
    },
    {
      "cell_type": "markdown",
      "source": [
        "ii) Plotting of all Models Performances on Different data"
      ],
      "metadata": {
        "id": "p73vQalyTEJi"
      }
    },
    {
      "cell_type": "code",
      "source": [
        "f = plt.figure()\n",
        "f.set_figwidth(20)\n",
        "f.set_figheight(10)\n",
        "\n",
        "for i in range(0,3):\n",
        "    plt.plot([s for s in range(1,16)],plot_scores[i],label = model_names[i],color = color[i])\n",
        "    plt.legend()\n",
        "    max_ind = plot_scores[i].index(max(plot_scores[i])) \n",
        "    max_state = r_states[i][max_ind]\n",
        "    print(\"Model : \",model_names[i],\" ->  Best State : \",max_state)\n",
        "    plt.text(max_ind+1,plot_scores[i][max_ind],str(\"State : \" + str(max_state)),size = 10,color = color[i])\n",
        "\n",
        "plt.xlabel(\"Different Sets\")\n",
        "plt.ylabel(\"Accuracy\")\n",
        "plt.show()    \n"
      ],
      "metadata": {
        "colab": {
          "base_uri": "https://localhost:8080/",
          "height": 902
        },
        "id": "pKFebUe5TnCp",
        "outputId": "78fc0931-7ccc-4e3b-b341-bfab98722453"
      },
      "execution_count": 86,
      "outputs": [
        {
          "output_type": "stream",
          "name": "stdout",
          "text": [
            "Model :  SupportVectorMachine  ->  Best State :  228\n",
            "Model :  KNearestNeighour  ->  Best State :  125\n",
            "Model :  RandomForest  ->  Best State :  287\n"
          ]
        },
        {
          "output_type": "display_data",
          "data": {
            "text/plain": [
              "<Figure size 2000x1000 with 1 Axes>"
            ],
            "image/png": "[encoded data removed]"
          },
          "metadata": {}
        }
      ]
    },
    {
      "cell_type": "markdown",
      "source": [
        "# Buidling a combined classifier"
      ],
      "metadata": {
        "id": "I8lU_zabU7Jz"
      }
    },
    {
      "cell_type": "markdown",
      "source": [
        "**(i) Training Phase**"
      ],
      "metadata": {
        "id": "6N5Y3eIyXIIN"
      }
    },
    {
      "cell_type": "code",
      "source": [
        "models = [svm.SVC(),\n",
        "          KNeighborsClassifier(n_neighbors = 3),\n",
        "          RandomForestClassifier()]\n",
        "\n",
        "model_names = [\"SVM\",\"KNN\",\"RFC\"]\n",
        "best_r_states = [228,125,287]\n",
        "def state_scores(model,name,state):  \n",
        "    X_train,X_test,y_train,y_test=train_test_split(X, y, test_size=0.3,random_state=state)\n",
        "    # Adding Noise to improve as a response to small dataset\n",
        "    model.fit(X_train + np.random.normal(size = X_train.shape,loc = 0,scale = 0.01), y_train)\n",
        "    name = name + \".joblib\"\n",
        "    dump(model,name)\n",
        "    return model.score(X_test,y_test)*100\n",
        "\n",
        "for i in range(len(models)):\n",
        "    print(\"Model Name : \",model_names[i])\n",
        "    score = state_scores(models[i],model_names[i],best_r_states[i])\n",
        "    print(\"Score : \",score)    "
      ],
      "metadata": {
        "colab": {
          "base_uri": "https://localhost:8080/"
        },
        "id": "fiDKGhhjU0QV",
        "outputId": "d29769a2-b3a5-4836-890d-c7846184a42c"
      },
      "execution_count": 87,
      "outputs": [
        {
          "output_type": "stream",
          "name": "stdout",
          "text": [
            "Model Name :  SVM\n",
            "Score :  98.27586206896551\n",
            "Model Name :  KNN\n",
            "Score :  96.55172413793103\n",
            "Model Name :  RFC\n",
            "Score :  100.0\n"
          ]
        }
      ]
    },
    {
      "cell_type": "markdown",
      "source": [
        "**(i) Testing Phase**"
      ],
      "metadata": {
        "id": "4S85B3NBXOL0"
      }
    },
    {
      "cell_type": "code",
      "source": [
        "def combined_classifier():\n",
        "    knn = load(\"/content/KNN.joblib\")\n",
        "    svvc = load(\"/content/SVM.joblib\")\n",
        "    rfc = load(\"/content/RFC.joblib\")\n",
        "    return (svvc,knn,rfc)\n",
        "\n",
        "models = combined_classifier()\n",
        "\n",
        "def predict(test):\n",
        "    result1 = models[0].predict(test)\n",
        "    result2 = models[1].predict(test)\n",
        "    result3 = models[2].predict(test)\n",
        "    results = np.array([result1,result2,result3]).T.tolist()\n",
        "    results = [Counter(res).most_common(1)[0][0] for res in results]\n",
        "    return np.array(results)"
      ],
      "metadata": {
        "id": "n2OE-_a2WeyC"
      },
      "execution_count": 88,
      "outputs": []
    },
    {
      "cell_type": "markdown",
      "source": [
        "**Calling the combined classifier \"predict\"**"
      ],
      "metadata": {
        "id": "ehs_8AQAKzPS"
      }
    },
    {
      "cell_type": "code",
      "source": [
        "preds = predict(X_test)"
      ],
      "metadata": {
        "id": "jfIKNLx8P9zk"
      },
      "execution_count": 119,
      "outputs": []
    },
    {
      "cell_type": "markdown",
      "source": [
        "# Performance Metrics "
      ],
      "metadata": {
        "id": "dTGBV8_4RHQH"
      }
    },
    {
      "cell_type": "code",
      "source": [
        "from sklearn.metrics import *"
      ],
      "metadata": {
        "id": "QWTK-pEGRGkD"
      },
      "execution_count": 102,
      "outputs": []
    },
    {
      "cell_type": "code",
      "source": [
        "f1_score(preds,y_test)*100"
      ],
      "metadata": {
        "colab": {
          "base_uri": "https://localhost:8080/"
        },
        "id": "-jBAqlq1RR2v",
        "outputId": "75aa31a5-7837-4836-b827-380cb9cea559"
      },
      "execution_count": 120,
      "outputs": [
        {
          "output_type": "execute_result",
          "data": {
            "text/plain": [
              "100.0"
            ]
          },
          "metadata": {},
          "execution_count": 120
        }
      ]
    },
    {
      "cell_type": "code",
      "source": [
        "precision_score(preds,y_test)*100"
      ],
      "metadata": {
        "colab": {
          "base_uri": "https://localhost:8080/"
        },
        "id": "Hyp9rdORRR88",
        "outputId": "401416d9-d4c5-4311-81ac-3b37dd957fb9"
      },
      "execution_count": 121,
      "outputs": [
        {
          "output_type": "execute_result",
          "data": {
            "text/plain": [
              "100.0"
            ]
          },
          "metadata": {},
          "execution_count": 121
        }
      ]
    },
    {
      "cell_type": "code",
      "source": [
        "accuracy_score(preds,y_test)*100"
      ],
      "metadata": {
        "colab": {
          "base_uri": "https://localhost:8080/"
        },
        "id": "V9Tdyr3RRWxl",
        "outputId": "496b7032-76bb-40bb-9091-612d7b1145c9"
      },
      "execution_count": 122,
      "outputs": [
        {
          "output_type": "execute_result",
          "data": {
            "text/plain": [
              "100.0"
            ]
          },
          "metadata": {},
          "execution_count": 122
        }
      ]
    },
    {
      "cell_type": "code",
      "source": [
        "tn, fp, fn, tp = confusion_matrix(preds,y_test).ravel()\n",
        "print(\"TP : \",tp)\n",
        "print(\"FP : \",fp)\n",
        "print(\"TN : \",tn)\n",
        "print(\"FN : \",fn)"
      ],
      "metadata": {
        "colab": {
          "base_uri": "https://localhost:8080/"
        },
        "id": "15uPDeKNRXLM",
        "outputId": "c5ced8ed-159d-48d0-c9d9-679654fedf88"
      },
      "execution_count": 123,
      "outputs": [
        {
          "output_type": "stream",
          "name": "stdout",
          "text": [
            "TP :  16\n",
            "FP :  0\n",
            "TN :  16\n",
            "FN :  0\n"
          ]
        }
      ]
    }
  ],
  "metadata": {
    "colab": {
      "provenance": []
    },
    "kernelspec": {
      "display_name": "Python 3",
      "language": "python",
      "name": "python3"
    },
    "language_info": {
      "codemirror_mode": {
        "name": "ipython",
        "version": 3
      },
      "file_extension": ".py",
      "mimetype": "text/x-python",
      "name": "python",
      "nbconvert_exporter": "python",
      "pygments_lexer": "ipython3",
      "version": "3.10.1"
    },
    "orig_nbformat": 4,
    "vscode": {
      "interpreter": {
        "hash": "270f40dea5d1f5a229a1866a00a7f1d145fb5d24523a0eb20cef7127b3753f29"
      }
    }
  },
  "nbformat": 4,
  "nbformat_minor": 0
}