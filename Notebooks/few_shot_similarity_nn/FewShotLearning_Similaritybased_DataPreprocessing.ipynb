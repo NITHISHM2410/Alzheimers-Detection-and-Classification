{
  "cells": [
    {
      "cell_type": "code",
      "execution_count": 1,
      "metadata": {
        "id": "IdrA0p9wv225"
      },
      "outputs": [],
      "source": [
        "import numpy as np\n",
        "import glob\n",
        "import re\n",
        "import shutil\n",
        "import random\n",
        "import itertools\n",
        "import pandas as pd\n",
        "import tensorflow as tf\n",
        "import matplotlib.pyplot as plt\n",
        "\n",
        "from sklearn.preprocessing import StandardScaler"
      ]
    },
    {
      "cell_type": "code",
      "source": [
        "from google.colab import drive\n",
        "drive.mount('/content/drive')"
      ],
      "metadata": {
        "colab": {
          "base_uri": "https://localhost:8080/"
        },
        "id": "b5szgSsIKL0Q",
        "outputId": "f10d31d1-3462-4695-f5eb-25609d985838"
      },
      "execution_count": 3,
      "outputs": [
        {
          "output_type": "stream",
          "name": "stdout",
          "text": [
            "Drive already mounted at /content/drive; to attempt to forcibly remount, call drive.mount(\"/content/drive\", force_remount=True).\n"
          ]
        }
      ]
    },
    {
      "cell_type": "code",
      "execution_count": 4,
      "metadata": {
        "colab": {
          "base_uri": "https://localhost:8080/"
        },
        "id": "04x3VxO6w3tB",
        "outputId": "670677a7-8630-4cd9-d3f1-bbb5069dccf9"
      },
      "outputs": [
        {
          "output_type": "stream",
          "name": "stdout",
          "text": [
            "Archive:  /content/FINAL_DATASET.zip\n",
            "   creating: Dataset/SETA/\n",
            "  inflating: Dataset/SETA/healthy_open1.csv  \n",
            "  inflating: Dataset/SETA/healthy_open10.csv  \n",
            "  inflating: Dataset/SETA/healthy_open11.csv  \n",
            "  inflating: Dataset/SETA/healthy_open12.csv  \n",
            "  inflating: Dataset/SETA/healthy_open2.csv  \n",
            "  inflating: Dataset/SETA/healthy_open3.csv  \n",
            "  inflating: Dataset/SETA/healthy_open4.csv  \n",
            "  inflating: Dataset/SETA/healthy_open5.csv  \n",
            "  inflating: Dataset/SETA/healthy_open6.csv  \n",
            "  inflating: Dataset/SETA/healthy_open7.csv  \n",
            "  inflating: Dataset/SETA/healthy_open8.csv  \n",
            "  inflating: Dataset/SETA/healthy_open9.csv  \n",
            "   creating: Dataset/SETB/\n",
            "  inflating: Dataset/SETB/healthy_closed1.csv  \n",
            "  inflating: Dataset/SETB/healthy_closed10.csv  \n",
            "  inflating: Dataset/SETB/healthy_closed11.csv  \n",
            "  inflating: Dataset/SETB/healthy_closed12.csv  \n",
            "  inflating: Dataset/SETB/healthy_closed2.csv  \n",
            "  inflating: Dataset/SETB/healthy_closed3.csv  \n",
            "  inflating: Dataset/SETB/healthy_closed4.csv  \n",
            "  inflating: Dataset/SETB/healthy_closed5.csv  \n",
            "  inflating: Dataset/SETB/healthy_closed6.csv  \n",
            "  inflating: Dataset/SETB/healthy_closed7.csv  \n",
            "  inflating: Dataset/SETB/healthy_closed8.csv  \n",
            "  inflating: Dataset/SETB/healthy_closed9.csv  \n",
            "   creating: Dataset/SETC/\n",
            "  inflating: Dataset/SETC/alzeimer_open1.csv  \n",
            "  inflating: Dataset/SETC/alzeimer_open10.csv  \n",
            "  inflating: Dataset/SETC/alzeimer_open11.csv  \n",
            "  inflating: Dataset/SETC/alzeimer_open12.csv  \n",
            "  inflating: Dataset/SETC/alzeimer_open2.csv  \n",
            "  inflating: Dataset/SETC/alzeimer_open3.csv  \n",
            "  inflating: Dataset/SETC/alzeimer_open4.csv  \n",
            "  inflating: Dataset/SETC/alzeimer_open5.csv  \n",
            "  inflating: Dataset/SETC/alzeimer_open6.csv  \n",
            "  inflating: Dataset/SETC/alzeimer_open7.csv  \n",
            "  inflating: Dataset/SETC/alzeimer_open8.csv  \n",
            "  inflating: Dataset/SETC/alzeimer_open9.csv  \n",
            "   creating: Dataset/SETD/\n",
            "  inflating: Dataset/SETD/alzeimer_closed1.csv  \n",
            "  inflating: Dataset/SETD/alzeimer_closed10.csv  \n",
            "  inflating: Dataset/SETD/alzeimer_closed11.csv  \n",
            "  inflating: Dataset/SETD/alzeimer_closed12.csv  \n",
            "  inflating: Dataset/SETD/alzeimer_closed2.csv  \n",
            "  inflating: Dataset/SETD/alzeimer_closed3.csv  \n",
            "  inflating: Dataset/SETD/alzeimer_closed4.csv  \n",
            "  inflating: Dataset/SETD/alzeimer_closed5.csv  \n",
            "  inflating: Dataset/SETD/alzeimer_closed6.csv  \n",
            "  inflating: Dataset/SETD/alzeimer_closed7.csv  \n",
            "  inflating: Dataset/SETD/alzeimer_closed8.csv  \n",
            "  inflating: Dataset/SETD/alzeimer_closed9.csv  \n"
          ]
        }
      ],
      "source": [
        "!unzip /content/FINAL_DATASET.zip"
      ]
    },
    {
      "cell_type": "code",
      "execution_count": 7,
      "metadata": {
        "colab": {
          "base_uri": "https://localhost:8080/"
        },
        "id": "InW47HeDxhxg",
        "outputId": "7e0bbc6a-f6b5-4f98-9b72-743054fbf514"
      },
      "outputs": [
        {
          "output_type": "execute_result",
          "data": {
            "text/plain": [
              "['/content/Dataset/SETA/healthy_open1.csv',\n",
              " '/content/Dataset/SETA/healthy_open6.csv',\n",
              " '/content/Dataset/SETA/healthy_open2.csv',\n",
              " '/content/Dataset/SETA/healthy_open3.csv',\n",
              " '/content/Dataset/SETA/healthy_open9.csv',\n",
              " '/content/Dataset/SETA/healthy_open7.csv',\n",
              " '/content/Dataset/SETA/healthy_open12.csv',\n",
              " '/content/Dataset/SETA/healthy_open10.csv',\n",
              " '/content/Dataset/SETA/healthy_open5.csv',\n",
              " '/content/Dataset/SETA/healthy_open4.csv',\n",
              " '/content/Dataset/SETA/healthy_open8.csv',\n",
              " '/content/Dataset/SETA/healthy_open11.csv',\n",
              " '/content/Dataset/SETC/alzeimer_open1.csv',\n",
              " '/content/Dataset/SETC/alzeimer_open3.csv',\n",
              " '/content/Dataset/SETC/alzeimer_open5.csv',\n",
              " '/content/Dataset/SETC/alzeimer_open8.csv',\n",
              " '/content/Dataset/SETC/alzeimer_open2.csv',\n",
              " '/content/Dataset/SETC/alzeimer_open6.csv',\n",
              " '/content/Dataset/SETC/alzeimer_open12.csv',\n",
              " '/content/Dataset/SETC/alzeimer_open11.csv',\n",
              " '/content/Dataset/SETC/alzeimer_open9.csv',\n",
              " '/content/Dataset/SETC/alzeimer_open10.csv',\n",
              " '/content/Dataset/SETC/alzeimer_open4.csv',\n",
              " '/content/Dataset/SETC/alzeimer_open7.csv',\n",
              " '/content/Dataset/SETD/alzeimer_closed2.csv',\n",
              " '/content/Dataset/SETD/alzeimer_closed5.csv',\n",
              " '/content/Dataset/SETD/alzeimer_closed10.csv',\n",
              " '/content/Dataset/SETD/alzeimer_closed9.csv',\n",
              " '/content/Dataset/SETD/alzeimer_closed7.csv',\n",
              " '/content/Dataset/SETD/alzeimer_closed1.csv',\n",
              " '/content/Dataset/SETD/alzeimer_closed3.csv',\n",
              " '/content/Dataset/SETD/alzeimer_closed12.csv',\n",
              " '/content/Dataset/SETD/alzeimer_closed6.csv',\n",
              " '/content/Dataset/SETD/alzeimer_closed11.csv',\n",
              " '/content/Dataset/SETD/alzeimer_closed4.csv',\n",
              " '/content/Dataset/SETD/alzeimer_closed8.csv',\n",
              " '/content/Dataset/SETB/healthy_closed7.csv',\n",
              " '/content/Dataset/SETB/healthy_closed12.csv',\n",
              " '/content/Dataset/SETB/healthy_closed4.csv',\n",
              " '/content/Dataset/SETB/healthy_closed2.csv',\n",
              " '/content/Dataset/SETB/healthy_closed9.csv',\n",
              " '/content/Dataset/SETB/healthy_closed11.csv',\n",
              " '/content/Dataset/SETB/healthy_closed3.csv',\n",
              " '/content/Dataset/SETB/healthy_closed5.csv',\n",
              " '/content/Dataset/SETB/healthy_closed10.csv',\n",
              " '/content/Dataset/SETB/healthy_closed8.csv',\n",
              " '/content/Dataset/SETB/healthy_closed6.csv',\n",
              " '/content/Dataset/SETB/healthy_closed1.csv']"
            ]
          },
          "metadata": {},
          "execution_count": 7
        }
      ],
      "source": [
        "files = glob.glob(\"/content/Dataset/*/*\")\n",
        "files"
      ]
    },
    {
      "cell_type": "markdown",
      "source": [
        "**Cleaning The Dataset**\n",
        "\n",
        "\n",
        "*   Replacing Non Numeric Values \n",
        "*   Replacing inf values\n",
        "\n"
      ],
      "metadata": {
        "id": "PqMP_xdp_3lZ"
      }
    },
    {
      "cell_type": "code",
      "source": [
        "def clean(path):\n",
        "    df = pd.read_csv(path)\n",
        "    \n",
        "    for column in df.columns:\n",
        "        if df[column].dtype == 'object':\n",
        "            print(\"Sample : \",path,\" feature : \",column,\" is uncleaned\")\n",
        "            df[column] = pd.to_numeric(df[column], errors='coerce')\n",
        "            df[column] = df[column].fillna(method='ffill')\n",
        "            df[column] = df[column].fillna(method='bfill')\n",
        "    df = df.iloc[:1024,:]\n",
        "\n",
        "    while df.isnull().sum().values.sum() != 0:\n",
        "        print(\"Sample : \",path,\"getting cleaned\")\n",
        "        df = df.fillna(method = 'ffill')\n",
        "        df = df.fillna(method = 'bfill')\n",
        "    df.to_csv(path, index=False)\n",
        "     \n",
        "for i in files:\n",
        "    clean(i)"
      ],
      "metadata": {
        "colab": {
          "base_uri": "https://localhost:8080/"
        },
        "id": "54vhqsZcZ6-_",
        "outputId": "f87471d8-d399-4650-aaad-63565d5d24e4"
      },
      "execution_count": 6,
      "outputs": [
        {
          "output_type": "stream",
          "name": "stdout",
          "text": [
            "Sample :  /content/Dataset/SETA/healthy_open2.csv  feature :  16  is uncleaned\n",
            "Sample :  /content/Dataset/SETA/healthy_open11.csv  feature :  14  is uncleaned\n",
            "Sample :  /content/Dataset/SETC/alzeimer_open5.csv  feature :  0  is uncleaned\n",
            "Sample :  /content/Dataset/SETC/alzeimer_open5.csv getting cleaned\n",
            "Sample :  /content/Dataset/SETC/alzeimer_open8.csv  feature :  0  is uncleaned\n",
            "Sample :  /content/Dataset/SETC/alzeimer_open8.csv getting cleaned\n",
            "Sample :  /content/Dataset/SETC/alzeimer_open6.csv  feature :  0  is uncleaned\n",
            "Sample :  /content/Dataset/SETC/alzeimer_open6.csv getting cleaned\n",
            "Sample :  /content/Dataset/SETC/alzeimer_open10.csv  feature :  0  is uncleaned\n",
            "Sample :  /content/Dataset/SETC/alzeimer_open10.csv getting cleaned\n",
            "Sample :  /content/Dataset/SETD/alzeimer_closed12.csv  feature :  18  is uncleaned\n",
            "Sample :  /content/Dataset/SETB/healthy_closed2.csv  feature :  16  is uncleaned\n",
            "Sample :  /content/Dataset/SETB/healthy_closed6.csv  feature :  14  is uncleaned\n"
          ]
        }
      ]
    },
    {
      "cell_type": "code",
      "execution_count": 8,
      "metadata": {
        "colab": {
          "base_uri": "https://localhost:8080/"
        },
        "id": "L-jyKXC3Udl7",
        "outputId": "cea88449-f430-4b49-b2f3-88ebb4b040a4"
      },
      "outputs": [
        {
          "output_type": "execute_result",
          "data": {
            "text/plain": [
              "48"
            ]
          },
          "metadata": {},
          "execution_count": 8
        }
      ],
      "source": [
        "len(files)"
      ]
    },
    {
      "cell_type": "markdown",
      "source": [
        "**Creating pairs for similarity based learning**"
      ],
      "metadata": {
        "id": "SActBDvDCbF9"
      }
    },
    {
      "cell_type": "code",
      "source": [
        "train = []\n",
        "test = []\n",
        "val = []"
      ],
      "metadata": {
        "id": "Ct_MpnJJKerw"
      },
      "execution_count": 9,
      "outputs": []
    },
    {
      "cell_type": "code",
      "source": [
        "for i in range(0,48,12):\n",
        "    train += files[i:i+6]\n",
        "    test += files[i+6:i+9]\n",
        "    val += files[i+9:i+12]"
      ],
      "metadata": {
        "id": "xSvfF8VvKxs7"
      },
      "execution_count": 10,
      "outputs": []
    },
    {
      "cell_type": "markdown",
      "source": [
        "**No Common samples in train and test/val**"
      ],
      "metadata": {
        "id": "Gp5wAtw4P6FT"
      }
    },
    {
      "cell_type": "code",
      "source": [
        "set(train).intersection(set(test)),set(train).intersection(set(test))"
      ],
      "metadata": {
        "colab": {
          "base_uri": "https://localhost:8080/"
        },
        "id": "wzWxF4obPs6H",
        "outputId": "0b7ff3ba-6738-42a4-a055-727e4e22aecd"
      },
      "execution_count": 12,
      "outputs": [
        {
          "output_type": "execute_result",
          "data": {
            "text/plain": [
              "(set(), set())"
            ]
          },
          "metadata": {},
          "execution_count": 12
        }
      ]
    },
    {
      "cell_type": "code",
      "execution_count": 13,
      "metadata": {
        "id": "9xBmUGrH1hhb"
      },
      "outputs": [],
      "source": [
        "train_pairs = list(itertools.combinations(train,2))\n",
        "test_pairs = list(itertools.combinations(test,2))\n",
        "val_pairs = list(itertools.combinations(val,2))"
      ]
    },
    {
      "cell_type": "code",
      "execution_count": 14,
      "metadata": {
        "colab": {
          "base_uri": "https://localhost:8080/"
        },
        "id": "L5NzoxH9UMHC",
        "outputId": "6bd0d55a-07cc-481e-ef08-d5f5e175d37a"
      },
      "outputs": [
        {
          "output_type": "execute_result",
          "data": {
            "text/plain": [
              "(276, 66, 66)"
            ]
          },
          "metadata": {},
          "execution_count": 14
        }
      ],
      "source": [
        "len(train_pairs),len(test_pairs),len(val_pairs)"
      ]
    },
    {
      "cell_type": "markdown",
      "source": [
        "**Visualising pairs**"
      ],
      "metadata": {
        "id": "G-d1aRjjMul2"
      }
    },
    {
      "cell_type": "code",
      "source": [
        "train_df = pd.DataFrame(columns = ['Query',\"Reference\"],data = train_pairs)"
      ],
      "metadata": {
        "id": "33WF4JeUMclX"
      },
      "execution_count": 15,
      "outputs": []
    },
    {
      "cell_type": "code",
      "source": [
        "train_df"
      ],
      "metadata": {
        "colab": {
          "base_uri": "https://localhost:8080/",
          "height": 424
        },
        "id": "bwp7lZn4Mpr8",
        "outputId": "0aa52716-fc22-4b8e-930c-b11c73bc6a53"
      },
      "execution_count": 16,
      "outputs": [
        {
          "output_type": "execute_result",
          "data": {
            "text/plain": [
              "                                         Query  \\\n",
              "0      /content/Dataset/SETA/healthy_open1.csv   \n",
              "1      /content/Dataset/SETA/healthy_open1.csv   \n",
              "2      /content/Dataset/SETA/healthy_open1.csv   \n",
              "3      /content/Dataset/SETA/healthy_open1.csv   \n",
              "4      /content/Dataset/SETA/healthy_open1.csv   \n",
              "..                                         ...   \n",
              "271  /content/Dataset/SETB/healthy_closed4.csv   \n",
              "272  /content/Dataset/SETB/healthy_closed4.csv   \n",
              "273  /content/Dataset/SETB/healthy_closed2.csv   \n",
              "274  /content/Dataset/SETB/healthy_closed2.csv   \n",
              "275  /content/Dataset/SETB/healthy_closed9.csv   \n",
              "\n",
              "                                      Reference  \n",
              "0       /content/Dataset/SETA/healthy_open6.csv  \n",
              "1       /content/Dataset/SETA/healthy_open2.csv  \n",
              "2       /content/Dataset/SETA/healthy_open3.csv  \n",
              "3       /content/Dataset/SETA/healthy_open9.csv  \n",
              "4       /content/Dataset/SETA/healthy_open7.csv  \n",
              "..                                          ...  \n",
              "271   /content/Dataset/SETB/healthy_closed9.csv  \n",
              "272  /content/Dataset/SETB/healthy_closed11.csv  \n",
              "273   /content/Dataset/SETB/healthy_closed9.csv  \n",
              "274  /content/Dataset/SETB/healthy_closed11.csv  \n",
              "275  /content/Dataset/SETB/healthy_closed11.csv  \n",
              "\n",
              "[276 rows x 2 columns]"
            ],
            "text/html": [
              "\n",
              "  <div id=\"df-1bded63e-3cd7-4949-8ad7-5bc81ed299ec\">\n",
              "    <div class=\"colab-df-container\">\n",
              "      <div>\n",
              "<style scoped>\n",
              "    .dataframe tbody tr th:only-of-type {\n",
              "        vertical-align: middle;\n",
              "    }\n",
              "\n",
              "    .dataframe tbody tr th {\n",
              "        vertical-align: top;\n",
              "    }\n",
              "\n",
              "    .dataframe thead th {\n",
              "        text-align: right;\n",
              "    }\n",
              "</style>\n",
              "<table border=\"1\" class=\"dataframe\">\n",
              "  <thead>\n",
              "    <tr style=\"text-align: right;\">\n",
              "      <th></th>\n",
              "      <th>Query</th>\n",
              "      <th>Reference</th>\n",
              "    </tr>\n",
              "  </thead>\n",
              "  <tbody>\n",
              "    <tr>\n",
              "      <th>0</th>\n",
              "      <td>/content/Dataset/SETA/healthy_open1.csv</td>\n",
              "      <td>/content/Dataset/SETA/healthy_open6.csv</td>\n",
              "    </tr>\n",
              "    <tr>\n",
              "      <th>1</th>\n",
              "      <td>/content/Dataset/SETA/healthy_open1.csv</td>\n",
              "      <td>/content/Dataset/SETA/healthy_open2.csv</td>\n",
              "    </tr>\n",
              "    <tr>\n",
              "      <th>2</th>\n",
              "      <td>/content/Dataset/SETA/healthy_open1.csv</td>\n",
              "      <td>/content/Dataset/SETA/healthy_open3.csv</td>\n",
              "    </tr>\n",
              "    <tr>\n",
              "      <th>3</th>\n",
              "      <td>/content/Dataset/SETA/healthy_open1.csv</td>\n",
              "      <td>/content/Dataset/SETA/healthy_open9.csv</td>\n",
              "    </tr>\n",
              "    <tr>\n",
              "      <th>4</th>\n",
              "      <td>/content/Dataset/SETA/healthy_open1.csv</td>\n",
              "      <td>/content/Dataset/SETA/healthy_open7.csv</td>\n",
              "    </tr>\n",
              "    <tr>\n",
              "      <th>...</th>\n",
              "      <td>...</td>\n",
              "      <td>...</td>\n",
              "    </tr>\n",
              "    <tr>\n",
              "      <th>271</th>\n",
              "      <td>/content/Dataset/SETB/healthy_closed4.csv</td>\n",
              "      <td>/content/Dataset/SETB/healthy_closed9.csv</td>\n",
              "    </tr>\n",
              "    <tr>\n",
              "      <th>272</th>\n",
              "      <td>/content/Dataset/SETB/healthy_closed4.csv</td>\n",
              "      <td>/content/Dataset/SETB/healthy_closed11.csv</td>\n",
              "    </tr>\n",
              "    <tr>\n",
              "      <th>273</th>\n",
              "      <td>/content/Dataset/SETB/healthy_closed2.csv</td>\n",
              "      <td>/content/Dataset/SETB/healthy_closed9.csv</td>\n",
              "    </tr>\n",
              "    <tr>\n",
              "      <th>274</th>\n",
              "      <td>/content/Dataset/SETB/healthy_closed2.csv</td>\n",
              "      <td>/content/Dataset/SETB/healthy_closed11.csv</td>\n",
              "    </tr>\n",
              "    <tr>\n",
              "      <th>275</th>\n",
              "      <td>/content/Dataset/SETB/healthy_closed9.csv</td>\n",
              "      <td>/content/Dataset/SETB/healthy_closed11.csv</td>\n",
              "    </tr>\n",
              "  </tbody>\n",
              "</table>\n",
              "<p>276 rows × 2 columns</p>\n",
              "</div>\n",
              "      <button class=\"colab-df-convert\" onclick=\"convertToInteractive('df-1bded63e-3cd7-4949-8ad7-5bc81ed299ec')\"\n",
              "              title=\"Convert this dataframe to an interactive table.\"\n",
              "              style=\"display:none;\">\n",
              "        \n",
              "  <svg xmlns=\"http://www.w3.org/2000/svg\" height=\"24px\"viewBox=\"0 0 24 24\"\n",
              "       width=\"24px\">\n",
              "    <path d=\"M0 0h24v24H0V0z\" fill=\"none\"/>\n",
              "    <path d=\"M18.56 5.44l.94 2.06.94-2.06 2.06-.94-2.06-.94-.94-2.06-.94 2.06-2.06.94zm-11 1L8.5 8.5l.94-2.06 2.06-.94-2.06-.94L8.5 2.5l-.94 2.06-2.06.94zm10 10l.94 2.06.94-2.06 2.06-.94-2.06-.94-.94-2.06-.94 2.06-2.06.94z\"/><path d=\"M17.41 7.96l-1.37-1.37c-.4-.4-.92-.59-1.43-.59-.52 0-1.04.2-1.43.59L10.3 9.45l-7.72 7.72c-.78.78-.78 2.05 0 2.83L4 21.41c.39.39.9.59 1.41.59.51 0 1.02-.2 1.41-.59l7.78-7.78 2.81-2.81c.8-.78.8-2.07 0-2.86zM5.41 20L4 18.59l7.72-7.72 1.47 1.35L5.41 20z\"/>\n",
              "  </svg>\n",
              "      </button>\n",
              "      \n",
              "  <style>\n",
              "    .colab-df-container {\n",
              "      display:flex;\n",
              "      flex-wrap:wrap;\n",
              "      gap: 12px;\n",
              "    }\n",
              "\n",
              "    .colab-df-convert {\n",
              "      background-color: #E8F0FE;\n",
              "      border: none;\n",
              "      border-radius: 50%;\n",
              "      cursor: pointer;\n",
              "      display: none;\n",
              "      fill: #1967D2;\n",
              "      height: 32px;\n",
              "      padding: 0 0 0 0;\n",
              "      width: 32px;\n",
              "    }\n",
              "\n",
              "    .colab-df-convert:hover {\n",
              "      background-color: #E2EBFA;\n",
              "      box-shadow: 0px 1px 2px rgba(60, 64, 67, 0.3), 0px 1px 3px 1px rgba(60, 64, 67, 0.15);\n",
              "      fill: #174EA6;\n",
              "    }\n",
              "\n",
              "    [theme=dark] .colab-df-convert {\n",
              "      background-color: #3B4455;\n",
              "      fill: #D2E3FC;\n",
              "    }\n",
              "\n",
              "    [theme=dark] .colab-df-convert:hover {\n",
              "      background-color: #434B5C;\n",
              "      box-shadow: 0px 1px 3px 1px rgba(0, 0, 0, 0.15);\n",
              "      filter: drop-shadow(0px 1px 2px rgba(0, 0, 0, 0.3));\n",
              "      fill: #FFFFFF;\n",
              "    }\n",
              "  </style>\n",
              "\n",
              "      <script>\n",
              "        const buttonEl =\n",
              "          document.querySelector('#df-1bded63e-3cd7-4949-8ad7-5bc81ed299ec button.colab-df-convert');\n",
              "        buttonEl.style.display =\n",
              "          google.colab.kernel.accessAllowed ? 'block' : 'none';\n",
              "\n",
              "        async function convertToInteractive(key) {\n",
              "          const element = document.querySelector('#df-1bded63e-3cd7-4949-8ad7-5bc81ed299ec');\n",
              "          const dataTable =\n",
              "            await google.colab.kernel.invokeFunction('convertToInteractive',\n",
              "                                                     [key], {});\n",
              "          if (!dataTable) return;\n",
              "\n",
              "          const docLinkHtml = 'Like what you see? Visit the ' +\n",
              "            '<a target=\"_blank\" href=https://colab.research.google.com/notebooks/data_table.ipynb>data table notebook</a>'\n",
              "            + ' to learn more about interactive tables.';\n",
              "          element.innerHTML = '';\n",
              "          dataTable['output_type'] = 'display_data';\n",
              "          await google.colab.output.renderOutput(dataTable, element);\n",
              "          const docLink = document.createElement('div');\n",
              "          docLink.innerHTML = docLinkHtml;\n",
              "          element.appendChild(docLink);\n",
              "        }\n",
              "      </script>\n",
              "    </div>\n",
              "  </div>\n",
              "  "
            ]
          },
          "metadata": {},
          "execution_count": 16
        }
      ]
    },
    {
      "cell_type": "code",
      "execution_count": 17,
      "metadata": {
        "id": "sxc4L-tX7bz8"
      },
      "outputs": [],
      "source": [
        "def to_numeric(csv):\n",
        "    data = pd.read_csv(csv).values\n",
        "    return data"
      ]
    },
    {
      "cell_type": "code",
      "execution_count": 18,
      "metadata": {
        "id": "A9jYLwY33IZ2"
      },
      "outputs": [],
      "source": [
        "def assemble_pairs(pair):\n",
        "    for i in range(len(pair)):\n",
        "        sample = list(pair[i])\n",
        "        x1 = sample[0]\n",
        "        x2 = sample[1]\n",
        "        if \"closed\" in x1:\n",
        "            sample.append(0)\n",
        "        elif \"open\" in x1:\n",
        "            sample.append(1) \n",
        "        if \"closed\" in x2:\n",
        "            sample.append(0)\n",
        "        elif \"open\" in x2:\n",
        "            sample.append(1)    \n",
        "        \n",
        "        if (\"healthy\" in x1 and \"healthy\" in x2) or (\"alzeimer\" in x1 and \"alzeimer\" in x2):\n",
        "            sample.append(0)\n",
        "        else:\n",
        "            sample.append(1)    \n",
        "\n",
        "        sample[0] = to_numeric(x1)\n",
        "        sample[1] = to_numeric(x2)\n",
        "\n",
        "        pair[i] = sample   \n",
        "    return pair      \n",
        "     "
      ]
    },
    {
      "cell_type": "code",
      "execution_count": 19,
      "metadata": {
        "id": "_TUbYd_F5HS7"
      },
      "outputs": [],
      "source": [
        "train_pairs = assemble_pairs(train_pairs)\n",
        "test_pairs = assemble_pairs(test_pairs)\n",
        "val_pairs = assemble_pairs(val_pairs)"
      ]
    },
    {
      "cell_type": "markdown",
      "source": [
        "**Storing data as tf records for faster and parallel processing**"
      ],
      "metadata": {
        "id": "7vqJCxMBD-_3"
      }
    },
    {
      "cell_type": "code",
      "execution_count": 20,
      "metadata": {
        "id": "fQOtRRfMPlgg"
      },
      "outputs": [],
      "source": [
        "def serialize(wave1,wave2,state,diff):\n",
        "    feature = {\n",
        "        'wave1':tf.train.Feature(bytes_list = tf.train.BytesList(value = [wave1.numpy()])),\n",
        "        'wave2':tf.train.Feature(bytes_list = tf.train.BytesList(value = [wave2.numpy()])),\n",
        "        'state':tf.train.Feature(bytes_list = tf.train.BytesList(value = [state.numpy()])),\n",
        "        'diff':tf.train.Feature(bytes_list = tf.train.BytesList(value = [diff.numpy()]))\n",
        "    }\n",
        "    example = tf.train.Example(features = tf.train.Features(feature = feature))\n",
        "    return example.SerializeToString()"
      ]
    },
    {
      "cell_type": "code",
      "execution_count": 21,
      "metadata": {
        "id": "27WPQQ60JihY"
      },
      "outputs": [],
      "source": [
        "def store_records(pairs,name):\n",
        "    with tf.io.TFRecordWriter(\"/content/\"+name,options=tf.io.TFRecordOptions(compression_type=\"GZIP\")) as writer:\n",
        "        for sample in pairs:\n",
        "            x1 = tf.io.serialize_tensor(sample[0].astype(np.float32))\n",
        "            x2 = tf.io.serialize_tensor(sample[1].astype(np.float32))\n",
        "            state = tf.io.serialize_tensor(np.array([sample[2],sample[3]]).astype(np.float32))\n",
        "            output = tf.io.serialize_tensor(np.array([sample[4]]).astype(np.float32))\n",
        "            serialized = serialize(x1,x2,state,output)\n",
        "            writer.write(serialized)\n",
        "\n",
        "store_records(train_pairs,\"train_rec\")\n",
        "store_records(test_pairs,\"test_rec\")\n",
        "store_records(val_pairs,\"val_rec\")"
      ]
    },
    {
      "cell_type": "code",
      "source": [
        "shutil.move(\"train_rec\",\"/content/drive/MyDrive/FewShot/\")"
      ],
      "metadata": {
        "colab": {
          "base_uri": "https://localhost:8080/",
          "height": 36
        },
        "id": "j-Sg6h8eNfmb",
        "outputId": "8f25f6e6-3fb0-4bc5-f98e-7fa3525603ea"
      },
      "execution_count": 23,
      "outputs": [
        {
          "output_type": "execute_result",
          "data": {
            "text/plain": [
              "'/content/drive/MyDrive/FewShot/train_rec'"
            ],
            "application/vnd.google.colaboratory.intrinsic+json": {
              "type": "string"
            }
          },
          "metadata": {},
          "execution_count": 23
        }
      ]
    },
    {
      "cell_type": "code",
      "source": [
        "shutil.move(\"val_rec\",\"/content/drive/MyDrive/FewShot/\")\n",
        "shutil.move(\"test_rec\",\"/content/drive/MyDrive/FewShot/\")"
      ],
      "metadata": {
        "colab": {
          "base_uri": "https://localhost:8080/",
          "height": 36
        },
        "id": "YTBQlEW5NvsB",
        "outputId": "f1cb0e15-7eb3-4adf-a9a3-a788baa4f70e"
      },
      "execution_count": 24,
      "outputs": [
        {
          "output_type": "execute_result",
          "data": {
            "text/plain": [
              "'/content/drive/MyDrive/FewShot/test_rec'"
            ],
            "application/vnd.google.colaboratory.intrinsic+json": {
              "type": "string"
            }
          },
          "metadata": {},
          "execution_count": 24
        }
      ]
    }
  ],
  "metadata": {
    "colab": {
      "provenance": []
    },
    "gpuClass": "standard",
    "kernelspec": {
      "display_name": "Python 3",
      "name": "python3"
    },
    "language_info": {
      "name": "python"
    }
  },
  "nbformat": 4,
  "nbformat_minor": 0
}
