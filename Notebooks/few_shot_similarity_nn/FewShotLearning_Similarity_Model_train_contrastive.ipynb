{
  "nbformat": 4,
  "nbformat_minor": 0,
  "metadata": {
    "colab": {
      "provenance": [],
      "mount_file_id": "137JZ33APpS6NwlM6EoxlAJNHHHib90wJ",
      "authorship_tag": "ABX9TyMEIr0rdL16IlIviISurT81",
      "include_colab_link": true
    },
    "kernelspec": {
      "name": "python3",
      "display_name": "Python 3"
    },
    "language_info": {
      "name": "python"
    },
    "accelerator": "GPU",
    "gpuClass": "standard"
  },
  "cells": [
    {
      "cell_type": "markdown",
      "metadata": {
        "id": "view-in-github",
        "colab_type": "text"
      },
      "source": [
        "<a href=\"https://colab.research.google.com/github/NITHISHM2410/Alzheimers-Detection-and-Classification/blob/main/Notebooks/few_shot_similarity_nn/FewShotLearning_Similarity_Model_train_contrastive.ipynb\" target=\"_parent\"><img src=\"https://colab.research.google.com/assets/colab-badge.svg\" alt=\"Open In Colab\"/></a>"
      ]
    },
    {
      "cell_type": "code",
      "execution_count": 1,
      "metadata": {
        "id": "xxIRRRw3_wZP",
        "colab": {
          "base_uri": "https://localhost:8080/"
        },
        "outputId": "309e254a-63e1-4ece-e4ba-f8aa3a4e0d94"
      },
      "outputs": [
        {
          "output_type": "stream",
          "name": "stdout",
          "text": [
            "Looking in indexes: https://pypi.org/simple, https://us-python.pkg.dev/colab-wheels/public/simple/\n",
            "Collecting tensorflow_addons\n",
            "  Downloading tensorflow_addons-0.20.0-cp310-cp310-manylinux_2_17_x86_64.manylinux2014_x86_64.whl (591 kB)\n",
            "\u001b[2K     \u001b[90m━━━━━━━━━━━━━━━━━━━━━━━━━━━━━━━━━━━━━━\u001b[0m \u001b[32m591.0/591.0 kB\u001b[0m \u001b[31m36.7 MB/s\u001b[0m eta \u001b[36m0:00:00\u001b[0m\n",
            "\u001b[?25hRequirement already satisfied: packaging in /usr/local/lib/python3.10/dist-packages (from tensorflow_addons) (23.1)\n",
            "Collecting typeguard<3.0.0,>=2.7 (from tensorflow_addons)\n",
            "  Downloading typeguard-2.13.3-py3-none-any.whl (17 kB)\n",
            "Installing collected packages: typeguard, tensorflow_addons\n",
            "Successfully installed tensorflow_addons-0.20.0 typeguard-2.13.3\n"
          ]
        },
        {
          "output_type": "stream",
          "name": "stderr",
          "text": [
            "/usr/local/lib/python3.10/dist-packages/tensorflow_addons/utils/tfa_eol_msg.py:23: UserWarning: \n",
            "\n",
            "TensorFlow Addons (TFA) has ended development and introduction of new features.\n",
            "TFA has entered a minimal maintenance and release mode until a planned end of life in May 2024.\n",
            "Please modify downstream libraries to take dependencies from other repositories in our TensorFlow community (e.g. Keras, Keras-CV, and Keras-NLP). \n",
            "\n",
            "For more information see: https://github.com/tensorflow/addons/issues/2807 \n",
            "\n",
            "  warnings.warn(\n"
          ]
        }
      ],
      "source": [
        "import numpy as np\n",
        "import glob\n",
        "import re\n",
        "import shutil\n",
        "import random\n",
        "import itertools\n",
        "import pandas as pd\n",
        "import tensorflow as tf\n",
        "import matplotlib.pyplot as plt\n",
        "!pip install tensorflow_addons\n",
        "import tensorflow_addons as tfa"
      ]
    },
    {
      "cell_type": "code",
      "source": [
        "from google.colab import drive\n",
        "drive.mount('/content/drive')"
      ],
      "metadata": {
        "colab": {
          "base_uri": "https://localhost:8080/"
        },
        "id": "IKtZcqF2HzYS",
        "outputId": "8eb03ed3-25f1-43c5-94be-e977fa763a3f"
      },
      "execution_count": 2,
      "outputs": [
        {
          "output_type": "stream",
          "name": "stdout",
          "text": [
            "Mounted at /content/drive\n"
          ]
        }
      ]
    },
    {
      "cell_type": "markdown",
      "source": [
        "**Parsing Records**"
      ],
      "metadata": {
        "id": "Y1iTN1Nv78J6"
      }
    },
    {
      "cell_type": "code",
      "source": [
        "def parser(example):\n",
        "    feature = {\n",
        "        'wave1':tf.io.FixedLenFeature([],tf.string),\n",
        "        'wave2':tf.io.FixedLenFeature([],tf.string),\n",
        "        'state':tf.io.FixedLenFeature([],tf.string),\n",
        "        'diff':tf.io.FixedLenFeature([],tf.string),\n",
        "    }\n",
        "    feature = tf.io.parse_single_example(example,feature)\n",
        "\n",
        "    wave1 = tf.io.parse_tensor(feature['wave1'],out_type = tf.float32)\n",
        "    wave1 = tf.reshape(wave1,(1024,19))\n",
        "\n",
        "    wave2 = tf.io.parse_tensor(feature['wave2'],out_type = tf.float32)\n",
        "    wave2 = tf.reshape(wave2,(1024,19))\n",
        "\n",
        "    state = tf.io.parse_tensor(feature['state'],out_type = tf.float32)\n",
        "    state = tf.reshape(state,(2,))\n",
        "\n",
        "    diff = tf.io.parse_tensor(feature['diff'],out_type = tf.float32)\n",
        "    diff = tf.reshape(diff,(1,))\n",
        "\n",
        "    \n",
        "    return {'wave1':wave1,'wave2':wave2,'state':state},{'difference':diff}\n"
      ],
      "metadata": {
        "id": "3v8BdV5ADaKB"
      },
      "execution_count": 3,
      "outputs": []
    },
    {
      "cell_type": "code",
      "source": [
        "batch_size = 32"
      ],
      "metadata": {
        "id": "jqPOiYR3DdY_"
      },
      "execution_count": 4,
      "outputs": []
    },
    {
      "cell_type": "code",
      "source": [
        "def get_ds(ds):\n",
        "    ds = tf.data.TFRecordDataset(ds,compression_type = \"GZIP\")\n",
        "    ds = ds.map(parser,num_parallel_calls = tf.data.experimental.AUTOTUNE)\n",
        "    ds = ds.shuffle(buffer_size = 300)\n",
        "    ds = ds.batch(33,drop_remainder = True)\n",
        "    ds = ds.prefetch(buffer_size = tf.data.experimental.AUTOTUNE)\n",
        "    return ds"
      ],
      "metadata": {
        "id": "dCT92x-HDdvq"
      },
      "execution_count": 5,
      "outputs": []
    },
    {
      "cell_type": "code",
      "source": [
        "train_ds = get_ds(\"/content/drive/MyDrive/FewShot/train_rec\")\n",
        "test_ds = get_ds(\"/content/drive/MyDrive/FewShot/test_rec\")\n",
        "val_ds = get_ds(\"/content/drive/MyDrive/FewShot/val_rec\")"
      ],
      "metadata": {
        "id": "-x4YTi_pDgJf"
      },
      "execution_count": 6,
      "outputs": []
    },
    {
      "cell_type": "code",
      "source": [
        "train_ds"
      ],
      "metadata": {
        "colab": {
          "base_uri": "https://localhost:8080/"
        },
        "id": "Us01GQHIDjRg",
        "outputId": "f1fe48a0-a547-4bd3-8da6-e4d1ec63966b"
      },
      "execution_count": 7,
      "outputs": [
        {
          "output_type": "execute_result",
          "data": {
            "text/plain": [
              "<_PrefetchDataset element_spec=({'wave1': TensorSpec(shape=(33, 1024, 19), dtype=tf.float32, name=None), 'wave2': TensorSpec(shape=(33, 1024, 19), dtype=tf.float32, name=None), 'state': TensorSpec(shape=(33, 2), dtype=tf.float32, name=None)}, {'difference': TensorSpec(shape=(33, 1), dtype=tf.float32, name=None)})>"
            ]
          },
          "metadata": {},
          "execution_count": 7
        }
      ]
    },
    {
      "cell_type": "markdown",
      "source": [
        "**Squared Difference Layer**"
      ],
      "metadata": {
        "id": "H8_YPZui8CwE"
      }
    },
    {
      "cell_type": "code",
      "source": [
        "class SQD(tf.keras.layers.Layer):\n",
        "    def __init__(self):\n",
        "        super(SQD, self).__init__()\n",
        "    def call(self, inputs):\n",
        "        x, y = inputs\n",
        "        diff = tf.subtract(x, y)\n",
        "        return tf.square(diff)\n",
        "    "
      ],
      "metadata": {
        "id": "1busJfqEDjW5"
      },
      "execution_count": 8,
      "outputs": []
    },
    {
      "cell_type": "markdown",
      "source": [
        "**LSTM and Siamese Layer**"
      ],
      "metadata": {
        "id": "KokuBWV08Hhu"
      }
    },
    {
      "cell_type": "code",
      "source": [
        "def wave_downsample():\n",
        "    input = tf.keras.Input(batch_size = batch_size,shape = (1024,19))\n",
        "    output = tf.keras.layers.LSTM(10,return_sequences = True)(input)\n",
        "    output = tf.keras.layers.Dense(2,kernel_constraint = tf.keras.constraints.UnitNorm())(output)\n",
        "    output = tf.keras.layers.Flatten()(output)\n",
        "    output = tf.keras.layers.Activation('relu')(output)\n",
        "    output = tf.keras.layers.Dropout(0.3)(output)\n",
        "    output = tf.keras.layers.Dense(20,kernel_constraint = tf.keras.constraints.UnitNorm())(output)\n",
        "    output = tf.keras.layers.Activation('relu')(output)\n",
        "    output = tf.keras.layers.Dropout(0.2)(output)\n",
        "    model = tf.keras.Model(inputs = [input],outputs = [output])\n",
        "    return model\n",
        "     \n",
        "def get_model():\n",
        "    wave1 = tf.keras.Input(batch_size = batch_size,shape = (1024,19),name = 'wave1')\n",
        "    wave2 = tf.keras.Input(batch_size = batch_size,shape = (1024,19),name = 'wave2')\n",
        "    state = tf.keras.Input(batch_size = batch_size,shape = (2,),name = 'state')\n",
        "    \n",
        "    output1 = tf.keras.layers.BatchNormalization()(wave1)\n",
        "    output2 = tf.keras.layers.BatchNormalization()(wave2)\n",
        "\n",
        "    down_sampler = wave_downsample()\n",
        "    output1 = down_sampler(output1)\n",
        "    output2 = down_sampler(output2)\n",
        "\n",
        "    output1 = tf.keras.layers.Dropout(0.3)(output1)\n",
        "    output1 = tf.keras.layers.Activation('tanh')(output1)\n",
        "\n",
        "    output2 = tf.keras.layers.Dropout(0.3)(output2)\n",
        "    output2 = tf.keras.layers.Activation('tanh')(output2)\n",
        "\n",
        "    output = SQD()([output1,output2])\n",
        "    output = tf.keras.layers.concatenate([output,state])\n",
        "    output1 = tf.keras.layers.Dropout(0.2)(output1)\n",
        "    output = tf.keras.layers.Dense(10,activation = 'relu',name = 'difference')(output)\n",
        "    \n",
        "    model = tf.keras.Model(inputs = [wave1,wave2,state],outputs = [output],name = 'FewShot')\n",
        "    return model"
      ],
      "metadata": {
        "id": "dIVnwsPEJSyR"
      },
      "execution_count": 91,
      "outputs": []
    },
    {
      "cell_type": "code",
      "source": [
        "model = get_model()\n",
        "#model.summary()"
      ],
      "metadata": {
        "id": "HfWPcUe_DoGC"
      },
      "execution_count": 92,
      "outputs": []
    },
    {
      "cell_type": "code",
      "source": [
        "tf.keras.utils.plot_model(model,show_shapes = True,show_layer_names = True)"
      ],
      "metadata": {
        "colab": {
          "base_uri": "https://localhost:8080/",
          "height": 865
        },
        "id": "ju4p6XrlDqkm",
        "outputId": "de6b1993-2087-451d-d057-d876c58d77c4"
      },
      "execution_count": 107,
      "outputs": [
        {
          "output_type": "execute_result",
          "data": {
            "image/png": "[encoded data removed]",
            "text/plain": [
              "<IPython.core.display.Image object>"
            ]
          },
          "metadata": {},
          "execution_count": 107
        }
      ]
    },
    {
      "cell_type": "code",
      "source": [
        "model.summary()"
      ],
      "metadata": {
        "id": "4P-voezQ6lzz",
        "outputId": "250c70fa-aed7-42c9-f000-ef6086f06809",
        "colab": {
          "base_uri": "https://localhost:8080/"
        }
      },
      "execution_count": 108,
      "outputs": [
        {
          "output_type": "stream",
          "name": "stdout",
          "text": [
            "Model: \"FewShot\"\n",
            "__________________________________________________________________________________________________\n",
            " Layer (type)                   Output Shape         Param #     Connected to                     \n",
            "==================================================================================================\n",
            " wave1 (InputLayer)             [(32, 1024, 19)]     0           []                               \n",
            "                                                                                                  \n",
            " wave2 (InputLayer)             [(32, 1024, 19)]     0           []                               \n",
            "                                                                                                  \n",
            " batch_normalization_34 (BatchN  (32, 1024, 19)      76          ['wave1[0][0]']                  \n",
            " ormalization)                                                                                    \n",
            "                                                                                                  \n",
            " batch_normalization_35 (BatchN  (32, 1024, 19)      76          ['wave2[0][0]']                  \n",
            " ormalization)                                                                                    \n",
            "                                                                                                  \n",
            " model_16 (Functional)          (32, 20)             42202       ['batch_normalization_34[0][0]', \n",
            "                                                                  'batch_normalization_35[0][0]'] \n",
            "                                                                                                  \n",
            " dropout_74 (Dropout)           (32, 20)             0           ['model_16[0][0]']               \n",
            "                                                                                                  \n",
            " dropout_75 (Dropout)           (32, 20)             0           ['model_16[1][0]']               \n",
            "                                                                                                  \n",
            " activation_31 (Activation)     (32, 20)             0           ['dropout_74[0][0]']             \n",
            "                                                                                                  \n",
            " activation_32 (Activation)     (32, 20)             0           ['dropout_75[0][0]']             \n",
            "                                                                                                  \n",
            " sqd_16 (SQD)                   (32, 20)             0           ['activation_31[0][0]',          \n",
            "                                                                  'activation_32[0][0]']          \n",
            "                                                                                                  \n",
            " state (InputLayer)             [(32, 2)]            0           []                               \n",
            "                                                                                                  \n",
            " concatenate_16 (Concatenate)   (32, 22)             0           ['sqd_16[0][0]',                 \n",
            "                                                                  'state[0][0]']                  \n",
            "                                                                                                  \n",
            " difference (Dense)             (32, 10)             230         ['concatenate_16[0][0]']         \n",
            "                                                                                                  \n",
            "==================================================================================================\n",
            "Total params: 42,584\n",
            "Trainable params: 42,508\n",
            "Non-trainable params: 76\n",
            "__________________________________________________________________________________________________\n"
          ]
        }
      ]
    },
    {
      "cell_type": "code",
      "source": [
        "cbs = tf.keras.callbacks.ModelCheckpoint(\"weights/best_one\",monitor = 'val_loss',save_best_only = True,save_weights_only = True)"
      ],
      "metadata": {
        "id": "dk1X4gAWQeDu"
      },
      "execution_count": 43,
      "outputs": []
    },
    {
      "cell_type": "code",
      "source": [
        "model.compile(optimizer = tf.keras.optimizers.Adam(),\n",
        "              loss = tfa.losses.ContrastiveLoss(),\n",
        ")"
      ],
      "metadata": {
        "id": "BdZcLj8iDwO8"
      },
      "execution_count": 93,
      "outputs": []
    },
    {
      "cell_type": "code",
      "source": [
        "model.fit(train_ds,epochs = 50,validation_data = val_ds,callbacks = [cbs])"
      ],
      "metadata": {
        "colab": {
          "base_uri": "https://localhost:8080/"
        },
        "id": "9bMSPXxLDxnL",
        "outputId": "36cab5ce-b24d-4328-ebdc-577e8d6d7f8f"
      },
      "execution_count": 96,
      "outputs": [
        {
          "output_type": "stream",
          "name": "stdout",
          "text": [
            "Epoch 1/50\n",
            "8/8 [==============================] - 1s 79ms/step - loss: 0.2452 - val_loss: 0.2674\n",
            "Epoch 2/50\n",
            "8/8 [==============================] - 1s 64ms/step - loss: 0.2334 - val_loss: 0.2569\n",
            "Epoch 3/50\n",
            "8/8 [==============================] - 1s 66ms/step - loss: 0.2117 - val_loss: 0.2527\n",
            "Epoch 4/50\n",
            "8/8 [==============================] - 1s 63ms/step - loss: 0.2237 - val_loss: 0.2439\n",
            "Epoch 5/50\n",
            "8/8 [==============================] - 1s 64ms/step - loss: 0.2032 - val_loss: 0.2463\n",
            "Epoch 6/50\n",
            "8/8 [==============================] - 1s 76ms/step - loss: 0.2096 - val_loss: 0.2462\n",
            "Epoch 7/50\n",
            "8/8 [==============================] - 1s 106ms/step - loss: 0.2062 - val_loss: 0.2221\n",
            "Epoch 8/50\n",
            "8/8 [==============================] - 1s 100ms/step - loss: 0.1590 - val_loss: 0.2110\n",
            "Epoch 9/50\n",
            "8/8 [==============================] - 1s 71ms/step - loss: 0.1610 - val_loss: 0.1843\n",
            "Epoch 10/50\n",
            "8/8 [==============================] - 1s 71ms/step - loss: 0.1696 - val_loss: 0.1826\n",
            "Epoch 11/50\n",
            "8/8 [==============================] - 1s 69ms/step - loss: 0.1577 - val_loss: 0.1637\n",
            "Epoch 12/50\n",
            "8/8 [==============================] - 1s 65ms/step - loss: 0.1659 - val_loss: 0.1849\n",
            "Epoch 13/50\n",
            "8/8 [==============================] - 1s 65ms/step - loss: 0.1745 - val_loss: 0.1733\n",
            "Epoch 14/50\n",
            "8/8 [==============================] - 1s 65ms/step - loss: 0.1647 - val_loss: 0.1696\n",
            "Epoch 15/50\n",
            "8/8 [==============================] - 1s 72ms/step - loss: 0.2150 - val_loss: 0.1414\n",
            "Epoch 16/50\n",
            "8/8 [==============================] - 1s 71ms/step - loss: 0.1530 - val_loss: 0.1345\n",
            "Epoch 17/50\n",
            "8/8 [==============================] - 1s 69ms/step - loss: 0.1940 - val_loss: 0.1285\n",
            "Epoch 18/50\n",
            "8/8 [==============================] - 1s 72ms/step - loss: 0.1867 - val_loss: 0.1155\n",
            "Epoch 19/50\n",
            "8/8 [==============================] - 1s 71ms/step - loss: 0.1703 - val_loss: 0.1135\n",
            "Epoch 20/50\n",
            "8/8 [==============================] - 1s 64ms/step - loss: 0.1769 - val_loss: 0.1286\n",
            "Epoch 21/50\n",
            "8/8 [==============================] - 1s 103ms/step - loss: 0.1914 - val_loss: 0.1110\n",
            "Epoch 22/50\n",
            "8/8 [==============================] - 1s 108ms/step - loss: 0.1889 - val_loss: 0.1066\n",
            "Epoch 23/50\n",
            "8/8 [==============================] - 1s 108ms/step - loss: 0.1572 - val_loss: 0.1002\n",
            "Epoch 24/50\n",
            "8/8 [==============================] - 1s 71ms/step - loss: 0.1771 - val_loss: 0.1102\n",
            "Epoch 25/50\n",
            "8/8 [==============================] - 1s 72ms/step - loss: 0.1728 - val_loss: 0.0977\n",
            "Epoch 26/50\n",
            "8/8 [==============================] - 1s 68ms/step - loss: 0.1793 - val_loss: 0.1043\n",
            "Epoch 27/50\n",
            "8/8 [==============================] - 1s 71ms/step - loss: 0.1866 - val_loss: 0.0869\n",
            "Epoch 28/50\n",
            "8/8 [==============================] - 1s 67ms/step - loss: 0.1639 - val_loss: 0.0880\n",
            "Epoch 29/50\n",
            "8/8 [==============================] - 1s 71ms/step - loss: 0.1887 - val_loss: 0.0795\n",
            "Epoch 30/50\n",
            "8/8 [==============================] - 1s 63ms/step - loss: 0.1797 - val_loss: 0.1127\n",
            "Epoch 31/50\n",
            "8/8 [==============================] - 1s 70ms/step - loss: 0.1850 - val_loss: 0.0727\n",
            "Epoch 32/50\n",
            "8/8 [==============================] - 1s 64ms/step - loss: 0.1916 - val_loss: 0.1095\n",
            "Epoch 33/50\n",
            "8/8 [==============================] - 1s 65ms/step - loss: 0.1671 - val_loss: 0.1298\n",
            "Epoch 34/50\n",
            "8/8 [==============================] - 1s 66ms/step - loss: 0.1997 - val_loss: 0.0815\n",
            "Epoch 35/50\n",
            "8/8 [==============================] - 1s 93ms/step - loss: 0.1807 - val_loss: 0.0881\n",
            "Epoch 36/50\n",
            "8/8 [==============================] - 1s 95ms/step - loss: 0.2083 - val_loss: 0.1038\n",
            "Epoch 37/50\n",
            "8/8 [==============================] - 1s 112ms/step - loss: 0.1925 - val_loss: 0.0685\n",
            "Epoch 38/50\n",
            "8/8 [==============================] - 1s 71ms/step - loss: 0.1817 - val_loss: 0.0867\n",
            "Epoch 39/50\n",
            "8/8 [==============================] - 1s 66ms/step - loss: 0.1947 - val_loss: 0.1040\n",
            "Epoch 40/50\n",
            "8/8 [==============================] - 1s 66ms/step - loss: 0.2010 - val_loss: 0.1020\n",
            "Epoch 41/50\n",
            "8/8 [==============================] - 1s 63ms/step - loss: 0.1823 - val_loss: 0.0987\n",
            "Epoch 42/50\n",
            "8/8 [==============================] - 1s 66ms/step - loss: 0.1793 - val_loss: 0.0766\n",
            "Epoch 43/50\n",
            "8/8 [==============================] - 1s 67ms/step - loss: 0.1815 - val_loss: 0.0705\n",
            "Epoch 44/50\n",
            "8/8 [==============================] - 1s 63ms/step - loss: 0.1920 - val_loss: 0.0935\n",
            "Epoch 45/50\n",
            "8/8 [==============================] - 1s 65ms/step - loss: 0.1948 - val_loss: 0.1128\n",
            "Epoch 46/50\n",
            "8/8 [==============================] - 1s 66ms/step - loss: 0.1883 - val_loss: 0.1004\n",
            "Epoch 47/50\n",
            "8/8 [==============================] - 1s 62ms/step - loss: 0.1824 - val_loss: 0.0767\n",
            "Epoch 48/50\n",
            "8/8 [==============================] - 1s 63ms/step - loss: 0.1717 - val_loss: 0.1138\n",
            "Epoch 49/50\n",
            "8/8 [==============================] - 1s 65ms/step - loss: 0.1826 - val_loss: 0.0886\n",
            "Epoch 50/50\n",
            "8/8 [==============================] - 1s 80ms/step - loss: 0.2044 - val_loss: 0.0623\n"
          ]
        },
        {
          "output_type": "execute_result",
          "data": {
            "text/plain": [
              "<keras.callbacks.History at 0x7f7eec4bf7c0>"
            ]
          },
          "metadata": {},
          "execution_count": 96
        }
      ]
    },
    {
      "cell_type": "markdown",
      "source": [
        "Archiving and Reloading and testing the model score"
      ],
      "metadata": {
        "id": "XMKPgqTcOSQk"
      }
    },
    {
      "cell_type": "code",
      "source": [
        "shutil.make_archive(\"/content/cont\",\"zip\",\"/content/weights\")"
      ],
      "metadata": {
        "id": "IaBBmP4BfuGp",
        "colab": {
          "base_uri": "https://localhost:8080/",
          "height": 35
        },
        "outputId": "e9f033e3-36c0-4fc3-eedf-ed7c6223a12d"
      },
      "execution_count": 100,
      "outputs": [
        {
          "output_type": "execute_result",
          "data": {
            "text/plain": [
              "'/content/cont.zip'"
            ],
            "application/vnd.google.colaboratory.intrinsic+json": {
              "type": "string"
            }
          },
          "metadata": {},
          "execution_count": 100
        }
      ]
    },
    {
      "cell_type": "code",
      "source": [
        "shutil.move(\"/content/cont.zip\",\"/content/drive/MyDrive/FewShot/\")"
      ],
      "metadata": {
        "id": "FBGued9BgDTt",
        "colab": {
          "base_uri": "https://localhost:8080/",
          "height": 35
        },
        "outputId": "f9fc1dde-1713-41d4-f2da-6672715c74d2"
      },
      "execution_count": 101,
      "outputs": [
        {
          "output_type": "execute_result",
          "data": {
            "text/plain": [
              "'/content/drive/MyDrive/FewShot/cont.zip'"
            ],
            "application/vnd.google.colaboratory.intrinsic+json": {
              "type": "string"
            }
          },
          "metadata": {},
          "execution_count": 101
        }
      ]
    },
    {
      "cell_type": "code",
      "source": [
        "!unzip \"/content/drive/MyDrive/FewShot/cont.zip\" -d \"/content/weights/\""
      ],
      "metadata": {
        "colab": {
          "base_uri": "https://localhost:8080/"
        },
        "id": "TJn0rfZFNBf7",
        "outputId": "34eb4d80-d115-4d3c-8c90-eb0bc9eb9c96"
      },
      "execution_count": 103,
      "outputs": [
        {
          "output_type": "stream",
          "name": "stdout",
          "text": [
            "Archive:  /content/drive/MyDrive/FewShot/cont.zip\n",
            "replace /content/weights/checkpoint? [y]es, [n]o, [A]ll, [N]one, [r]ename: A\n",
            "  inflating: /content/weights/checkpoint  \n",
            "  inflating: /content/weights/best_one.index  \n",
            "  inflating: /content/weights/best_one.data-00000-of-00001  \n"
          ]
        }
      ]
    },
    {
      "cell_type": "code",
      "source": [
        "model.load_weights(\"/content/weights/best_one\")\n",
        "model.evaluate(test_ds)"
      ],
      "metadata": {
        "colab": {
          "base_uri": "https://localhost:8080/"
        },
        "id": "w5Yd14ryNFSn",
        "outputId": "4adb14ed-f444-4ea5-8319-cebddd624ff8"
      },
      "execution_count": 109,
      "outputs": [
        {
          "output_type": "stream",
          "name": "stdout",
          "text": [
            "2/2 [==============================] - 0s 92ms/step - loss: 0.0573\n"
          ]
        },
        {
          "output_type": "execute_result",
          "data": {
            "text/plain": [
              "0.05728335678577423"
            ]
          },
          "metadata": {},
          "execution_count": 109
        }
      ]
    },
    {
      "cell_type": "code",
      "source": [
        "model.evaluate(val_ds)"
      ],
      "metadata": {
        "id": "49uTbSKd6si4",
        "outputId": "b01fc126-89f1-424d-ee2b-0e66924a1286",
        "colab": {
          "base_uri": "https://localhost:8080/"
        }
      },
      "execution_count": 110,
      "outputs": [
        {
          "output_type": "stream",
          "name": "stdout",
          "text": [
            "2/2 [==============================] - 0s 91ms/step - loss: 0.0623\n"
          ]
        },
        {
          "output_type": "execute_result",
          "data": {
            "text/plain": [
              "0.06229657679796219"
            ]
          },
          "metadata": {},
          "execution_count": 110
        }
      ]
    },
    {
      "cell_type": "code",
      "source": [
        "model.evaluate(train_ds)"
      ],
      "metadata": {
        "id": "o5US2d1_6vwk",
        "outputId": "949b7c8a-09ac-4064-9505-56bbb484a69d",
        "colab": {
          "base_uri": "https://localhost:8080/"
        }
      },
      "execution_count": 111,
      "outputs": [
        {
          "output_type": "stream",
          "name": "stdout",
          "text": [
            "8/8 [==============================] - 1s 44ms/step - loss: 0.0381\n"
          ]
        },
        {
          "output_type": "execute_result",
          "data": {
            "text/plain": [
              "0.03813932463526726"
            ]
          },
          "metadata": {},
          "execution_count": 111
        }
      ]
    }
  ]
}