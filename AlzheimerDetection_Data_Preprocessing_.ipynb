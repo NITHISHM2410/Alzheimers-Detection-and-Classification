{
  "nbformat": 4,
  "nbformat_minor": 0,
  "metadata": {
    "colab": {
      "provenance": []
    },
    "kernelspec": {
      "name": "python3",
      "display_name": "Python 3"
    },
    "language_info": {
      "name": "python"
    },
    "gpuClass": "standard"
  },
  "cells": [
    {
      "cell_type": "code",
      "execution_count": null,
      "metadata": {
        "id": "QCtcBO28w56X"
      },
      "outputs": [],
      "source": [
        "import numpy as np\n",
        "import glob\n",
        "import re\n",
        "import shutil\n",
        "import random\n",
        "import pandas as pd\n",
        "import tensorflow as tf\n",
        "from scipy.interpolate import interp1d\n",
        "import matplotlib.pyplot as plt\n",
        "from sklearn.preprocessing import StandardScaler\n",
        "from sklearn.decomposition import PCA "
      ]
    },
    {
      "cell_type": "code",
      "source": [
        "shutil.rmtree(\"/content/DataBase\")\n",
        "shutil.rmtree(\"/content/DataBaseOriginal\")"
      ],
      "metadata": {
        "id": "Qc9yT8Kh5rzq"
      },
      "execution_count": null,
      "outputs": []
    },
    {
      "cell_type": "code",
      "source": [
        "!unzip /content/DataBase.zip"
      ],
      "metadata": {
        "colab": {
          "base_uri": "https://localhost:8080/"
        },
        "id": "QR0IveJ71nQE",
        "outputId": "ab5ac264-1b2d-4462-dc67-3cbca0cf26c7"
      },
      "execution_count": null,
      "outputs": [
        {
          "output_type": "stream",
          "name": "stdout",
          "text": [
            "Archive:  /content/DataBase.zip\n",
            "   creating: DataBase/SETA/\n",
            "  inflating: DataBase/SETA/healthy_open1.csv  \n",
            "  inflating: DataBase/SETA/healthy_open10.csv  \n",
            "  inflating: DataBase/SETA/healthy_open11.csv  \n",
            "  inflating: DataBase/SETA/healthy_open12.csv  \n",
            "  inflating: DataBase/SETA/healthy_open2.csv  \n",
            "  inflating: DataBase/SETA/healthy_open3.csv  \n",
            "  inflating: DataBase/SETA/healthy_open4.csv  \n",
            "  inflating: DataBase/SETA/healthy_open5.csv  \n",
            "  inflating: DataBase/SETA/healthy_open6.csv  \n",
            "  inflating: DataBase/SETA/healthy_open7.csv  \n",
            "  inflating: DataBase/SETA/healthy_open8.csv  \n",
            "  inflating: DataBase/SETA/healthy_open9.csv  \n",
            "   creating: DataBase/SETB/\n",
            "  inflating: DataBase/SETB/healthy_closed1.csv  \n",
            "  inflating: DataBase/SETB/healthy_closed10.csv  \n",
            "  inflating: DataBase/SETB/healthy_closed11.csv  \n",
            "  inflating: DataBase/SETB/healthy_closed12.csv  \n",
            "  inflating: DataBase/SETB/healthy_closed2.csv  \n",
            "  inflating: DataBase/SETB/healthy_closed3.csv  \n",
            "  inflating: DataBase/SETB/healthy_closed4.csv  \n",
            "  inflating: DataBase/SETB/healthy_closed5.csv  \n",
            "  inflating: DataBase/SETB/healthy_closed6.csv  \n",
            "  inflating: DataBase/SETB/healthy_closed7.csv  \n",
            "  inflating: DataBase/SETB/healthy_closed8.csv  \n",
            "  inflating: DataBase/SETB/healthy_closed9.csv  \n",
            "   creating: DataBase/SETC/\n",
            "  inflating: DataBase/SETC/alzeimer_open1.csv  \n",
            "  inflating: DataBase/SETC/alzeimer_open10.csv  \n",
            "  inflating: DataBase/SETC/alzeimer_open11.csv  \n",
            "  inflating: DataBase/SETC/alzeimer_open12.csv  \n",
            "  inflating: DataBase/SETC/alzeimer_open2.csv  \n",
            "  inflating: DataBase/SETC/alzeimer_open3.csv  \n",
            "  inflating: DataBase/SETC/alzeimer_open4.csv  \n",
            "  inflating: DataBase/SETC/alzeimer_open5.csv  \n",
            "  inflating: DataBase/SETC/alzeimer_open6.csv  \n",
            "  inflating: DataBase/SETC/alzeimer_open7.csv  \n",
            "  inflating: DataBase/SETC/alzeimer_open8.csv  \n",
            "  inflating: DataBase/SETC/alzeimer_open9.csv  \n",
            "   creating: DataBase/SETD/\n",
            "  inflating: DataBase/SETD/alzeimer_closed1.csv  \n",
            "  inflating: DataBase/SETD/alzeimer_closed10.csv  \n",
            "  inflating: DataBase/SETD/alzeimer_closed11.csv  \n",
            "  inflating: DataBase/SETD/alzeimer_closed12.csv  \n",
            "  inflating: DataBase/SETD/alzeimer_closed2.csv  \n",
            "  inflating: DataBase/SETD/alzeimer_closed3.csv  \n",
            "  inflating: DataBase/SETD/alzeimer_closed4.csv  \n",
            "  inflating: DataBase/SETD/alzeimer_closed5.csv  \n",
            "  inflating: DataBase/SETD/alzeimer_closed6.csv  \n",
            "  inflating: DataBase/SETD/alzeimer_closed7.csv  \n",
            "  inflating: DataBase/SETD/alzeimer_closed8.csv  \n",
            "  inflating: DataBase/SETD/alzeimer_closed9.csv  \n"
          ]
        }
      ]
    },
    {
      "cell_type": "code",
      "source": [
        "files = glob.glob(\"/content/DataBase/*/*\")"
      ],
      "metadata": {
        "id": "08Na1FnV10i_"
      },
      "execution_count": null,
      "outputs": []
    },
    {
      "cell_type": "code",
      "source": [
        "len(files)"
      ],
      "metadata": {
        "colab": {
          "base_uri": "https://localhost:8080/"
        },
        "id": "_1GVzJyB19bo",
        "outputId": "554a0c67-a953-4ba3-968d-8fad2c60a927"
      },
      "execution_count": null,
      "outputs": [
        {
          "output_type": "execute_result",
          "data": {
            "text/plain": [
              "48"
            ]
          },
          "metadata": {},
          "execution_count": 205
        }
      ]
    },
    {
      "cell_type": "code",
      "source": [
        "def clean(path):\n",
        "    df = pd.read_csv(path)\n",
        "    for column in df.columns:\n",
        "        if df[column].dtype == 'object':\n",
        "            print(\"Sample : \",path,\" feature : \",column,\" is uncleaned\")\n",
        "            df[column] = pd.to_numeric(df[column], errors='coerce')\n",
        "            df[column] = df[column].fillna(method='ffill')\n",
        "            df[column] = df[column].fillna(method='bfill')\n",
        "    df = df.iloc[:1024,:]\n",
        "    df.to_csv(path, index=False)"
      ],
      "metadata": {
        "id": "wcqKXwNK2Bhp"
      },
      "execution_count": null,
      "outputs": []
    },
    {
      "cell_type": "code",
      "source": [
        "for i in files:\n",
        "    clean(i)"
      ],
      "metadata": {
        "id": "drtoJhwH4Lmp",
        "colab": {
          "base_uri": "https://localhost:8080/"
        },
        "outputId": "d1e236c5-222b-41a4-aa40-59bbe56f7365"
      },
      "execution_count": null,
      "outputs": [
        {
          "output_type": "stream",
          "name": "stdout",
          "text": [
            "Sample :  /content/DataBase/SETB/healthy_closed2.csv  feature :  16  is uncleaned\n",
            "Sample :  /content/DataBase/SETB/healthy_closed6.csv  feature :  14  is uncleaned\n",
            "Sample :  /content/DataBase/SETA/healthy_open2.csv  feature :  16  is uncleaned\n",
            "Sample :  /content/DataBase/SETA/healthy_open11.csv  feature :  14  is uncleaned\n",
            "Sample :  /content/DataBase/SETD/alzeimer_closed12.csv  feature :  18  is uncleaned\n",
            "Sample :  /content/DataBase/SETC/alzeimer_open10.csv  feature :  0  is uncleaned\n",
            "Sample :  /content/DataBase/SETC/alzeimer_open8.csv  feature :  0  is uncleaned\n",
            "Sample :  /content/DataBase/SETC/alzeimer_open6.csv  feature :  0  is uncleaned\n",
            "Sample :  /content/DataBase/SETC/alzeimer_open5.csv  feature :  0  is uncleaned\n"
          ]
        }
      ]
    },
    {
      "cell_type": "code",
      "source": [
        "files = glob.glob(\"/content/DataBase/*/*\")\n",
        "len(files)"
      ],
      "metadata": {
        "colab": {
          "base_uri": "https://localhost:8080/"
        },
        "id": "SfTA_fFi74k6",
        "outputId": "32a8375a-98f3-4f42-e110-ce9aca749f85"
      },
      "execution_count": null,
      "outputs": [
        {
          "output_type": "execute_result",
          "data": {
            "text/plain": [
              "48"
            ]
          },
          "metadata": {},
          "execution_count": 208
        }
      ]
    },
    {
      "cell_type": "code",
      "source": [
        "shutil.copytree(\"/content/DataBase\",\"/content/DataBaseOriginal\")"
      ],
      "metadata": {
        "colab": {
          "base_uri": "https://localhost:8080/",
          "height": 36
        },
        "id": "kGJOVw6M_i72",
        "outputId": "e179205c-b211-4287-b367-a4913021ce54"
      },
      "execution_count": null,
      "outputs": [
        {
          "output_type": "execute_result",
          "data": {
            "text/plain": [
              "'/content/DataBaseOriginal'"
            ],
            "application/vnd.google.colaboratory.intrinsic+json": {
              "type": "string"
            }
          },
          "metadata": {},
          "execution_count": 209
        }
      ]
    },
    {
      "cell_type": "code",
      "source": [
        "def positive_shift(path,replace = False,value = 0):\n",
        "    df = pd.read_csv(path)\n",
        "    shift = random.randint(3,15)\n",
        "    df = df.shift(shift)\n",
        "    if replace:\n",
        "       df = df.fillna(df.mean())\n",
        "    df = df.fillna(0)      \n",
        "    deviation = df.std().tolist()\n",
        "    noise = np.random.normal([0]*19,deviation,19)\n",
        "    df += noise/10\n",
        "    return df\n",
        "\n",
        "def negative_shift(path,replace = False,value = 0):\n",
        "    df = pd.read_csv(path)\n",
        "    shift = random.randint(-15,-3)\n",
        "    df = df.shift(shift)\n",
        "    if replace:\n",
        "       df = df.fillna(df.mean())\n",
        "    df = df.fillna(0)   \n",
        "    deviation = df.std().tolist()\n",
        "    noise = np.random.normal([0]*19,deviation,19)\n",
        "    df += noise/10\n",
        "    return df    \n",
        "\n",
        "def shift(path,label,file_no,target_dir):\n",
        "    pn = random.randint(0,1)\n",
        "    if pn == 1:\n",
        "        file_name = label+str(file_no)+\".csv\"\n",
        "        file_name = target_dir+\"/\"+file_name\n",
        "        df = positive_shift(path)\n",
        "        print(path,\" -> \",file_name,\" Positive Shift\")\n",
        "        df.to_csv(file_name,index = False)\n",
        "    else:\n",
        "        file_name = label+str(file_no)+\".csv\"\n",
        "        file_name = target_dir+\"/\"+file_name\n",
        "        df = negative_shift(path)\n",
        "        print(path,\" -> \",file_name,\" Negative Shift\")\n",
        "        df.to_csv(file_name,index = False)    \n",
        "\n",
        "\n",
        "def add_shift_per_sample(path,label):\n",
        "    file_no = 25\n",
        "    all_files = glob.glob(path+\"/*\")\n",
        "    for i in all_files:\n",
        "        shift(i,label,file_no,path)\n",
        "        file_no += 1\n",
        "   "
      ],
      "metadata": {
        "id": "m9Rsfo5BG2AX"
      },
      "execution_count": null,
      "outputs": []
    },
    {
      "cell_type": "code",
      "source": [
        "add_shift_per_sample(\"/content/DataBase/SETA\",'healthy_open')"
      ],
      "metadata": {
        "colab": {
          "base_uri": "https://localhost:8080/"
        },
        "id": "39gEodpRNV-L",
        "outputId": "c58bf042-bd8f-4b8d-b56c-b55fac8fdeca"
      },
      "execution_count": null,
      "outputs": [
        {
          "output_type": "stream",
          "name": "stdout",
          "text": [
            "/content/DataBase/SETA/healthy_open8.csv  ->  /content/DataBase/SETA/healthy_open25.csv  Positive Shift\n",
            "/content/DataBase/SETA/healthy_open2.csv  ->  /content/DataBase/SETA/healthy_open26.csv  Negative Shift\n",
            "/content/DataBase/SETA/healthy_open9.csv  ->  /content/DataBase/SETA/healthy_open27.csv  Positive Shift\n",
            "/content/DataBase/SETA/healthy_open5.csv  ->  /content/DataBase/SETA/healthy_open28.csv  Positive Shift\n",
            "/content/DataBase/SETA/healthy_open4.csv  ->  /content/DataBase/SETA/healthy_open29.csv  Positive Shift\n",
            "/content/DataBase/SETA/healthy_open11.csv  ->  /content/DataBase/SETA/healthy_open30.csv  Negative Shift\n",
            "/content/DataBase/SETA/healthy_open1.csv  ->  /content/DataBase/SETA/healthy_open31.csv  Positive Shift\n",
            "/content/DataBase/SETA/healthy_open12.csv  ->  /content/DataBase/SETA/healthy_open32.csv  Positive Shift\n",
            "/content/DataBase/SETA/healthy_open7.csv  ->  /content/DataBase/SETA/healthy_open33.csv  Positive Shift\n",
            "/content/DataBase/SETA/healthy_open3.csv  ->  /content/DataBase/SETA/healthy_open34.csv  Negative Shift\n",
            "/content/DataBase/SETA/healthy_open10.csv  ->  /content/DataBase/SETA/healthy_open35.csv  Negative Shift\n",
            "/content/DataBase/SETA/healthy_open6.csv  ->  /content/DataBase/SETA/healthy_open36.csv  Negative Shift\n"
          ]
        }
      ]
    },
    {
      "cell_type": "code",
      "source": [
        "add_shift_per_sample(\"/content/DataBase/SETB\",'healthy_closed')"
      ],
      "metadata": {
        "colab": {
          "base_uri": "https://localhost:8080/"
        },
        "id": "EBCsD-MVOGXH",
        "outputId": "d7aac8f2-f432-4df1-e1ed-4905defa4e97"
      },
      "execution_count": null,
      "outputs": [
        {
          "output_type": "stream",
          "name": "stdout",
          "text": [
            "/content/DataBase/SETB/healthy_closed3.csv  ->  /content/DataBase/SETB/healthy_closed25.csv  Negative Shift\n",
            "/content/DataBase/SETB/healthy_closed2.csv  ->  /content/DataBase/SETB/healthy_closed26.csv  Negative Shift\n",
            "/content/DataBase/SETB/healthy_closed5.csv  ->  /content/DataBase/SETB/healthy_closed27.csv  Negative Shift\n",
            "/content/DataBase/SETB/healthy_closed11.csv  ->  /content/DataBase/SETB/healthy_closed28.csv  Positive Shift\n",
            "/content/DataBase/SETB/healthy_closed10.csv  ->  /content/DataBase/SETB/healthy_closed29.csv  Positive Shift\n",
            "/content/DataBase/SETB/healthy_closed6.csv  ->  /content/DataBase/SETB/healthy_closed30.csv  Negative Shift\n",
            "/content/DataBase/SETB/healthy_closed4.csv  ->  /content/DataBase/SETB/healthy_closed31.csv  Positive Shift\n",
            "/content/DataBase/SETB/healthy_closed12.csv  ->  /content/DataBase/SETB/healthy_closed32.csv  Positive Shift\n",
            "/content/DataBase/SETB/healthy_closed9.csv  ->  /content/DataBase/SETB/healthy_closed33.csv  Positive Shift\n",
            "/content/DataBase/SETB/healthy_closed1.csv  ->  /content/DataBase/SETB/healthy_closed34.csv  Positive Shift\n",
            "/content/DataBase/SETB/healthy_closed8.csv  ->  /content/DataBase/SETB/healthy_closed35.csv  Negative Shift\n",
            "/content/DataBase/SETB/healthy_closed7.csv  ->  /content/DataBase/SETB/healthy_closed36.csv  Negative Shift\n"
          ]
        }
      ]
    },
    {
      "cell_type": "code",
      "source": [
        "add_shift_per_sample(\"/content/DataBase/SETC\",'alzeimer_open')"
      ],
      "metadata": {
        "colab": {
          "base_uri": "https://localhost:8080/"
        },
        "id": "lZMi_P_qOMkN",
        "outputId": "09a1c8c4-9da3-480c-ed49-79e5045d3e11"
      },
      "execution_count": null,
      "outputs": [
        {
          "output_type": "stream",
          "name": "stdout",
          "text": [
            "/content/DataBase/SETC/alzeimer_open12.csv  ->  /content/DataBase/SETC/alzeimer_open25.csv  Negative Shift\n",
            "/content/DataBase/SETC/alzeimer_open11.csv  ->  /content/DataBase/SETC/alzeimer_open26.csv  Negative Shift\n",
            "/content/DataBase/SETC/alzeimer_open10.csv  ->  /content/DataBase/SETC/alzeimer_open27.csv  Negative Shift\n",
            "/content/DataBase/SETC/alzeimer_open1.csv  ->  /content/DataBase/SETC/alzeimer_open28.csv  Negative Shift\n",
            "/content/DataBase/SETC/alzeimer_open8.csv  ->  /content/DataBase/SETC/alzeimer_open29.csv  Positive Shift\n",
            "/content/DataBase/SETC/alzeimer_open2.csv  ->  /content/DataBase/SETC/alzeimer_open30.csv  Positive Shift\n",
            "/content/DataBase/SETC/alzeimer_open7.csv  ->  /content/DataBase/SETC/alzeimer_open31.csv  Positive Shift\n",
            "/content/DataBase/SETC/alzeimer_open9.csv  ->  /content/DataBase/SETC/alzeimer_open32.csv  Positive Shift\n",
            "/content/DataBase/SETC/alzeimer_open6.csv  ->  /content/DataBase/SETC/alzeimer_open33.csv  Positive Shift\n",
            "/content/DataBase/SETC/alzeimer_open3.csv  ->  /content/DataBase/SETC/alzeimer_open34.csv  Positive Shift\n",
            "/content/DataBase/SETC/alzeimer_open4.csv  ->  /content/DataBase/SETC/alzeimer_open35.csv  Negative Shift\n",
            "/content/DataBase/SETC/alzeimer_open5.csv  ->  /content/DataBase/SETC/alzeimer_open36.csv  Negative Shift\n"
          ]
        }
      ]
    },
    {
      "cell_type": "code",
      "source": [
        "add_shift_per_sample(\"/content/DataBase/SETD\",'alzeimer_closed')"
      ],
      "metadata": {
        "colab": {
          "base_uri": "https://localhost:8080/"
        },
        "id": "9vKi_iJeOoZI",
        "outputId": "46ff31d6-06df-4433-e4fa-6cf1aded23d3"
      },
      "execution_count": null,
      "outputs": [
        {
          "output_type": "stream",
          "name": "stdout",
          "text": [
            "/content/DataBase/SETD/alzeimer_closed3.csv  ->  /content/DataBase/SETD/alzeimer_closed25.csv  Negative Shift\n",
            "/content/DataBase/SETD/alzeimer_closed7.csv  ->  /content/DataBase/SETD/alzeimer_closed26.csv  Positive Shift\n",
            "/content/DataBase/SETD/alzeimer_closed11.csv  ->  /content/DataBase/SETD/alzeimer_closed27.csv  Positive Shift\n",
            "/content/DataBase/SETD/alzeimer_closed4.csv  ->  /content/DataBase/SETD/alzeimer_closed28.csv  Positive Shift\n",
            "/content/DataBase/SETD/alzeimer_closed12.csv  ->  /content/DataBase/SETD/alzeimer_closed29.csv  Negative Shift\n",
            "/content/DataBase/SETD/alzeimer_closed8.csv  ->  /content/DataBase/SETD/alzeimer_closed30.csv  Positive Shift\n",
            "/content/DataBase/SETD/alzeimer_closed1.csv  ->  /content/DataBase/SETD/alzeimer_closed31.csv  Negative Shift\n",
            "/content/DataBase/SETD/alzeimer_closed9.csv  ->  /content/DataBase/SETD/alzeimer_closed32.csv  Positive Shift\n",
            "/content/DataBase/SETD/alzeimer_closed10.csv  ->  /content/DataBase/SETD/alzeimer_closed33.csv  Negative Shift\n",
            "/content/DataBase/SETD/alzeimer_closed6.csv  ->  /content/DataBase/SETD/alzeimer_closed34.csv  Negative Shift\n",
            "/content/DataBase/SETD/alzeimer_closed5.csv  ->  /content/DataBase/SETD/alzeimer_closed35.csv  Positive Shift\n",
            "/content/DataBase/SETD/alzeimer_closed2.csv  ->  /content/DataBase/SETD/alzeimer_closed36.csv  Negative Shift\n"
          ]
        }
      ]
    },
    {
      "cell_type": "code",
      "source": [
        "def mean_roll(path,label,file_no,target_dir):\n",
        "    df = pd.read_csv(path)\n",
        "    window = random.randint(3,8)\n",
        "    df = df.rolling(window = 5,center = True).mean().fillna(0)\n",
        "    file_name = label+str(file_no)+\".csv\"\n",
        "    file_name = target_dir+\"/\"+file_name\n",
        "    print(path,\" -> \",file_name)\n",
        "    df = df.fillna(method = 'ffill')\n",
        "    df = df.fillna(0)\n",
        "    df.to_csv(file_name,index = False)\n",
        "\n",
        "def add_rolling_per_sample(path,label):\n",
        "    file_no = 49\n",
        "    all_files = glob.glob(path+\"/*\")\n",
        "    for i in all_files:\n",
        "        mean_roll(i,label,file_no,path)\n",
        "        file_no += 1"
      ],
      "metadata": {
        "id": "MSuI0brsV_3t"
      },
      "execution_count": null,
      "outputs": []
    },
    {
      "cell_type": "code",
      "source": [
        "add_rolling_per_sample(\"/content/DataBase/SETA\",'healthy_open')"
      ],
      "metadata": {
        "colab": {
          "base_uri": "https://localhost:8080/"
        },
        "id": "eQBKgjOnV_-l",
        "outputId": "f038bd6c-10b0-4b1c-e4a2-e48b80337d81"
      },
      "execution_count": null,
      "outputs": [
        {
          "output_type": "stream",
          "name": "stdout",
          "text": [
            "/content/DataBase/SETA/healthy_open30.csv  ->  /content/DataBase/SETA/healthy_open49.csv\n",
            "/content/DataBase/SETA/healthy_open29.csv  ->  /content/DataBase/SETA/healthy_open50.csv\n",
            "/content/DataBase/SETA/healthy_open8.csv  ->  /content/DataBase/SETA/healthy_open51.csv\n",
            "/content/DataBase/SETA/healthy_open2.csv  ->  /content/DataBase/SETA/healthy_open52.csv\n",
            "/content/DataBase/SETA/healthy_open9.csv  ->  /content/DataBase/SETA/healthy_open53.csv\n",
            "/content/DataBase/SETA/healthy_open5.csv  ->  /content/DataBase/SETA/healthy_open54.csv\n",
            "/content/DataBase/SETA/healthy_open4.csv  ->  /content/DataBase/SETA/healthy_open55.csv\n",
            "/content/DataBase/SETA/healthy_open11.csv  ->  /content/DataBase/SETA/healthy_open56.csv\n",
            "/content/DataBase/SETA/healthy_open34.csv  ->  /content/DataBase/SETA/healthy_open57.csv\n",
            "/content/DataBase/SETA/healthy_open1.csv  ->  /content/DataBase/SETA/healthy_open58.csv\n",
            "/content/DataBase/SETA/healthy_open28.csv  ->  /content/DataBase/SETA/healthy_open59.csv\n",
            "/content/DataBase/SETA/healthy_open25.csv  ->  /content/DataBase/SETA/healthy_open60.csv\n",
            "/content/DataBase/SETA/healthy_open12.csv  ->  /content/DataBase/SETA/healthy_open61.csv\n",
            "/content/DataBase/SETA/healthy_open7.csv  ->  /content/DataBase/SETA/healthy_open62.csv\n",
            "/content/DataBase/SETA/healthy_open35.csv  ->  /content/DataBase/SETA/healthy_open63.csv\n",
            "/content/DataBase/SETA/healthy_open36.csv  ->  /content/DataBase/SETA/healthy_open64.csv\n",
            "/content/DataBase/SETA/healthy_open26.csv  ->  /content/DataBase/SETA/healthy_open65.csv\n",
            "/content/DataBase/SETA/healthy_open3.csv  ->  /content/DataBase/SETA/healthy_open66.csv\n",
            "/content/DataBase/SETA/healthy_open31.csv  ->  /content/DataBase/SETA/healthy_open67.csv\n",
            "/content/DataBase/SETA/healthy_open10.csv  ->  /content/DataBase/SETA/healthy_open68.csv\n",
            "/content/DataBase/SETA/healthy_open32.csv  ->  /content/DataBase/SETA/healthy_open69.csv\n",
            "/content/DataBase/SETA/healthy_open27.csv  ->  /content/DataBase/SETA/healthy_open70.csv\n",
            "/content/DataBase/SETA/healthy_open33.csv  ->  /content/DataBase/SETA/healthy_open71.csv\n",
            "/content/DataBase/SETA/healthy_open6.csv  ->  /content/DataBase/SETA/healthy_open72.csv\n"
          ]
        }
      ]
    },
    {
      "cell_type": "code",
      "source": [
        "add_rolling_per_sample(\"/content/DataBase/SETB\",'healthy_closed')"
      ],
      "metadata": {
        "colab": {
          "base_uri": "https://localhost:8080/"
        },
        "id": "Vd1AzfCcZ8RI",
        "outputId": "8a766677-e9f7-43a5-bbea-ab8514782ddb"
      },
      "execution_count": null,
      "outputs": [
        {
          "output_type": "stream",
          "name": "stdout",
          "text": [
            "/content/DataBase/SETB/healthy_closed27.csv  ->  /content/DataBase/SETB/healthy_closed49.csv\n",
            "/content/DataBase/SETB/healthy_closed34.csv  ->  /content/DataBase/SETB/healthy_closed50.csv\n",
            "/content/DataBase/SETB/healthy_closed30.csv  ->  /content/DataBase/SETB/healthy_closed51.csv\n",
            "/content/DataBase/SETB/healthy_closed3.csv  ->  /content/DataBase/SETB/healthy_closed52.csv\n",
            "/content/DataBase/SETB/healthy_closed25.csv  ->  /content/DataBase/SETB/healthy_closed53.csv\n",
            "/content/DataBase/SETB/healthy_closed2.csv  ->  /content/DataBase/SETB/healthy_closed54.csv\n",
            "/content/DataBase/SETB/healthy_closed32.csv  ->  /content/DataBase/SETB/healthy_closed55.csv\n",
            "/content/DataBase/SETB/healthy_closed26.csv  ->  /content/DataBase/SETB/healthy_closed56.csv\n",
            "/content/DataBase/SETB/healthy_closed5.csv  ->  /content/DataBase/SETB/healthy_closed57.csv\n",
            "/content/DataBase/SETB/healthy_closed11.csv  ->  /content/DataBase/SETB/healthy_closed58.csv\n",
            "/content/DataBase/SETB/healthy_closed10.csv  ->  /content/DataBase/SETB/healthy_closed59.csv\n",
            "/content/DataBase/SETB/healthy_closed6.csv  ->  /content/DataBase/SETB/healthy_closed60.csv\n",
            "/content/DataBase/SETB/healthy_closed4.csv  ->  /content/DataBase/SETB/healthy_closed61.csv\n",
            "/content/DataBase/SETB/healthy_closed35.csv  ->  /content/DataBase/SETB/healthy_closed62.csv\n",
            "/content/DataBase/SETB/healthy_closed12.csv  ->  /content/DataBase/SETB/healthy_closed63.csv\n",
            "/content/DataBase/SETB/healthy_closed9.csv  ->  /content/DataBase/SETB/healthy_closed64.csv\n",
            "/content/DataBase/SETB/healthy_closed1.csv  ->  /content/DataBase/SETB/healthy_closed65.csv\n",
            "/content/DataBase/SETB/healthy_closed33.csv  ->  /content/DataBase/SETB/healthy_closed66.csv\n",
            "/content/DataBase/SETB/healthy_closed28.csv  ->  /content/DataBase/SETB/healthy_closed67.csv\n",
            "/content/DataBase/SETB/healthy_closed36.csv  ->  /content/DataBase/SETB/healthy_closed68.csv\n",
            "/content/DataBase/SETB/healthy_closed8.csv  ->  /content/DataBase/SETB/healthy_closed69.csv\n",
            "/content/DataBase/SETB/healthy_closed7.csv  ->  /content/DataBase/SETB/healthy_closed70.csv\n",
            "/content/DataBase/SETB/healthy_closed31.csv  ->  /content/DataBase/SETB/healthy_closed71.csv\n",
            "/content/DataBase/SETB/healthy_closed29.csv  ->  /content/DataBase/SETB/healthy_closed72.csv\n"
          ]
        }
      ]
    },
    {
      "cell_type": "code",
      "source": [
        "add_rolling_per_sample(\"/content/DataBase/SETC\",'alzeimer_open')"
      ],
      "metadata": {
        "colab": {
          "base_uri": "https://localhost:8080/"
        },
        "id": "7cJBjy4PaA6s",
        "outputId": "e3f31a44-550b-4dd5-a817-4a23307b20f4"
      },
      "execution_count": null,
      "outputs": [
        {
          "output_type": "stream",
          "name": "stdout",
          "text": [
            "/content/DataBase/SETC/alzeimer_open26.csv  ->  /content/DataBase/SETC/alzeimer_open49.csv\n",
            "/content/DataBase/SETC/alzeimer_open34.csv  ->  /content/DataBase/SETC/alzeimer_open50.csv\n",
            "/content/DataBase/SETC/alzeimer_open12.csv  ->  /content/DataBase/SETC/alzeimer_open51.csv\n",
            "/content/DataBase/SETC/alzeimer_open11.csv  ->  /content/DataBase/SETC/alzeimer_open52.csv\n",
            "/content/DataBase/SETC/alzeimer_open35.csv  ->  /content/DataBase/SETC/alzeimer_open53.csv\n",
            "/content/DataBase/SETC/alzeimer_open31.csv  ->  /content/DataBase/SETC/alzeimer_open54.csv\n",
            "/content/DataBase/SETC/alzeimer_open33.csv  ->  /content/DataBase/SETC/alzeimer_open55.csv\n",
            "/content/DataBase/SETC/alzeimer_open28.csv  ->  /content/DataBase/SETC/alzeimer_open56.csv\n",
            "/content/DataBase/SETC/alzeimer_open32.csv  ->  /content/DataBase/SETC/alzeimer_open57.csv\n",
            "/content/DataBase/SETC/alzeimer_open10.csv  ->  /content/DataBase/SETC/alzeimer_open58.csv\n",
            "/content/DataBase/SETC/alzeimer_open1.csv  ->  /content/DataBase/SETC/alzeimer_open59.csv\n",
            "/content/DataBase/SETC/alzeimer_open8.csv  ->  /content/DataBase/SETC/alzeimer_open60.csv\n",
            "/content/DataBase/SETC/alzeimer_open2.csv  ->  /content/DataBase/SETC/alzeimer_open61.csv\n",
            "/content/DataBase/SETC/alzeimer_open7.csv  ->  /content/DataBase/SETC/alzeimer_open62.csv\n",
            "/content/DataBase/SETC/alzeimer_open30.csv  ->  /content/DataBase/SETC/alzeimer_open63.csv\n",
            "/content/DataBase/SETC/alzeimer_open9.csv  ->  /content/DataBase/SETC/alzeimer_open64.csv\n",
            "/content/DataBase/SETC/alzeimer_open6.csv  ->  /content/DataBase/SETC/alzeimer_open65.csv\n",
            "/content/DataBase/SETC/alzeimer_open29.csv  ->  /content/DataBase/SETC/alzeimer_open66.csv\n",
            "/content/DataBase/SETC/alzeimer_open3.csv  ->  /content/DataBase/SETC/alzeimer_open67.csv\n",
            "/content/DataBase/SETC/alzeimer_open4.csv  ->  /content/DataBase/SETC/alzeimer_open68.csv\n",
            "/content/DataBase/SETC/alzeimer_open25.csv  ->  /content/DataBase/SETC/alzeimer_open69.csv\n",
            "/content/DataBase/SETC/alzeimer_open27.csv  ->  /content/DataBase/SETC/alzeimer_open70.csv\n",
            "/content/DataBase/SETC/alzeimer_open36.csv  ->  /content/DataBase/SETC/alzeimer_open71.csv\n",
            "/content/DataBase/SETC/alzeimer_open5.csv  ->  /content/DataBase/SETC/alzeimer_open72.csv\n"
          ]
        }
      ]
    },
    {
      "cell_type": "code",
      "source": [
        "add_rolling_per_sample(\"/content/DataBase/SETD\",'alzeimer_closed')"
      ],
      "metadata": {
        "colab": {
          "base_uri": "https://localhost:8080/"
        },
        "id": "yiFfvmeYaP1D",
        "outputId": "fa62fc70-16ba-47cd-8006-e25ccefb5116"
      },
      "execution_count": null,
      "outputs": [
        {
          "output_type": "stream",
          "name": "stdout",
          "text": [
            "/content/DataBase/SETD/alzeimer_closed3.csv  ->  /content/DataBase/SETD/alzeimer_closed49.csv\n",
            "/content/DataBase/SETD/alzeimer_closed28.csv  ->  /content/DataBase/SETD/alzeimer_closed50.csv\n",
            "/content/DataBase/SETD/alzeimer_closed7.csv  ->  /content/DataBase/SETD/alzeimer_closed51.csv\n",
            "/content/DataBase/SETD/alzeimer_closed29.csv  ->  /content/DataBase/SETD/alzeimer_closed52.csv\n",
            "/content/DataBase/SETD/alzeimer_closed25.csv  ->  /content/DataBase/SETD/alzeimer_closed53.csv\n",
            "/content/DataBase/SETD/alzeimer_closed36.csv  ->  /content/DataBase/SETD/alzeimer_closed54.csv\n",
            "/content/DataBase/SETD/alzeimer_closed11.csv  ->  /content/DataBase/SETD/alzeimer_closed55.csv\n",
            "/content/DataBase/SETD/alzeimer_closed4.csv  ->  /content/DataBase/SETD/alzeimer_closed56.csv\n",
            "/content/DataBase/SETD/alzeimer_closed12.csv  ->  /content/DataBase/SETD/alzeimer_closed57.csv\n",
            "/content/DataBase/SETD/alzeimer_closed35.csv  ->  /content/DataBase/SETD/alzeimer_closed58.csv\n",
            "/content/DataBase/SETD/alzeimer_closed8.csv  ->  /content/DataBase/SETD/alzeimer_closed59.csv\n",
            "/content/DataBase/SETD/alzeimer_closed27.csv  ->  /content/DataBase/SETD/alzeimer_closed60.csv\n",
            "/content/DataBase/SETD/alzeimer_closed33.csv  ->  /content/DataBase/SETD/alzeimer_closed61.csv\n",
            "/content/DataBase/SETD/alzeimer_closed1.csv  ->  /content/DataBase/SETD/alzeimer_closed62.csv\n",
            "/content/DataBase/SETD/alzeimer_closed9.csv  ->  /content/DataBase/SETD/alzeimer_closed63.csv\n",
            "/content/DataBase/SETD/alzeimer_closed10.csv  ->  /content/DataBase/SETD/alzeimer_closed64.csv\n",
            "/content/DataBase/SETD/alzeimer_closed34.csv  ->  /content/DataBase/SETD/alzeimer_closed65.csv\n",
            "/content/DataBase/SETD/alzeimer_closed6.csv  ->  /content/DataBase/SETD/alzeimer_closed66.csv\n",
            "/content/DataBase/SETD/alzeimer_closed26.csv  ->  /content/DataBase/SETD/alzeimer_closed67.csv\n",
            "/content/DataBase/SETD/alzeimer_closed5.csv  ->  /content/DataBase/SETD/alzeimer_closed68.csv\n",
            "/content/DataBase/SETD/alzeimer_closed31.csv  ->  /content/DataBase/SETD/alzeimer_closed69.csv\n",
            "/content/DataBase/SETD/alzeimer_closed30.csv  ->  /content/DataBase/SETD/alzeimer_closed70.csv\n",
            "/content/DataBase/SETD/alzeimer_closed2.csv  ->  /content/DataBase/SETD/alzeimer_closed71.csv\n",
            "/content/DataBase/SETD/alzeimer_closed32.csv  ->  /content/DataBase/SETD/alzeimer_closed72.csv\n"
          ]
        }
      ]
    },
    {
      "cell_type": "code",
      "source": [
        "shutil.make_archive('Augmented', 'zip','/content/DataBase')"
      ],
      "metadata": {
        "colab": {
          "base_uri": "https://localhost:8080/",
          "height": 36
        },
        "id": "75QzH98waX5j",
        "outputId": "259f6d17-c2bd-4105-d111-1d046115c61a"
      },
      "execution_count": null,
      "outputs": [
        {
          "output_type": "execute_result",
          "data": {
            "text/plain": [
              "'/content/Augmented.zip'"
            ],
            "application/vnd.google.colaboratory.intrinsic+json": {
              "type": "string"
            }
          },
          "metadata": {},
          "execution_count": 221
        }
      ]
    },
    {
      "cell_type": "code",
      "source": [
        "def return_splits():\n",
        "    augmented_files = glob.glob(\"/content/DataBase/*/*\")\n",
        "    train_files = list(set(augmented_files) - set(files))\n",
        "    test_files = files\n",
        "    for i in range(0,len(test_files),12):\n",
        "        train_files += test_files[i:i+4]\n",
        "    test_files = list(set(test_files)-set(train_files))    \n",
        "    return train_files,test_files \n",
        "train,test = return_splits()     "
      ],
      "metadata": {
        "id": "Qo6wV_9d47hP"
      },
      "execution_count": null,
      "outputs": []
    },
    {
      "cell_type": "code",
      "source": [
        "len(train),len(test)"
      ],
      "metadata": {
        "colab": {
          "base_uri": "https://localhost:8080/"
        },
        "id": "wOmP2thbU75u",
        "outputId": "71a2654e-9633-4281-9177-ece17aec0ecb"
      },
      "execution_count": null,
      "outputs": [
        {
          "output_type": "execute_result",
          "data": {
            "text/plain": [
              "(160, 32)"
            ]
          },
          "metadata": {},
          "execution_count": 312
        }
      ]
    },
    {
      "cell_type": "code",
      "source": [
        "def decompose(wave_data):\n",
        "    pca = PCA(n_components=5)\n",
        "    pca.fit(wave_data.T)\n",
        "    pc = pca.components_\n",
        "    wave_data_pca = np.dot(pc, wave_data)\n",
        "    wave_data_pca = wave_data_pca.mean(axis = 0)\n",
        "    return wave_data_pca.tolist()"
      ],
      "metadata": {
        "id": "JqS5M_N9GVqu"
      },
      "execution_count": null,
      "outputs": []
    },
    {
      "cell_type": "code",
      "source": [
        "def handle_nan(df_f):\n",
        "    df = pd.read_csv(df_f)\n",
        "    count = 0\n",
        "    if df.isnull().sum().sum() != 0:\n",
        "        print(df_f,end = \" \")\n",
        "        while df.isnull().sum().sum() != 0:\n",
        "            count = count + 1\n",
        "            df = df.fillna(method = 'ffill')\n",
        "            df = df.fillna(method = 'bfill')\n",
        "        print(\"   \" , count, \"null values found and taken care of\",\"\\n\")    \n",
        "    return df"
      ],
      "metadata": {
        "id": "OYTvMrpbZbpT"
      },
      "execution_count": null,
      "outputs": []
    },
    {
      "cell_type": "code",
      "source": [
        "def create_ds(all_files):\n",
        "    dataset = []\n",
        "    for file in all_files:\n",
        "        df = handle_nan(file)\n",
        "        scaler = StandardScaler()\n",
        "        df = scaler.fit_transform(df)\n",
        "        sample = decompose(df)\n",
        "\n",
        "        if \"closed\" in file:\n",
        "            sample.append(\"closed\")\n",
        "        elif \"open\" in file:\n",
        "            sample.append(\"open\")\n",
        "\n",
        "        if \"healthy\" in file:\n",
        "            sample.append(\"healthy\")\n",
        "        elif \"alzeimer\" in file:\n",
        "            sample.append(\"alzeimer\")\n",
        "\n",
        "        dataset.append(sample)\n",
        "    return pd.DataFrame(dataset)        "
      ],
      "metadata": {
        "id": "Ve4XwCi_V2qg"
      },
      "execution_count": null,
      "outputs": []
    },
    {
      "cell_type": "code",
      "source": [
        "train_df = create_ds(train)"
      ],
      "metadata": {
        "colab": {
          "base_uri": "https://localhost:8080/"
        },
        "id": "lA9UXOyCXGiJ",
        "outputId": "762ea892-ac50-4aeb-fe9b-1708776ceacd"
      },
      "execution_count": null,
      "outputs": [
        {
          "output_type": "stream",
          "name": "stdout",
          "text": [
            "/content/DataBase/SETC/alzeimer_open10.csv     1 null values found and taken care of \n",
            "\n"
          ]
        }
      ]
    },
    {
      "cell_type": "code",
      "source": [
        "train_df.to_csv(\"train.csv\",index= False)"
      ],
      "metadata": {
        "id": "3MzgEBsmets1"
      },
      "execution_count": null,
      "outputs": []
    },
    {
      "cell_type": "code",
      "source": [
        "test_df = create_ds(test)"
      ],
      "metadata": {
        "colab": {
          "base_uri": "https://localhost:8080/"
        },
        "id": "8JnBOM3XjqOx",
        "outputId": "bc598e4a-bf9b-4422-c460-450ccfa720ca"
      },
      "execution_count": null,
      "outputs": [
        {
          "output_type": "stream",
          "name": "stdout",
          "text": [
            "/content/DataBase/SETC/alzeimer_open6.csv     1 null values found and taken care of \n",
            "\n",
            "/content/DataBase/SETC/alzeimer_open8.csv     1 null values found and taken care of \n",
            "\n",
            "/content/DataBase/SETC/alzeimer_open5.csv     1 null values found and taken care of \n",
            "\n"
          ]
        }
      ]
    },
    {
      "cell_type": "code",
      "source": [
        "test_df.to_csv(\"test.csv\",index= False)"
      ],
      "metadata": {
        "id": "Ys9-diyBktaP"
      },
      "execution_count": null,
      "outputs": []
    }
  ]
}