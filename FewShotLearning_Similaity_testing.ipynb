{
  "nbformat": 4,
  "nbformat_minor": 0,
  "metadata": {
    "colab": {
      "provenance": [],
      "gpuType": "T4",
      "include_colab_link": true
    },
    "kernelspec": {
      "name": "python3",
      "display_name": "Python 3"
    },
    "language_info": {
      "name": "python"
    },
    "accelerator": "GPU"
  },
  "cells": [
    {
      "cell_type": "markdown",
      "metadata": {
        "id": "view-in-github",
        "colab_type": "text"
      },
      "source": [
        "<a href=\"https://colab.research.google.com/github/NITHISHM2410/Alzheimers-Detection-and-Classification/blob/main/FewShotLearning_Similaity_testing.ipynb\" target=\"_parent\"><img src=\"https://colab.research.google.com/assets/colab-badge.svg\" alt=\"Open In Colab\"/></a>"
      ]
    },
    {
      "cell_type": "code",
      "execution_count": 1,
      "metadata": {
        "id": "GT1IKxWs7J_9",
        "colab": {
          "base_uri": "https://localhost:8080/"
        },
        "outputId": "07aeba65-3ed4-45cb-c9c4-ae722f5d87cb"
      },
      "outputs": [
        {
          "output_type": "stream",
          "name": "stdout",
          "text": [
            "Looking in indexes: https://pypi.org/simple, https://us-python.pkg.dev/colab-wheels/public/simple/\n",
            "Collecting tensorflow_addons\n",
            "  Downloading tensorflow_addons-0.20.0-cp310-cp310-manylinux_2_17_x86_64.manylinux2014_x86_64.whl (591 kB)\n",
            "\u001b[2K     \u001b[90m━━━━━━━━━━━━━━━━━━━━━━━━━━━━━━━━━━━━━━\u001b[0m \u001b[32m591.0/591.0 kB\u001b[0m \u001b[31m19.3 MB/s\u001b[0m eta \u001b[36m0:00:00\u001b[0m\n",
            "\u001b[?25hRequirement already satisfied: packaging in /usr/local/lib/python3.10/dist-packages (from tensorflow_addons) (23.1)\n",
            "Collecting typeguard<3.0.0,>=2.7 (from tensorflow_addons)\n",
            "  Downloading typeguard-2.13.3-py3-none-any.whl (17 kB)\n",
            "Installing collected packages: typeguard, tensorflow_addons\n",
            "Successfully installed tensorflow_addons-0.20.0 typeguard-2.13.3\n"
          ]
        },
        {
          "output_type": "stream",
          "name": "stderr",
          "text": [
            "/usr/local/lib/python3.10/dist-packages/tensorflow_addons/utils/tfa_eol_msg.py:23: UserWarning: \n",
            "\n",
            "TensorFlow Addons (TFA) has ended development and introduction of new features.\n",
            "TFA has entered a minimal maintenance and release mode until a planned end of life in May 2024.\n",
            "Please modify downstream libraries to take dependencies from other repositories in our TensorFlow community (e.g. Keras, Keras-CV, and Keras-NLP). \n",
            "\n",
            "For more information see: https://github.com/tensorflow/addons/issues/2807 \n",
            "\n",
            "  warnings.warn(\n"
          ]
        }
      ],
      "source": [
        "import numpy as np\n",
        "import glob\n",
        "import re\n",
        "import shutil\n",
        "import random\n",
        "import itertools\n",
        "import pandas as pd\n",
        "import tensorflow as tf\n",
        "import matplotlib.pyplot as plt\n",
        "!pip install tensorflow_addons\n",
        "import tensorflow_addons as tfa"
      ]
    },
    {
      "cell_type": "code",
      "source": [
        "from google.colab import drive\n",
        "drive.mount('/content/drive')"
      ],
      "metadata": {
        "colab": {
          "base_uri": "https://localhost:8080/"
        },
        "id": "wcYu0JkZ-nHS",
        "outputId": "632f815b-8578-4c43-8823-06a8283342fb"
      },
      "execution_count": 2,
      "outputs": [
        {
          "output_type": "stream",
          "name": "stdout",
          "text": [
            "Mounted at /content/drive\n"
          ]
        }
      ]
    },
    {
      "cell_type": "code",
      "source": [
        "!unzip \"/content/drive/MyDrive/weights/best_weights_till_now.zip\" -d \"/content/weights/\""
      ],
      "metadata": {
        "colab": {
          "base_uri": "https://localhost:8080/"
        },
        "id": "rqcV13NUTxV6",
        "outputId": "f0bd4a45-ca44-44b5-ab3c-e169ca5ca582"
      },
      "execution_count": 3,
      "outputs": [
        {
          "output_type": "stream",
          "name": "stdout",
          "text": [
            "Archive:  /content/drive/MyDrive/weights/best_weights_till_now.zip\n",
            "  inflating: /content/weights/best_till_now.index  \n",
            "  inflating: /content/weights/best_till_now.data-00000-of-00001  \n",
            "  inflating: /content/weights/checkpoint  \n"
          ]
        }
      ]
    },
    {
      "cell_type": "markdown",
      "source": [
        "LOAD THE MODEL"
      ],
      "metadata": {
        "id": "L1N4g41X4SfK"
      }
    },
    {
      "cell_type": "code",
      "source": [
        "batch_size = 32\n",
        "\n",
        "class SQD(tf.keras.layers.Layer):\n",
        "    def __init__(self):\n",
        "        super(SQD, self).__init__()\n",
        "    def call(self, inputs):\n",
        "        x, y = inputs\n",
        "        diff = tf.subtract(x, y)\n",
        "        return tf.square(diff)\n",
        "\n",
        "def wave_downsample():\n",
        "    input = tf.keras.Input(batch_size = batch_size,shape = (1024,19))\n",
        "    output = tf.keras.layers.LSTM(10,return_sequences = True)(input)\n",
        "    output = tf.keras.layers.Dense(2)(output)\n",
        "    output = tf.keras.layers.Flatten()(output)\n",
        "    output = tf.keras.layers.Activation('relu')(output)\n",
        "    output = tf.keras.layers.Dropout(0.3)(output)\n",
        "    output = tf.keras.layers.Dense(20)(output)\n",
        "    output = tf.keras.layers.Dropout(0.1)(output)\n",
        "    model = tf.keras.Model(inputs = [input],outputs = [output])\n",
        "    return model\n",
        "     \n",
        "def get_model():\n",
        "    wave1 = tf.keras.Input(batch_size = batch_size,shape = (1024,19),name = 'wave1')\n",
        "    wave2 = tf.keras.Input(batch_size = batch_size,shape = (1024,19),name = 'wave2')\n",
        "    state = tf.keras.Input(batch_size = batch_size,shape = (2,),name = 'state')\n",
        "    \n",
        "    output1 = tf.keras.layers.BatchNormalization()(wave1)\n",
        "    output2 = tf.keras.layers.BatchNormalization()(wave2)\n",
        "\n",
        "    down_sampler = wave_downsample()\n",
        "    output1 = down_sampler(output1)\n",
        "    output2 = down_sampler(output2)\n",
        "\n",
        "    output1 = tf.keras.layers.Activation('tanh')(output1)\n",
        "    output1 = tf.keras.layers.Dropout(0.3)(output1)\n",
        "\n",
        "    output2 = tf.keras.layers.Activation('tanh')(output2)\n",
        "    output2 = tf.keras.layers.Dropout(0.3)(output2)\n",
        "\n",
        "    output = SQD()([output1,output2])\n",
        "    output = tf.keras.layers.concatenate([output,state])\n",
        "    output = tf.keras.layers.Dense(10)(output)\n",
        "    output = tf.keras.layers.Dropout(0.2)(output)\n",
        "    output = tf.keras.layers.Dense(1,activation = 'sigmoid',name = 'difference' )(output)\n",
        "    \n",
        "    model = tf.keras.Model(inputs = [wave1,wave2,state],outputs = [output],name = 'FewShot')\n",
        "    return model\n",
        "\n",
        "model = get_model()\n",
        "model.compile(optimizer = tf.keras.optimizers.Adam(learning_rate = 0.000001),\n",
        "              loss = 'binary_crossentropy',\n",
        "              metrics = [tf.keras.metrics.BinaryAccuracy(threshold=0.8),\n",
        "                         tfa.metrics.F1Score(num_classes=1,threshold = 0.8)])"
      ],
      "metadata": {
        "id": "pKKCNOSX-tyX"
      },
      "execution_count": 4,
      "outputs": []
    },
    {
      "cell_type": "code",
      "source": [
        "model.load_weights(\"/content/weights/best_till_now\")"
      ],
      "metadata": {
        "colab": {
          "base_uri": "https://localhost:8080/"
        },
        "id": "ceTMuW-ndcco",
        "outputId": "9b8055c0-b7e9-47cb-e7b1-497eef24d4a4"
      },
      "execution_count": 5,
      "outputs": [
        {
          "output_type": "execute_result",
          "data": {
            "text/plain": [
              "<tensorflow.python.checkpoint.checkpoint.CheckpointLoadStatus at 0x7f97a8263a90>"
            ]
          },
          "metadata": {},
          "execution_count": 5
        }
      ]
    },
    {
      "cell_type": "markdown",
      "source": [
        "Cleaning data for testing"
      ],
      "metadata": {
        "id": "eBZZdCOzPfS7"
      }
    },
    {
      "cell_type": "code",
      "source": [
        "!unzip \"/content/drive/MyDrive/FewShot/FINAL_DATASET.zip\""
      ],
      "metadata": {
        "id": "-_w4VrxkPe8g",
        "colab": {
          "base_uri": "https://localhost:8080/"
        },
        "outputId": "df7c8414-bcf5-4e6d-9c3e-ac66b040ae15"
      },
      "execution_count": 6,
      "outputs": [
        {
          "output_type": "stream",
          "name": "stdout",
          "text": [
            "Archive:  /content/drive/MyDrive/FewShot/FINAL_DATASET.zip\n",
            "   creating: Dataset/SETA/\n",
            "  inflating: Dataset/SETA/healthy_open1.csv  \n",
            "  inflating: Dataset/SETA/healthy_open10.csv  \n",
            "  inflating: Dataset/SETA/healthy_open11.csv  \n",
            "  inflating: Dataset/SETA/healthy_open12.csv  \n",
            "  inflating: Dataset/SETA/healthy_open2.csv  \n",
            "  inflating: Dataset/SETA/healthy_open3.csv  \n",
            "  inflating: Dataset/SETA/healthy_open4.csv  \n",
            "  inflating: Dataset/SETA/healthy_open5.csv  \n",
            "  inflating: Dataset/SETA/healthy_open6.csv  \n",
            "  inflating: Dataset/SETA/healthy_open7.csv  \n",
            "  inflating: Dataset/SETA/healthy_open8.csv  \n",
            "  inflating: Dataset/SETA/healthy_open9.csv  \n",
            "   creating: Dataset/SETB/\n",
            "  inflating: Dataset/SETB/healthy_closed1.csv  \n",
            "  inflating: Dataset/SETB/healthy_closed10.csv  \n",
            "  inflating: Dataset/SETB/healthy_closed11.csv  \n",
            "  inflating: Dataset/SETB/healthy_closed12.csv  \n",
            "  inflating: Dataset/SETB/healthy_closed2.csv  \n",
            "  inflating: Dataset/SETB/healthy_closed3.csv  \n",
            "  inflating: Dataset/SETB/healthy_closed4.csv  \n",
            "  inflating: Dataset/SETB/healthy_closed5.csv  \n",
            "  inflating: Dataset/SETB/healthy_closed6.csv  \n",
            "  inflating: Dataset/SETB/healthy_closed7.csv  \n",
            "  inflating: Dataset/SETB/healthy_closed8.csv  \n",
            "  inflating: Dataset/SETB/healthy_closed9.csv  \n",
            "   creating: Dataset/SETC/\n",
            "  inflating: Dataset/SETC/alzeimer_open1.csv  \n",
            "  inflating: Dataset/SETC/alzeimer_open10.csv  \n",
            "  inflating: Dataset/SETC/alzeimer_open11.csv  \n",
            "  inflating: Dataset/SETC/alzeimer_open12.csv  \n",
            "  inflating: Dataset/SETC/alzeimer_open2.csv  \n",
            "  inflating: Dataset/SETC/alzeimer_open3.csv  \n",
            "  inflating: Dataset/SETC/alzeimer_open4.csv  \n",
            "  inflating: Dataset/SETC/alzeimer_open5.csv  \n",
            "  inflating: Dataset/SETC/alzeimer_open6.csv  \n",
            "  inflating: Dataset/SETC/alzeimer_open7.csv  \n",
            "  inflating: Dataset/SETC/alzeimer_open8.csv  \n",
            "  inflating: Dataset/SETC/alzeimer_open9.csv  \n",
            "   creating: Dataset/SETD/\n",
            "  inflating: Dataset/SETD/alzeimer_closed1.csv  \n",
            "  inflating: Dataset/SETD/alzeimer_closed10.csv  \n",
            "  inflating: Dataset/SETD/alzeimer_closed11.csv  \n",
            "  inflating: Dataset/SETD/alzeimer_closed12.csv  \n",
            "  inflating: Dataset/SETD/alzeimer_closed2.csv  \n",
            "  inflating: Dataset/SETD/alzeimer_closed3.csv  \n",
            "  inflating: Dataset/SETD/alzeimer_closed4.csv  \n",
            "  inflating: Dataset/SETD/alzeimer_closed5.csv  \n",
            "  inflating: Dataset/SETD/alzeimer_closed6.csv  \n",
            "  inflating: Dataset/SETD/alzeimer_closed7.csv  \n",
            "  inflating: Dataset/SETD/alzeimer_closed8.csv  \n",
            "  inflating: Dataset/SETD/alzeimer_closed9.csv  \n"
          ]
        }
      ]
    },
    {
      "cell_type": "code",
      "source": [
        "files = glob.glob(\"/content/Dataset/*/*\")\n",
        "files"
      ],
      "metadata": {
        "id": "chP1TpWFPoVl",
        "colab": {
          "base_uri": "https://localhost:8080/"
        },
        "outputId": "5b4f4852-13d2-4cda-c99d-e628a910a172"
      },
      "execution_count": 7,
      "outputs": [
        {
          "output_type": "execute_result",
          "data": {
            "text/plain": [
              "['/content/Dataset/SETB/healthy_closed1.csv',\n",
              " '/content/Dataset/SETB/healthy_closed4.csv',\n",
              " '/content/Dataset/SETB/healthy_closed9.csv',\n",
              " '/content/Dataset/SETB/healthy_closed5.csv',\n",
              " '/content/Dataset/SETB/healthy_closed12.csv',\n",
              " '/content/Dataset/SETB/healthy_closed2.csv',\n",
              " '/content/Dataset/SETB/healthy_closed11.csv',\n",
              " '/content/Dataset/SETB/healthy_closed8.csv',\n",
              " '/content/Dataset/SETB/healthy_closed6.csv',\n",
              " '/content/Dataset/SETB/healthy_closed10.csv',\n",
              " '/content/Dataset/SETB/healthy_closed3.csv',\n",
              " '/content/Dataset/SETB/healthy_closed7.csv',\n",
              " '/content/Dataset/SETD/alzeimer_closed1.csv',\n",
              " '/content/Dataset/SETD/alzeimer_closed12.csv',\n",
              " '/content/Dataset/SETD/alzeimer_closed8.csv',\n",
              " '/content/Dataset/SETD/alzeimer_closed4.csv',\n",
              " '/content/Dataset/SETD/alzeimer_closed9.csv',\n",
              " '/content/Dataset/SETD/alzeimer_closed6.csv',\n",
              " '/content/Dataset/SETD/alzeimer_closed7.csv',\n",
              " '/content/Dataset/SETD/alzeimer_closed3.csv',\n",
              " '/content/Dataset/SETD/alzeimer_closed2.csv',\n",
              " '/content/Dataset/SETD/alzeimer_closed11.csv',\n",
              " '/content/Dataset/SETD/alzeimer_closed10.csv',\n",
              " '/content/Dataset/SETD/alzeimer_closed5.csv',\n",
              " '/content/Dataset/SETA/healthy_open1.csv',\n",
              " '/content/Dataset/SETA/healthy_open6.csv',\n",
              " '/content/Dataset/SETA/healthy_open2.csv',\n",
              " '/content/Dataset/SETA/healthy_open5.csv',\n",
              " '/content/Dataset/SETA/healthy_open7.csv',\n",
              " '/content/Dataset/SETA/healthy_open11.csv',\n",
              " '/content/Dataset/SETA/healthy_open12.csv',\n",
              " '/content/Dataset/SETA/healthy_open3.csv',\n",
              " '/content/Dataset/SETA/healthy_open8.csv',\n",
              " '/content/Dataset/SETA/healthy_open10.csv',\n",
              " '/content/Dataset/SETA/healthy_open4.csv',\n",
              " '/content/Dataset/SETA/healthy_open9.csv',\n",
              " '/content/Dataset/SETC/alzeimer_open2.csv',\n",
              " '/content/Dataset/SETC/alzeimer_open1.csv',\n",
              " '/content/Dataset/SETC/alzeimer_open10.csv',\n",
              " '/content/Dataset/SETC/alzeimer_open9.csv',\n",
              " '/content/Dataset/SETC/alzeimer_open7.csv',\n",
              " '/content/Dataset/SETC/alzeimer_open3.csv',\n",
              " '/content/Dataset/SETC/alzeimer_open8.csv',\n",
              " '/content/Dataset/SETC/alzeimer_open12.csv',\n",
              " '/content/Dataset/SETC/alzeimer_open6.csv',\n",
              " '/content/Dataset/SETC/alzeimer_open11.csv',\n",
              " '/content/Dataset/SETC/alzeimer_open5.csv',\n",
              " '/content/Dataset/SETC/alzeimer_open4.csv']"
            ]
          },
          "metadata": {},
          "execution_count": 7
        }
      ]
    },
    {
      "cell_type": "code",
      "source": [
        "def clean(path):\n",
        "    df = pd.read_csv(path)\n",
        "    \n",
        "    for column in df.columns:\n",
        "        if df[column].dtype == 'object':\n",
        "            print(\"Sample : \",path,\" feature : \",column,\" is uncleaned\")\n",
        "            df[column] = pd.to_numeric(df[column], errors='coerce')\n",
        "            df[column] = df[column].fillna(method='ffill')\n",
        "            df[column] = df[column].fillna(method='bfill')\n",
        "    df = df.iloc[:1024,:]\n",
        "\n",
        "    while df.isnull().sum().values.sum() != 0:\n",
        "        print(\"Sample : \",path,\"getting cleaned\")\n",
        "        df = df.fillna(method = 'ffill')\n",
        "        df = df.fillna(method = 'bfill')\n",
        "    df.to_csv(path, index=False)\n",
        "     \n",
        "for i in files:\n",
        "    clean(i)"
      ],
      "metadata": {
        "colab": {
          "base_uri": "https://localhost:8080/"
        },
        "id": "VO4V5cPYPMrD",
        "outputId": "ea92c14a-c905-4504-a1d1-bc708990f560"
      },
      "execution_count": 8,
      "outputs": [
        {
          "output_type": "stream",
          "name": "stdout",
          "text": [
            "Sample :  /content/Dataset/SETB/healthy_closed2.csv  feature :  16  is uncleaned\n",
            "Sample :  /content/Dataset/SETB/healthy_closed6.csv  feature :  14  is uncleaned\n",
            "Sample :  /content/Dataset/SETD/alzeimer_closed12.csv  feature :  18  is uncleaned\n",
            "Sample :  /content/Dataset/SETA/healthy_open2.csv  feature :  16  is uncleaned\n",
            "Sample :  /content/Dataset/SETA/healthy_open11.csv  feature :  14  is uncleaned\n",
            "Sample :  /content/Dataset/SETC/alzeimer_open10.csv  feature :  0  is uncleaned\n",
            "Sample :  /content/Dataset/SETC/alzeimer_open10.csv getting cleaned\n",
            "Sample :  /content/Dataset/SETC/alzeimer_open8.csv  feature :  0  is uncleaned\n",
            "Sample :  /content/Dataset/SETC/alzeimer_open8.csv getting cleaned\n",
            "Sample :  /content/Dataset/SETC/alzeimer_open6.csv  feature :  0  is uncleaned\n",
            "Sample :  /content/Dataset/SETC/alzeimer_open6.csv getting cleaned\n",
            "Sample :  /content/Dataset/SETC/alzeimer_open5.csv  feature :  0  is uncleaned\n",
            "Sample :  /content/Dataset/SETC/alzeimer_open5.csv getting cleaned\n"
          ]
        }
      ]
    },
    {
      "cell_type": "markdown",
      "source": [
        "***TESTING TECHNIQUE*** :  There will be a query sample of UNKNOWN CLASS which the model need to predict as Healthy sample or Alzheimer sample. The query sample will be compared against stored reference samples of healthy and Alzheimer samples with the Similarity Few Shot NN trained. The intended results are: \n",
        "\n",
        "\n",
        "*   Query Sample belongs to 'Alzheimer' class if Disimilarity score between query sample and Alzheimer reference samples are closer to zero.\n",
        "*   Query Sample belongs to 'Healthy' class if Dissimilarity score between query sample and healthy reference samples are closer to zero.\n",
        "\n"
      ],
      "metadata": {
        "id": "Pzw50N-MQAE5"
      }
    },
    {
      "cell_type": "markdown",
      "source": [
        "Unseen samples will be used to test the similarity. The below samples weren't included in train data as well as the validated data"
      ],
      "metadata": {
        "id": "adbsgU8PHH9c"
      }
    },
    {
      "cell_type": "code",
      "source": [
        "reference = [] # For Comparing Against\n",
        "query = [] # Query Samples which are to be detected\n",
        "\n",
        "unseen_files = ['/content/Dataset/SETC/alzeimer_open7.csv',\n",
        " '/content/Dataset/SETC/alzeimer_open12.csv',\n",
        " '/content/Dataset/SETC/alzeimer_open2.csv',\n",
        " '/content/Dataset/SETD/alzeimer_closed7.csv',\n",
        " '/content/Dataset/SETD/alzeimer_closed10.csv',\n",
        " '/content/Dataset/SETD/alzeimer_closed9.csv',\n",
        " '/content/Dataset/SETA/healthy_open5.csv',\n",
        " '/content/Dataset/SETA/healthy_open4.csv',\n",
        " '/content/Dataset/SETA/healthy_open9.csv',\n",
        " '/content/Dataset/SETB/healthy_closed8.csv',\n",
        " '/content/Dataset/SETB/healthy_closed7.csv',\n",
        " '/content/Dataset/SETB/healthy_closed3.csv']\n",
        "\n",
        "for i in range(0,12,3):\n",
        "    reference += unseen_files[i+1:i+3]\n",
        "    query.append(unseen_files[i])"
      ],
      "metadata": {
        "id": "esHo3_AMF4q6"
      },
      "execution_count": 9,
      "outputs": []
    },
    {
      "cell_type": "code",
      "source": [
        "healthy = []\n",
        "alz = []\n",
        "for afile in reference:\n",
        "    if \"healthy\" in afile:\n",
        "        healthy.append(afile)\n",
        "    elif \"alzeimer\" in afile:\n",
        "        alz.append(afile)    "
      ],
      "metadata": {
        "id": "GVYiYBD6SsXm"
      },
      "execution_count": 10,
      "outputs": []
    },
    {
      "cell_type": "markdown",
      "source": [
        "Query Samples for testing"
      ],
      "metadata": {
        "id": "q3pRsFrSShRS"
      }
    },
    {
      "cell_type": "code",
      "source": [
        "query"
      ],
      "metadata": {
        "colab": {
          "base_uri": "https://localhost:8080/"
        },
        "id": "3nrPTioxSLLZ",
        "outputId": "a0697467-8b21-4ac8-a349-044f7089dffc"
      },
      "execution_count": 11,
      "outputs": [
        {
          "output_type": "execute_result",
          "data": {
            "text/plain": [
              "['/content/Dataset/SETC/alzeimer_open7.csv',\n",
              " '/content/Dataset/SETD/alzeimer_closed7.csv',\n",
              " '/content/Dataset/SETA/healthy_open5.csv',\n",
              " '/content/Dataset/SETB/healthy_closed8.csv']"
            ]
          },
          "metadata": {},
          "execution_count": 11
        }
      ]
    },
    {
      "cell_type": "markdown",
      "source": [
        "Reference Samples :"
      ],
      "metadata": {
        "id": "QyOAH1iHGjxN"
      }
    },
    {
      "cell_type": "code",
      "source": [
        "healthy,alz"
      ],
      "metadata": {
        "id": "T1I6fssfGhYS",
        "outputId": "3148bfc7-f00e-4af5-d7eb-60893a562ec8",
        "colab": {
          "base_uri": "https://localhost:8080/"
        }
      },
      "execution_count": 12,
      "outputs": [
        {
          "output_type": "execute_result",
          "data": {
            "text/plain": [
              "(['/content/Dataset/SETA/healthy_open4.csv',\n",
              "  '/content/Dataset/SETA/healthy_open9.csv',\n",
              "  '/content/Dataset/SETB/healthy_closed7.csv',\n",
              "  '/content/Dataset/SETB/healthy_closed3.csv'],\n",
              " ['/content/Dataset/SETC/alzeimer_open12.csv',\n",
              "  '/content/Dataset/SETC/alzeimer_open2.csv',\n",
              "  '/content/Dataset/SETD/alzeimer_closed10.csv',\n",
              "  '/content/Dataset/SETD/alzeimer_closed9.csv'])"
            ]
          },
          "metadata": {},
          "execution_count": 12
        }
      ]
    },
    {
      "cell_type": "markdown",
      "source": [
        "Reading a sample"
      ],
      "metadata": {
        "id": "ew26guUUdhwg"
      }
    },
    {
      "cell_type": "code",
      "source": [
        "def to_numeric(csv):\n",
        "    data = pd.read_csv(csv).values\n",
        "    return data\n",
        "\n",
        "def pair_up(x1,x2):\n",
        "        sample = [x1,x2]\n",
        "        if \"closed\" in x1:\n",
        "            sample.append(0)\n",
        "        elif \"open\" in x1:\n",
        "            sample.append(1) \n",
        "        if \"closed\" in x2:\n",
        "            sample.append(0)\n",
        "        elif \"open\" in x2:\n",
        "            sample.append(1)     \n",
        "\n",
        "        sample[0] = to_numeric(x1)\n",
        "        sample[1] = to_numeric(x2)\n",
        "\n",
        "        return sample "
      ],
      "metadata": {
        "id": "6Se4uU1ZTeun"
      },
      "execution_count": 13,
      "outputs": []
    },
    {
      "cell_type": "markdown",
      "source": [
        "Getting Sample ready for Model Input"
      ],
      "metadata": {
        "id": "TziQRAFpdk_y"
      }
    },
    {
      "cell_type": "code",
      "source": [
        "def as_input(sample):\n",
        "    input = dict()\n",
        "    input['wave1'] = tf.cast(tf.expand_dims(sample[0],0),dtype = tf.float32)\n",
        "    input['wave2'] = tf.cast(tf.expand_dims(sample[1],0),dtype = tf.float32)\n",
        "    input['state'] = tf.cast(tf.expand_dims([sample[2],sample[3]],0),dtype = tf.float32)\n",
        "    return input"
      ],
      "metadata": {
        "id": "F-rkGk7gWURy"
      },
      "execution_count": 14,
      "outputs": []
    },
    {
      "cell_type": "markdown",
      "source": [
        "# TESTING "
      ],
      "metadata": {
        "id": "PCcddBghdrOJ"
      }
    },
    {
      "cell_type": "code",
      "source": [
        "def get_scores(afile):\n",
        "    print(\"Query Sample :\",afile)\n",
        "\n",
        "    healthy_scores = []\n",
        "    alz_scores = []\n",
        "\n",
        "    reference_tests = 4 #No of times to compare \n",
        "    \n",
        "    for ref in alz[:reference_tests]:\n",
        "        pair = pair_up(afile,ref)\n",
        "        pair = as_input(pair)\n",
        "        output = np.squeeze(model(pair)).tolist()\n",
        "        alz_scores.append(output)\n",
        "        \n",
        "    for ref in healthy[:reference_tests]:\n",
        "        pair = pair_up(afile,ref)\n",
        "        pair = as_input(pair)\n",
        "        output = np.squeeze(model(pair)).tolist()\n",
        "        healthy_scores.append(output)\n",
        "\n",
        "    a_avg,h_avg = sum(alz_scores)/reference_tests,sum(healthy_scores)/reference_tests\n",
        "    print(\"Dissimilarity Scores Query vs healthy: \",healthy_scores,\" Avg :\",h_avg)\n",
        "    print(\"Dissimilarity Scores Query vs alzheimer: \",alz_scores,\" Avg :\",a_avg)\n",
        "\n",
        "    if a_avg > h_avg:\n",
        "        print(\"Query Sample Class Predicted : Healthy Sample\")\n",
        "    else:\n",
        "        print(\"Query Sample Class Predicted : Alzheimer Sample\")    "
      ],
      "metadata": {
        "id": "jdUcFcQzSmjV"
      },
      "execution_count": 15,
      "outputs": []
    },
    {
      "cell_type": "code",
      "source": [
        "for que in query:\n",
        "    print(\"-----------------------------------------------------------------\")\n",
        "    get_scores(que)"
      ],
      "metadata": {
        "colab": {
          "base_uri": "https://localhost:8080/"
        },
        "id": "4NxRHnKjbjkN",
        "outputId": "5884def6-1acb-49fa-a30e-1d39b3565b12"
      },
      "execution_count": 16,
      "outputs": [
        {
          "output_type": "stream",
          "name": "stdout",
          "text": [
            "-----------------------------------------------------------------\n",
            "Query Sample : /content/Dataset/SETC/alzeimer_open7.csv\n",
            "Dissimilarity Scores Query vs healthy:  [0.9986218214035034, 0.9982118606567383, 0.991463840007782, 0.9995662569999695]  Avg : 0.9969659447669983\n",
            "Dissimilarity Scores Query vs alzheimer:  [0.019527003169059753, 0.020999472588300705, 0.027043895795941353, 0.02164612151682377]  Avg : 0.022304123267531395\n",
            "Query Sample Class Predicted : Alzheimer Sample\n",
            "-----------------------------------------------------------------\n",
            "Query Sample : /content/Dataset/SETD/alzeimer_closed7.csv\n",
            "Dissimilarity Scores Query vs healthy:  [0.9999897480010986, 0.9999876022338867, 0.9999951124191284, 0.9999914169311523]  Avg : 0.9999909698963165\n",
            "Dissimilarity Scores Query vs alzheimer:  [0.003701833775267005, 0.001822922844439745, 0.0013239659601822495, 0.002049605129286647]  Avg : 0.0022245819272939116\n",
            "Query Sample Class Predicted : Alzheimer Sample\n",
            "-----------------------------------------------------------------\n",
            "Query Sample : /content/Dataset/SETA/healthy_open5.csv\n",
            "Dissimilarity Scores Query vs healthy:  [0.0018034745007753372, 0.012321758083999157, 7.347115752054378e-05, 0.012111791409552097]  Avg : 0.006577623787961784\n",
            "Dissimilarity Scores Query vs alzheimer:  [0.9999827146530151, 0.9999978542327881, 0.9999990463256836, 0.9999990463256836]  Avg : 0.9999946653842926\n",
            "Query Sample Class Predicted : Healthy Sample\n",
            "-----------------------------------------------------------------\n",
            "Query Sample : /content/Dataset/SETB/healthy_closed8.csv\n",
            "Dissimilarity Scores Query vs healthy:  [0.04675447195768356, 0.0006968433735892177, 0.002632724354043603, 0.03488811105489731]  Avg : 0.021243037685053423\n",
            "Dissimilarity Scores Query vs alzheimer:  [0.9999520778656006, 0.9999990463256836, 0.9999973773956299, 0.999994158744812]  Avg : 0.9999856650829315\n",
            "Query Sample Class Predicted : Healthy Sample\n"
          ]
        }
      ]
    },
    {
      "cell_type": "markdown",
      "source": [
        "IN THE ABOVE RESULTS:\n",
        "\n",
        "*   Dissimilarity Scores Query vs healthy : Dissimilarity scores when query is compared with reference samples of class 'healthy'.\n",
        "*   Dissimilarity Scores Query vs alzheimer : Dissimilarity scores when query is compared with reference samples of class 'alzheimer'.\n",
        "\n",
        "FROM THE ABOVE RESULTS,THE DISSIMILARITY SCORE IS LESS WHEN QUERY AND REFERNCE SAMPLE BELONGS TO THE SAME CLASS AND DISSIMILARITY SCORE IS HIGH WHEN QUERY AND REFERENCE SAMPLES AREN'T FROM THE SAME CLASS,SO **THE TRAINED MODEL IS ABLE TO ACCURATELY CAPTURE AND PREDICT THESE DETAILS.**"
      ],
      "metadata": {
        "id": "lK7eS06HZjQ7"
      }
    },
    {
      "cell_type": "markdown",
      "source": [
        "# ESTIMATING MODEL'S CONFIDENCE"
      ],
      "metadata": {
        "id": "KqihHw7g1htS"
      }
    },
    {
      "cell_type": "markdown",
      "source": [
        "Based on above results,the model can find the similarity score accurately but confidence score must also be estimated.\n",
        "\n",
        "To estimate the confidence of the models predictions, monte carlo dropout technqiue is used where dropout is enabled during testing multliple forward passes is made for an input and if the outputs of multiple forward passes are similar or **if their variance is less** then the confidence is said to be high.\n",
        "\n"
      ],
      "metadata": {
        "id": "T7qa3G1_IC3G"
      }
    },
    {
      "cell_type": "markdown",
      "source": [
        "Example Query Sample: /content/Dataset/SETA/healthy_open5.csv\n",
        "\n",
        "Example Reference Samples : \n",
        "\n",
        "1.) /content/Dataset/SETA/healthy_open4.csv\n",
        "\n",
        "2.) /content/Dataset/SETC/alzeimer_open2.csv"
      ],
      "metadata": {
        "id": "sUtE6lLLJPlR"
      }
    },
    {
      "cell_type": "code",
      "source": [
        "query_sample = \"/content/Dataset/SETA/healthy_open5.csv\"\n",
        "ref_samples = [\n",
        "    \"/content/Dataset/SETA/healthy_open4.csv\",\n",
        "    \"/content/Dataset/SETC/alzeimer_open2.csv\"\n",
        "]\n",
        "        "
      ],
      "metadata": {
        "id": "YxWaGVlw1mWv"
      },
      "execution_count": 24,
      "outputs": []
    },
    {
      "cell_type": "code",
      "source": [
        "t = 20 # no of forward passes"
      ],
      "metadata": {
        "id": "Vj-uQGfGVKY1"
      },
      "execution_count": 25,
      "outputs": []
    },
    {
      "cell_type": "code",
      "source": [
        "def get_passes(q,r,t):\n",
        "    outputs = []\n",
        "    pair = pair_up(q,r)\n",
        "    pair = as_input(pair)\n",
        "    for t in range(0,t):\n",
        "        outputs.append(np.squeeze(model(pair,training = True)).tolist())    \n",
        "    return outputs,np.var(outputs)"
      ],
      "metadata": {
        "id": "XsJMoMaFKEqK"
      },
      "execution_count": 26,
      "outputs": []
    },
    {
      "cell_type": "code",
      "source": [
        "res1,var1 = get_passes(query_sample,ref_samples[0],t)\n",
        "res2,var2 = get_passes(query_sample,ref_samples[1],t)"
      ],
      "metadata": {
        "id": "PirbZb-uLnfj"
      },
      "execution_count": 27,
      "outputs": []
    },
    {
      "cell_type": "code",
      "source": [
        "plt.bar(x = [i for i in range(1,t+1)],height = res1,)\n",
        "plt.xlabel(\"Forward Pass\")\n",
        "plt.xticks([i for i in range(1,t+1)])\n",
        "plt.ylim(0,1)\n",
        "plt.ylabel(\"Output\")\n",
        "plt.show()"
      ],
      "metadata": {
        "colab": {
          "base_uri": "https://localhost:8080/",
          "height": 455
        },
        "id": "D9eB4DsFNKev",
        "outputId": "7e29a372-ebfb-407f-97f0-0ca9e6f82617"
      },
      "execution_count": 28,
      "outputs": [
        {
          "output_type": "display_data",
          "data": {
            "text/plain": [
              "<Figure size 640x480 with 1 Axes>"
            ],
            "image/png": "[encoded data removed]"
          },
          "metadata": {}
        }
      ]
    },
    {
      "cell_type": "code",
      "source": [
        "plt.bar(x = [i for i in range(1,t+1)],height = res2)\n",
        "plt.xlabel(\"Forward Pass\")\n",
        "plt.ylabel(\"Output\")\n",
        "plt.xticks([i for i in range(1,t+1)])\n",
        "plt.ylim(0,1)\n",
        "plt.show()"
      ],
      "metadata": {
        "colab": {
          "base_uri": "https://localhost:8080/",
          "height": 455
        },
        "id": "uG4eeVWrPD-R",
        "outputId": "66887889-1d86-4ee5-98d5-7da6101d5b52"
      },
      "execution_count": 29,
      "outputs": [
        {
          "output_type": "display_data",
          "data": {
            "text/plain": [
              "<Figure size 640x480 with 1 Axes>"
            ],
            "image/png": "[encoded data removed]"
          },
          "metadata": {}
        }
      ]
    },
    {
      "cell_type": "code",
      "source": [
        "print(\"Variance for predictions are :\",var1,\" \",var2)"
      ],
      "metadata": {
        "colab": {
          "base_uri": "https://localhost:8080/"
        },
        "id": "LnX2AsaNPz52",
        "outputId": "8bd0f760-7dbd-4c49-c695-6200ebc1099d"
      },
      "execution_count": 30,
      "outputs": [
        {
          "output_type": "stream",
          "name": "stdout",
          "text": [
            "Variance for predictions are : 0.03514174758511376   0.04637737851937697\n"
          ]
        }
      ]
    },
    {
      "cell_type": "markdown",
      "source": [
        "The Variance is measured against a suitable threshold to determine whether the predictions are confident or not."
      ],
      "metadata": {
        "id": "ouww2FKsfPVD"
      }
    }
  ]
}