{
  "cells": [
    {
      "cell_type": "code",
      "execution_count": 153,
      "metadata": {
        "id": "IdrA0p9wv225"
      },
      "outputs": [],
      "source": [
        "import numpy as np\n",
        "import glob\n",
        "import re\n",
        "import shutil\n",
        "import random\n",
        "import itertools\n",
        "import pandas as pd\n",
        "import tensorflow as tf\n",
        "import matplotlib.pyplot as plt\n",
        "\n",
        "from sklearn.preprocessing import StandardScaler"
      ]
    },
    {
      "cell_type": "code",
      "execution_count": 154,
      "metadata": {
        "colab": {
          "base_uri": "https://localhost:8080/"
        },
        "id": "04x3VxO6w3tB",
        "outputId": "af49f58c-875a-4e0b-a176-53b359ef1469"
      },
      "outputs": [
        {
          "output_type": "stream",
          "name": "stdout",
          "text": [
            "Archive:  /content/FINAL_DATASET.zip\n",
            "   creating: Dataset/SETA/\n",
            "  inflating: Dataset/SETA/healthy_open1.csv  \n",
            "  inflating: Dataset/SETA/healthy_open10.csv  \n",
            "  inflating: Dataset/SETA/healthy_open11.csv  \n",
            "  inflating: Dataset/SETA/healthy_open12.csv  \n",
            "  inflating: Dataset/SETA/healthy_open2.csv  \n",
            "  inflating: Dataset/SETA/healthy_open3.csv  \n",
            "  inflating: Dataset/SETA/healthy_open4.csv  \n",
            "  inflating: Dataset/SETA/healthy_open5.csv  \n",
            "  inflating: Dataset/SETA/healthy_open6.csv  \n",
            "  inflating: Dataset/SETA/healthy_open7.csv  \n",
            "  inflating: Dataset/SETA/healthy_open8.csv  \n",
            "  inflating: Dataset/SETA/healthy_open9.csv  \n",
            "   creating: Dataset/SETB/\n",
            "  inflating: Dataset/SETB/healthy_closed1.csv  \n",
            "  inflating: Dataset/SETB/healthy_closed10.csv  \n",
            "  inflating: Dataset/SETB/healthy_closed11.csv  \n",
            "  inflating: Dataset/SETB/healthy_closed12.csv  \n",
            "  inflating: Dataset/SETB/healthy_closed2.csv  \n",
            "  inflating: Dataset/SETB/healthy_closed3.csv  \n",
            "  inflating: Dataset/SETB/healthy_closed4.csv  \n",
            "  inflating: Dataset/SETB/healthy_closed5.csv  \n",
            "  inflating: Dataset/SETB/healthy_closed6.csv  \n",
            "  inflating: Dataset/SETB/healthy_closed7.csv  \n",
            "  inflating: Dataset/SETB/healthy_closed8.csv  \n",
            "  inflating: Dataset/SETB/healthy_closed9.csv  \n",
            "   creating: Dataset/SETC/\n",
            "  inflating: Dataset/SETC/alzeimer_open1.csv  \n",
            "  inflating: Dataset/SETC/alzeimer_open10.csv  \n",
            "  inflating: Dataset/SETC/alzeimer_open11.csv  \n",
            "  inflating: Dataset/SETC/alzeimer_open12.csv  \n",
            "  inflating: Dataset/SETC/alzeimer_open2.csv  \n",
            "  inflating: Dataset/SETC/alzeimer_open3.csv  \n",
            "  inflating: Dataset/SETC/alzeimer_open4.csv  \n",
            "  inflating: Dataset/SETC/alzeimer_open5.csv  \n",
            "  inflating: Dataset/SETC/alzeimer_open6.csv  \n",
            "  inflating: Dataset/SETC/alzeimer_open7.csv  \n",
            "  inflating: Dataset/SETC/alzeimer_open8.csv  \n",
            "  inflating: Dataset/SETC/alzeimer_open9.csv  \n",
            "   creating: Dataset/SETD/\n",
            "  inflating: Dataset/SETD/alzeimer_closed1.csv  \n",
            "  inflating: Dataset/SETD/alzeimer_closed10.csv  \n",
            "  inflating: Dataset/SETD/alzeimer_closed11.csv  \n",
            "  inflating: Dataset/SETD/alzeimer_closed12.csv  \n",
            "  inflating: Dataset/SETD/alzeimer_closed2.csv  \n",
            "  inflating: Dataset/SETD/alzeimer_closed3.csv  \n",
            "  inflating: Dataset/SETD/alzeimer_closed4.csv  \n",
            "  inflating: Dataset/SETD/alzeimer_closed5.csv  \n",
            "  inflating: Dataset/SETD/alzeimer_closed6.csv  \n",
            "  inflating: Dataset/SETD/alzeimer_closed7.csv  \n",
            "  inflating: Dataset/SETD/alzeimer_closed8.csv  \n",
            "  inflating: Dataset/SETD/alzeimer_closed9.csv  \n"
          ]
        }
      ],
      "source": [
        "!unzip /content/FINAL_DATASET.zip"
      ]
    },
    {
      "cell_type": "code",
      "execution_count": 155,
      "metadata": {
        "colab": {
          "base_uri": "https://localhost:8080/"
        },
        "id": "InW47HeDxhxg",
        "outputId": "8db9698e-6c09-4779-e371-0dabc9df1a7e"
      },
      "outputs": [
        {
          "output_type": "execute_result",
          "data": {
            "text/plain": [
              "['/content/Dataset/SETA/healthy_open8.csv',\n",
              " '/content/Dataset/SETA/healthy_open2.csv',\n",
              " '/content/Dataset/SETA/healthy_open1.csv',\n",
              " '/content/Dataset/SETA/healthy_open5.csv',\n",
              " '/content/Dataset/SETA/healthy_open9.csv',\n",
              " '/content/Dataset/SETA/healthy_open3.csv',\n",
              " '/content/Dataset/SETA/healthy_open12.csv',\n",
              " '/content/Dataset/SETA/healthy_open10.csv',\n",
              " '/content/Dataset/SETA/healthy_open7.csv',\n",
              " '/content/Dataset/SETA/healthy_open6.csv',\n",
              " '/content/Dataset/SETA/healthy_open11.csv',\n",
              " '/content/Dataset/SETA/healthy_open4.csv',\n",
              " '/content/Dataset/SETC/alzeimer_open12.csv',\n",
              " '/content/Dataset/SETC/alzeimer_open9.csv',\n",
              " '/content/Dataset/SETC/alzeimer_open2.csv',\n",
              " '/content/Dataset/SETC/alzeimer_open8.csv',\n",
              " '/content/Dataset/SETC/alzeimer_open5.csv',\n",
              " '/content/Dataset/SETC/alzeimer_open6.csv',\n",
              " '/content/Dataset/SETC/alzeimer_open7.csv',\n",
              " '/content/Dataset/SETC/alzeimer_open3.csv',\n",
              " '/content/Dataset/SETC/alzeimer_open1.csv',\n",
              " '/content/Dataset/SETC/alzeimer_open10.csv',\n",
              " '/content/Dataset/SETC/alzeimer_open11.csv',\n",
              " '/content/Dataset/SETC/alzeimer_open4.csv',\n",
              " '/content/Dataset/SETD/alzeimer_closed11.csv',\n",
              " '/content/Dataset/SETD/alzeimer_closed3.csv',\n",
              " '/content/Dataset/SETD/alzeimer_closed5.csv',\n",
              " '/content/Dataset/SETD/alzeimer_closed9.csv',\n",
              " '/content/Dataset/SETD/alzeimer_closed8.csv',\n",
              " '/content/Dataset/SETD/alzeimer_closed12.csv',\n",
              " '/content/Dataset/SETD/alzeimer_closed10.csv',\n",
              " '/content/Dataset/SETD/alzeimer_closed2.csv',\n",
              " '/content/Dataset/SETD/alzeimer_closed6.csv',\n",
              " '/content/Dataset/SETD/alzeimer_closed1.csv',\n",
              " '/content/Dataset/SETD/alzeimer_closed7.csv',\n",
              " '/content/Dataset/SETD/alzeimer_closed4.csv',\n",
              " '/content/Dataset/SETB/healthy_closed6.csv',\n",
              " '/content/Dataset/SETB/healthy_closed10.csv',\n",
              " '/content/Dataset/SETB/healthy_closed2.csv',\n",
              " '/content/Dataset/SETB/healthy_closed12.csv',\n",
              " '/content/Dataset/SETB/healthy_closed4.csv',\n",
              " '/content/Dataset/SETB/healthy_closed1.csv',\n",
              " '/content/Dataset/SETB/healthy_closed11.csv',\n",
              " '/content/Dataset/SETB/healthy_closed3.csv',\n",
              " '/content/Dataset/SETB/healthy_closed7.csv',\n",
              " '/content/Dataset/SETB/healthy_closed5.csv',\n",
              " '/content/Dataset/SETB/healthy_closed9.csv',\n",
              " '/content/Dataset/SETB/healthy_closed8.csv']"
            ]
          },
          "metadata": {},
          "execution_count": 155
        }
      ],
      "source": [
        "files = glob.glob(\"/content/Dataset/*/*\")\n",
        "files"
      ]
    },
    {
      "cell_type": "code",
      "source": [
        "def clean(path):\n",
        "    df = pd.read_csv(path)\n",
        "    \n",
        "    for column in df.columns:\n",
        "        if df[column].dtype == 'object':\n",
        "            print(\"Sample : \",path,\" feature : \",column,\" is uncleaned\")\n",
        "            df[column] = pd.to_numeric(df[column], errors='coerce')\n",
        "            df[column] = df[column].fillna(method='ffill')\n",
        "            df[column] = df[column].fillna(method='bfill')\n",
        "    df = df.iloc[:1024,:]\n",
        "\n",
        "    while df.isnull().sum().values.sum() != 0:\n",
        "        print(\"Sample : \",path,\"getting cleaned\")\n",
        "        df = df.fillna(method = 'ffill')\n",
        "        df = df.fillna(method = 'bfill')\n",
        "    df.to_csv(path, index=False)\n",
        "     \n",
        "for i in files:\n",
        "    clean(i)"
      ],
      "metadata": {
        "colab": {
          "base_uri": "https://localhost:8080/"
        },
        "id": "54vhqsZcZ6-_",
        "outputId": "66f742ee-2d7d-447d-a0d5-8566cf55bb42"
      },
      "execution_count": 156,
      "outputs": [
        {
          "output_type": "stream",
          "name": "stdout",
          "text": [
            "Sample :  /content/Dataset/SETA/healthy_open2.csv  feature :  16  is uncleaned\n",
            "Sample :  /content/Dataset/SETA/healthy_open11.csv  feature :  14  is uncleaned\n",
            "Sample :  /content/Dataset/SETC/alzeimer_open8.csv  feature :  0  is uncleaned\n",
            "Sample :  /content/Dataset/SETC/alzeimer_open8.csv getting cleaned\n",
            "Sample :  /content/Dataset/SETC/alzeimer_open5.csv  feature :  0  is uncleaned\n",
            "Sample :  /content/Dataset/SETC/alzeimer_open5.csv getting cleaned\n",
            "Sample :  /content/Dataset/SETC/alzeimer_open6.csv  feature :  0  is uncleaned\n",
            "Sample :  /content/Dataset/SETC/alzeimer_open6.csv getting cleaned\n",
            "Sample :  /content/Dataset/SETC/alzeimer_open10.csv  feature :  0  is uncleaned\n",
            "Sample :  /content/Dataset/SETC/alzeimer_open10.csv getting cleaned\n",
            "Sample :  /content/Dataset/SETD/alzeimer_closed12.csv  feature :  18  is uncleaned\n",
            "Sample :  /content/Dataset/SETB/healthy_closed6.csv  feature :  14  is uncleaned\n",
            "Sample :  /content/Dataset/SETB/healthy_closed2.csv  feature :  16  is uncleaned\n"
          ]
        }
      ]
    },
    {
      "cell_type": "code",
      "execution_count": 157,
      "metadata": {
        "colab": {
          "base_uri": "https://localhost:8080/"
        },
        "id": "L-jyKXC3Udl7",
        "outputId": "7bfb2770-157c-4e28-b7df-929e18c84a7b"
      },
      "outputs": [
        {
          "output_type": "execute_result",
          "data": {
            "text/plain": [
              "48"
            ]
          },
          "metadata": {},
          "execution_count": 157
        }
      ],
      "source": [
        "len(files)"
      ]
    },
    {
      "cell_type": "code",
      "execution_count": 203,
      "metadata": {
        "id": "9xBmUGrH1hhb"
      },
      "outputs": [],
      "source": [
        "train = []\n",
        "test = []\n",
        "val = []\n",
        "pairs = list(itertools.combinations(files,2))"
      ]
    },
    {
      "cell_type": "code",
      "execution_count": 204,
      "metadata": {
        "colab": {
          "base_uri": "https://localhost:8080/"
        },
        "id": "L5NzoxH9UMHC",
        "outputId": "1fa1941e-b5ba-4851-d552-468e4d52c547"
      },
      "outputs": [
        {
          "output_type": "execute_result",
          "data": {
            "text/plain": [
              "1128"
            ]
          },
          "metadata": {},
          "execution_count": 204
        }
      ],
      "source": [
        "len(pairs)"
      ]
    },
    {
      "cell_type": "code",
      "execution_count": 205,
      "metadata": {
        "id": "sxc4L-tX7bz8"
      },
      "outputs": [],
      "source": [
        "def to_numeric(csv):\n",
        "    data = pd.read_csv(csv).values\n",
        "    return data"
      ]
    },
    {
      "cell_type": "code",
      "execution_count": 206,
      "metadata": {
        "id": "A9jYLwY33IZ2"
      },
      "outputs": [],
      "source": [
        "def assemble_pairs(pair):\n",
        "    for i in range(len(pair)):\n",
        "        sample = list(pair[i])\n",
        "        x1 = sample[0]\n",
        "        x2 = sample[1]\n",
        "        if \"closed\" in x1:\n",
        "            sample.append(0)\n",
        "        elif \"open\" in x1:\n",
        "            sample.append(1) \n",
        "        if \"closed\" in x2:\n",
        "            sample.append(0)\n",
        "        elif \"open\" in x2:\n",
        "            sample.append(1)    \n",
        "        \n",
        "        if (\"healthy\" in x1 and \"healthy\" in x2) or (\"alzeimer\" in x1 and \"alzeimer\" in x2):\n",
        "            sample.append(0)\n",
        "        else:\n",
        "            sample.append(1)    \n",
        "\n",
        "        sample[0] = to_numeric(x1)\n",
        "        sample[1] = to_numeric(x2)\n",
        "\n",
        "        pair[i] = sample   \n",
        "    return pair      \n",
        "     "
      ]
    },
    {
      "cell_type": "code",
      "execution_count": 207,
      "metadata": {
        "id": "_TUbYd_F5HS7"
      },
      "outputs": [],
      "source": [
        "pairs = assemble_pairs(pairs)"
      ]
    },
    {
      "cell_type": "code",
      "execution_count": 208,
      "metadata": {
        "colab": {
          "base_uri": "https://localhost:8080/"
        },
        "id": "IqNDN7NZ_ize",
        "outputId": "04278cbd-ac61-4e1c-f583-26bb225cec65"
      },
      "outputs": [
        {
          "output_type": "execute_result",
          "data": {
            "text/plain": [
              "1128"
            ]
          },
          "metadata": {},
          "execution_count": 208
        }
      ],
      "source": [
        "len(pairs)"
      ]
    },
    {
      "cell_type": "code",
      "execution_count": 209,
      "metadata": {
        "id": "1KxCt8RtaX7P"
      },
      "outputs": [],
      "source": [
        "random.shuffle(pairs)"
      ]
    },
    {
      "cell_type": "code",
      "execution_count": 210,
      "metadata": {
        "id": "ycC1GOGVaw1A"
      },
      "outputs": [],
      "source": [
        "train = pairs[:700]\n",
        "test = pairs[700:850]\n",
        "val = pairs[850:]"
      ]
    },
    {
      "cell_type": "code",
      "execution_count": 211,
      "metadata": {
        "colab": {
          "base_uri": "https://localhost:8080/"
        },
        "id": "vbq6h4dIbQB6",
        "outputId": "4a057f11-c2f2-40c3-a951-21ccec47b94c"
      },
      "outputs": [
        {
          "output_type": "execute_result",
          "data": {
            "text/plain": [
              "(700, 278, 150)"
            ]
          },
          "metadata": {},
          "execution_count": 211
        }
      ],
      "source": [
        "len(train),len(val),len(test)"
      ]
    },
    {
      "cell_type": "code",
      "execution_count": 167,
      "metadata": {
        "id": "fQOtRRfMPlgg"
      },
      "outputs": [],
      "source": [
        "def serialize(wave1,wave2,state,diff):\n",
        "    feature = {\n",
        "        'wave1':tf.train.Feature(bytes_list = tf.train.BytesList(value = [wave1.numpy()])),\n",
        "        'wave2':tf.train.Feature(bytes_list = tf.train.BytesList(value = [wave2.numpy()])),\n",
        "        'state':tf.train.Feature(bytes_list = tf.train.BytesList(value = [state.numpy()])),\n",
        "        'diff':tf.train.Feature(bytes_list = tf.train.BytesList(value = [diff.numpy()]))\n",
        "    }\n",
        "    example = tf.train.Example(features = tf.train.Features(feature = feature))\n",
        "    return example.SerializeToString()"
      ]
    },
    {
      "cell_type": "code",
      "execution_count": 168,
      "metadata": {
        "id": "27WPQQ60JihY"
      },
      "outputs": [],
      "source": [
        "def store_records(pairs,name):\n",
        "    with tf.io.TFRecordWriter(\"/content/\"+name,options=tf.io.TFRecordOptions(compression_type=\"GZIP\")) as writer:\n",
        "        for sample in pairs:\n",
        "            x1 = tf.io.serialize_tensor(sample[0].astype(np.float32))\n",
        "            x2 = tf.io.serialize_tensor(sample[1].astype(np.float32))\n",
        "            state = tf.io.serialize_tensor(np.array([sample[2],sample[3]]).astype(np.float32))\n",
        "            output = tf.io.serialize_tensor(np.array([sample[4]]).astype(np.float32))\n",
        "            serialized = serialize(x1,x2,state,output)\n",
        "            writer.write(serialized)\n",
        "\n",
        "store_records(train,\"train_rec\")\n",
        "store_records(test,\"test_rec\")\n",
        "store_records(val,\"val_rec\")"
      ]
    },
    {
      "cell_type": "code",
      "execution_count": 169,
      "metadata": {
        "id": "ZL-OzMJpYqlu"
      },
      "outputs": [],
      "source": [
        "def parser(example):\n",
        "    feature = {\n",
        "        'wave1':tf.io.FixedLenFeature([],tf.string),\n",
        "        'wave2':tf.io.FixedLenFeature([],tf.string),\n",
        "        'state':tf.io.FixedLenFeature([],tf.string),\n",
        "        'diff':tf.io.FixedLenFeature([],tf.string),\n",
        "    }\n",
        "    feature = tf.io.parse_single_example(example,feature)\n",
        "\n",
        "    wave1 = tf.io.parse_tensor(feature['wave1'],out_type = tf.float32)\n",
        "    wave1 = tf.reshape(wave1,(1024,19))\n",
        "\n",
        "    wave2 = tf.io.parse_tensor(feature['wave2'],out_type = tf.float32)\n",
        "    wave2 = tf.reshape(wave2,(1024,19))\n",
        "\n",
        "    state = tf.io.parse_tensor(feature['state'],out_type = tf.float32)\n",
        "    state = tf.reshape(state,(2,))\n",
        "\n",
        "    diff = tf.io.parse_tensor(feature['diff'],out_type = tf.float32)\n",
        "    diff = tf.reshape(diff,(1,))\n",
        "\n",
        "    \n",
        "    return {'wave1':wave1,'wave2':wave2,'state':state},{'difference':diff}\n"
      ]
    },
    {
      "cell_type": "code",
      "execution_count": 170,
      "metadata": {
        "id": "QfthbSPheFrY"
      },
      "outputs": [],
      "source": [
        "batch_size = 8"
      ]
    },
    {
      "cell_type": "code",
      "execution_count": 171,
      "metadata": {
        "id": "mttslB78Zjn9"
      },
      "outputs": [],
      "source": [
        "def get_ds(ds):\n",
        "    ds = tf.data.TFRecordDataset(ds,compression_type = \"GZIP\")\n",
        "    ds = ds.map(parser,num_parallel_calls = tf.data.experimental.AUTOTUNE)\n",
        "    ds = ds.shuffle(buffer_size = 300)\n",
        "    ds = ds.batch(batch_size,drop_remainder = True)\n",
        "    ds = ds.prefetch(buffer_size = tf.data.experimental.AUTOTUNE)\n",
        "    return ds"
      ]
    },
    {
      "cell_type": "code",
      "execution_count": 172,
      "metadata": {
        "id": "6jZzV3EvZ1IB"
      },
      "outputs": [],
      "source": [
        "train_ds = get_ds(\"/content/train_rec\")\n",
        "test_ds = get_ds(\"/content/test_rec\")\n",
        "val_ds = get_ds(\"/content/val_rec\")"
      ]
    },
    {
      "cell_type": "code",
      "execution_count": 173,
      "metadata": {
        "colab": {
          "base_uri": "https://localhost:8080/"
        },
        "id": "GEUB7C5LcmW3",
        "outputId": "7ad4c867-e3da-48f4-c8b2-c913a918e4ab"
      },
      "outputs": [
        {
          "output_type": "execute_result",
          "data": {
            "text/plain": [
              "<_PrefetchDataset element_spec=({'wave1': TensorSpec(shape=(8, 1024, 19), dtype=tf.float32, name=None), 'wave2': TensorSpec(shape=(8, 1024, 19), dtype=tf.float32, name=None), 'state': TensorSpec(shape=(8, 2), dtype=tf.float32, name=None)}, {'difference': TensorSpec(shape=(8, 1), dtype=tf.float32, name=None)})>"
            ]
          },
          "metadata": {},
          "execution_count": 173
        }
      ],
      "source": [
        "train_ds"
      ]
    },
    {
      "cell_type": "code",
      "execution_count": 174,
      "metadata": {
        "id": "2fowGTQ7duiu"
      },
      "outputs": [],
      "source": [
        "def wave_downsample():\n",
        "    input = tf.keras.Input(batch_size = batch_size,shape = (1024,19))\n",
        "    output = tf.keras.layers.LSTM(8,return_sequences = True)(input)\n",
        "    output = tf.keras.layers.Dense(1)(output)\n",
        "    output = tf.keras.layers.Flatten()(output)\n",
        "    output = tf.keras.layers.Dense(10)(output)\n",
        "    model = tf.keras.Model(inputs = [input],outputs = [output])\n",
        "    return model"
      ]
    },
    {
      "cell_type": "code",
      "execution_count": 175,
      "metadata": {
        "id": "ngsnzumhhUXw"
      },
      "outputs": [],
      "source": [
        "class SQD(tf.keras.layers.Layer):\n",
        "    def __init__(self):\n",
        "        super(SQD, self).__init__()\n",
        "\n",
        "    def call(self, inputs):\n",
        "        x, y = inputs\n",
        "        diff = tf.subtract(x, y)\n",
        "        return tf.square(diff)\n",
        "    "
      ]
    },
    {
      "cell_type": "code",
      "execution_count": 213,
      "metadata": {
        "id": "zbMfgrrofwsx"
      },
      "outputs": [],
      "source": [
        "def get_model():\n",
        "    wave1 = tf.keras.Input(batch_size = batch_size,shape = (1024,19),name = 'wave1')\n",
        "    wave2 = tf.keras.Input(batch_size = batch_size,shape = (1024,19),name = 'wave2')\n",
        "    state = tf.keras.Input(batch_size = batch_size,shape = (2,),name = 'state')\n",
        "    \n",
        "    output1 = tf.keras.layers.BatchNormalization()(wave1)\n",
        "    output2 = tf.keras.layers.BatchNormalization()(wave2)\n",
        "\n",
        "    down_sampler = wave_downsample()\n",
        "    output1 = down_sampler(output1)\n",
        "    output2 = down_sampler(output2)\n",
        "\n",
        "    output = SQD()([output1,output2])\n",
        "    output = tf.keras.layers.concatenate([output,state])\n",
        "    output = tf.keras.layers.Dense(5)(output)\n",
        "    output = tf.keras.layers.Dense(1,activation = 'sigmoid',name = 'difference',activity_regularizer = tf.keras.regularizers.L2(1e-5) )(output)\n",
        "    \n",
        "    model = tf.keras.Model(inputs = [wave1,wave2,state],outputs = [output],name = 'FewShot')\n",
        "    return model"
      ]
    },
    {
      "cell_type": "code",
      "execution_count": 214,
      "metadata": {
        "id": "W4NepWp2j_ZU"
      },
      "outputs": [],
      "source": [
        "model = get_model()"
      ]
    },
    {
      "cell_type": "code",
      "execution_count": 215,
      "metadata": {
        "colab": {
          "base_uri": "https://localhost:8080/"
        },
        "id": "4YfJ-6dnkBfJ",
        "outputId": "e42f1b9d-16a0-424c-c1ba-e0731349576f"
      },
      "outputs": [
        {
          "output_type": "stream",
          "name": "stdout",
          "text": [
            "Model: \"FewShot\"\n",
            "__________________________________________________________________________________________________\n",
            " Layer (type)                   Output Shape         Param #     Connected to                     \n",
            "==================================================================================================\n",
            " wave1 (InputLayer)             [(8, 1024, 19)]      0           []                               \n",
            "                                                                                                  \n",
            " wave2 (InputLayer)             [(8, 1024, 19)]      0           []                               \n",
            "                                                                                                  \n",
            " batch_normalization_8 (BatchNo  (8, 1024, 19)       76          ['wave1[0][0]']                  \n",
            " rmalization)                                                                                     \n",
            "                                                                                                  \n",
            " batch_normalization_9 (BatchNo  (8, 1024, 19)       76          ['wave2[0][0]']                  \n",
            " rmalization)                                                                                     \n",
            "                                                                                                  \n",
            " model_4 (Functional)           (8, 10)              11155       ['batch_normalization_8[0][0]',  \n",
            "                                                                  'batch_normalization_9[0][0]']  \n",
            "                                                                                                  \n",
            " sqd_4 (SQD)                    (8, 10)              0           ['model_4[0][0]',                \n",
            "                                                                  'model_4[1][0]']                \n",
            "                                                                                                  \n",
            " state (InputLayer)             [(8, 2)]             0           []                               \n",
            "                                                                                                  \n",
            " concatenate_4 (Concatenate)    (8, 12)              0           ['sqd_4[0][0]',                  \n",
            "                                                                  'state[0][0]']                  \n",
            "                                                                                                  \n",
            " dense_14 (Dense)               (8, 5)               65          ['concatenate_4[0][0]']          \n",
            "                                                                                                  \n",
            " difference (Dense)             (8, 1)               6           ['dense_14[0][0]']               \n",
            "                                                                                                  \n",
            "==================================================================================================\n",
            "Total params: 11,378\n",
            "Trainable params: 11,302\n",
            "Non-trainable params: 76\n",
            "__________________________________________________________________________________________________\n"
          ]
        }
      ],
      "source": [
        "model.summary()"
      ]
    },
    {
      "cell_type": "code",
      "execution_count": 179,
      "metadata": {
        "colab": {
          "base_uri": "https://localhost:8080/",
          "height": 754
        },
        "id": "tB6Pkt32kePR",
        "outputId": "02121874-5094-4c3a-dc6c-38648ab50091"
      },
      "outputs": [
        {
          "output_type": "execute_result",
          "data": {
            "image/png": "[encoded data removed]",
            "text/plain": [
              "<IPython.core.display.Image object>"
            ]
          },
          "metadata": {},
          "execution_count": 179
        }
      ],
      "source": [
        "tf.keras.utils.plot_model(model,show_shapes = True,show_layer_names = True)"
      ]
    },
    {
      "cell_type": "code",
      "execution_count": 216,
      "metadata": {
        "id": "ZFeNr2NllpFa"
      },
      "outputs": [],
      "source": [
        "model.compile(optimizer = tf.keras.optimizers.Adam(clipvalue=0.5),loss = 'binary_crossentropy',metrics = 'accuracy')"
      ]
    },
    {
      "cell_type": "code",
      "execution_count": 217,
      "metadata": {
        "colab": {
          "base_uri": "https://localhost:8080/"
        },
        "id": "ZpfOJSrwlxQU",
        "outputId": "f7603eb4-3f22-47d7-fbad-d4b0557e2579"
      },
      "outputs": [
        {
          "output_type": "stream",
          "name": "stdout",
          "text": [
            "Epoch 1/5\n",
            "87/87 [==============================] - 12s 66ms/step - loss: 0.9907 - accuracy: 0.5029 - val_loss: 0.6277 - val_accuracy: 0.5919\n",
            "Epoch 2/5\n",
            "87/87 [==============================] - 8s 88ms/step - loss: 0.3631 - accuracy: 0.8348 - val_loss: 0.0964 - val_accuracy: 0.9926\n",
            "Epoch 3/5\n",
            "87/87 [==============================] - 7s 72ms/step - loss: 0.0498 - accuracy: 0.9957 - val_loss: 0.0198 - val_accuracy: 1.0000\n",
            "Epoch 4/5\n",
            "87/87 [==============================] - 7s 83ms/step - loss: 0.0530 - accuracy: 0.9828 - val_loss: 0.0247 - val_accuracy: 0.9926\n",
            "Epoch 5/5\n",
            "87/87 [==============================] - 5s 60ms/step - loss: 0.0330 - accuracy: 0.9914 - val_loss: 0.0139 - val_accuracy: 0.9963\n"
          ]
        },
        {
          "output_type": "execute_result",
          "data": {
            "text/plain": [
              "<keras.callbacks.History at 0x7f47879d1660>"
            ]
          },
          "metadata": {},
          "execution_count": 217
        }
      ],
      "source": [
        "model.fit(train_ds,epochs = 5,validation_data = val_ds)"
      ]
    },
    {
      "cell_type": "code",
      "source": [
        "model.evaluate(test_ds)"
      ],
      "metadata": {
        "colab": {
          "base_uri": "https://localhost:8080/"
        },
        "id": "z2akAk6fdMLX",
        "outputId": "4fa5028a-e0af-4c79-fd15-784485ed502c"
      },
      "execution_count": 218,
      "outputs": [
        {
          "output_type": "stream",
          "name": "stdout",
          "text": [
            "18/18 [==============================] - 1s 27ms/step - loss: 0.0361 - accuracy: 0.9861\n"
          ]
        },
        {
          "output_type": "execute_result",
          "data": {
            "text/plain": [
              "[0.03609884902834892, 0.9861111044883728]"
            ]
          },
          "metadata": {},
          "execution_count": 218
        }
      ]
    }
  ],
  "metadata": {
    "colab": {
      "provenance": [],
      "mount_file_id": "1JVmDCntnjRFHiuYRzHnuVj-uEpGh5Bv-",
      "authorship_tag": "ABX9TyO7Org2+abSYBj/TNCl9XFG"
    },
    "gpuClass": "standard",
    "kernelspec": {
      "display_name": "Python 3",
      "name": "python3"
    },
    "language_info": {
      "name": "python"
    },
    "accelerator": "GPU"
  },
  "nbformat": 4,
  "nbformat_minor": 0
}